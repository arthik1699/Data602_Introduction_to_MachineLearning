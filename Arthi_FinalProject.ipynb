{
  "cells": [
    {
      "cell_type": "markdown",
      "source": [
        "#Project Title - Student Performance Prediction\n",
        "##Name - Arthi Komma\n",
        "##Campus id - GF89659"
      ],
      "metadata": {
        "id": "N3-fBZfwvj0T"
      },
      "id": "N3-fBZfwvj0T"
    },
    {
      "cell_type": "markdown",
      "id": "ebeccac2",
      "metadata": {
        "papermill": {
          "duration": 0.010151,
          "end_time": "2023-04-15T14:31:54.165057",
          "exception": false,
          "start_time": "2023-04-15T14:31:54.154906",
          "status": "completed"
        },
        "tags": [],
        "id": "ebeccac2"
      },
      "source": [
        "<a id=\"1\"></a>\n",
        "# <div style=\"padding:20px;color:white;margin:0;font-size:35px;font-family:Georgia;text-align:left;display:fill;border-radius:5px;background-color:#254E58;overflow:hidden\"><b>Introduction</b></div>"
      ]
    },
    {
      "cell_type": "markdown",
      "id": "cf78605b",
      "metadata": {
        "papermill": {
          "duration": 0.011851,
          "end_time": "2023-04-15T14:31:54.187353",
          "exception": false,
          "start_time": "2023-04-15T14:31:54.175502",
          "status": "completed"
        },
        "tags": [],
        "id": "cf78605b"
      },
      "source": [
        "<a id=\"1.2\"></a>\n",
        "<h2 style=\"font-family: Verdana; font-size: 25px; font-style: normal; font-weight: normal; text-decoration: none; text-transform: none; letter-spacing: 2px; color: #155D07; background-color: #ffffff;\"><b>Problem</b> statement"
      ]
    },
    {
      "cell_type": "markdown",
      "id": "d5d0bc5d",
      "metadata": {
        "papermill": {
          "duration": 0.00986,
          "end_time": "2023-04-15T14:31:54.207457",
          "exception": false,
          "start_time": "2023-04-15T14:31:54.197597",
          "status": "completed"
        },
        "tags": [],
        "id": "d5d0bc5d"
      },
      "source": [
        "\n",
        "The problem of analyzing the performance of high school students in mathematics is a common one, as it is important to understand how well students are learning the subject and how different factors such as demographics and socioeconomic status can impact their performance. By examining the grades and demographic information of students, educators and policymakers can identify areas of improvement and develop targeted interventions to support students who may be struggling.\n",
        "\n",
        "There are many different aspects of mathematics performance that can be analyzed, such as test scores, grades, and other measures of academic achievement. Additionally, it is important to consider the context in which students are learning, including factors such as the quality of instruction, school resources, and family support.\n",
        "\n",
        "Demographic information can also provide valuable insights into mathematics performance, as certain groups of students may face unique challenges or barriers to success. For example, research has shown that students from low-income families or underrepresented minority groups may be less likely to have access to high-quality mathematics instruction or resources outside of school. By analyzing the intersection of demographics and mathematics performance, educators and policymakers can identify areas where additional support or resources may be needed to ensure that all students have an equal opportunity to succeed.\n",
        "\n",
        "Overall, analyzing the performance of high school students in mathematics is a complex and multifaceted task that requires careful consideration of a wide range of factors. By taking a holistic approach that incorporates both academic and demographic information, stakeholders can gain a better understanding of the challenges and opportunities facing students in this critical subject area.\n",
        "</span>"
      ]
    },
    {
      "cell_type": "markdown",
      "id": "f9c873cb",
      "metadata": {
        "papermill": {
          "duration": 0.009875,
          "end_time": "2023-04-15T14:31:54.227666",
          "exception": false,
          "start_time": "2023-04-15T14:31:54.217791",
          "status": "completed"
        },
        "tags": [],
        "id": "f9c873cb"
      },
      "source": [
        "<a id=\"1.2\"></a>\n",
        "<h2 style=\"font-family: Verdana; font-size: 25px; font-style: normal; font-weight: normal; text-decoration: none; text-transform: none; letter-spacing: 2px; color: #155D07; background-color: #ffffff;\"><b>Data</b> description"
      ]
    },
    {
      "cell_type": "markdown",
      "id": "3baadb9d",
      "metadata": {
        "papermill": {
          "duration": 0.010256,
          "end_time": "2023-04-15T14:31:54.248209",
          "exception": false,
          "start_time": "2023-04-15T14:31:54.237953",
          "status": "completed"
        },
        "tags": [],
        "id": "3baadb9d"
      },
      "source": [
        "<span style=\"font-size:14px; font-family:Verdana;\"> \n",
        "This dataset contains information on the performance of high school students in mathematics, including their grades and demographic information. The data was collected from three high schools in the United States.\n",
        "\"This dataset was created for educational purposes and was generated, not collected from actual data sources.\"<br>\n",
        "Features: <br>\n",
        "\n",
        "* <b>Gender:</b> The gender of the student (male/female)\n",
        "* <b>Race/ethnicity:</b> The student's racial or ethnic background (Asian, African-American, Hispanic, etc.)\n",
        "* <b>Parental level of education:</b> The highest level of education attained by the student's parent(s) or guardian(s)\n",
        "* <b>Lunch:</b> Whether the student receives free or reduced-price lunch (yes/no)\n",
        "* <b>Test preparation course:</b> Whether the student completed a test preparation course (yes/no)\n",
        "* <b>Math score:</b> The student's score on a standardized mathematics test\n",
        "* <b>Reading score:</b> The student's score on a standardized reading test\n",
        "* <b>Writing score:</b> The student's score on a standardized writing test\n",
        "</span>"
      ]
    },
    {
      "cell_type": "markdown",
      "id": "0b838edc",
      "metadata": {
        "papermill": {
          "duration": 0.009986,
          "end_time": "2023-04-15T14:31:54.268513",
          "exception": false,
          "start_time": "2023-04-15T14:31:54.258527",
          "status": "completed"
        },
        "tags": [],
        "id": "0b838edc"
      },
      "source": [
        "<a id=\"1\"></a>\n",
        "# <div style=\"padding:20px;color:white;margin:0;font-size:35px;font-family:Georgia;text-align:left;display:fill;border-radius:5px;background-color:#254E58;overflow:hidden\"><b>Import Libraries</b></div>"
      ]
    },
    {
      "cell_type": "code",
      "execution_count": 47,
      "id": "8de7d059",
      "metadata": {
        "execution": {
          "iopub.execute_input": "2023-04-15T14:31:54.292052Z",
          "iopub.status.busy": "2023-04-15T14:31:54.291612Z",
          "iopub.status.idle": "2023-04-15T14:31:57.435791Z",
          "shell.execute_reply": "2023-04-15T14:31:57.434046Z"
        },
        "papermill": {
          "duration": 3.159444,
          "end_time": "2023-04-15T14:31:57.438898",
          "exception": false,
          "start_time": "2023-04-15T14:31:54.279454",
          "status": "completed"
        },
        "tags": [],
        "id": "8de7d059"
      },
      "outputs": [],
      "source": [
        "import pandas as pd\n",
        "import numpy as np\n",
        "pd.plotting.register_matplotlib_converters()\n",
        "import matplotlib\n",
        "import matplotlib.pyplot as plt\n",
        "%matplotlib inline\n",
        "import seaborn as sns\n",
        "import plotly.express as px\n",
        "\n",
        "\n",
        "from sklearn.metrics import accuracy_score\n",
        "from sklearn.model_selection import train_test_split\n",
        "from sklearn.model_selection import cross_val_score, GridSearchCV\n",
        "from sklearn.linear_model import LogisticRegression\n",
        "from sklearn.tree import DecisionTreeClassifier\n",
        "from sklearn.ensemble import RandomForestClassifier\n",
        "\n",
        "from sklearn.preprocessing import OneHotEncoder\n",
        "from sklearn.preprocessing import LabelEncoder\n",
        "from sklearn.preprocessing import StandardScaler\n",
        "from sklearn.compose import ColumnTransformer\n",
        "from sklearn.linear_model import LogisticRegression\n",
        "from sklearn.linear_model import SGDClassifier\n",
        "from sklearn.naive_bayes import GaussianNB\n",
        "from sklearn import set_config\n",
        "from sklearn.pipeline import make_pipeline\n",
        "from sklearn.metrics import accuracy_score\n",
        "from sklearn.model_selection import cross_validate"
      ]
    },
    {
      "cell_type": "markdown",
      "id": "bea28054",
      "metadata": {
        "papermill": {
          "duration": 0.010087,
          "end_time": "2023-04-15T14:31:57.459463",
          "exception": false,
          "start_time": "2023-04-15T14:31:57.449376",
          "status": "completed"
        },
        "tags": [],
        "id": "bea28054"
      },
      "source": [
        "<a id=\"1\"></a>\n",
        "# <div style=\"padding:20px;color:white;margin:0;font-size:35px;font-family:Georgia;text-align:left;display:fill;border-radius:5px;background-color:#254E58;overflow:hidden\"><b>Basic Exploration</b></div>"
      ]
    },
    {
      "cell_type": "markdown",
      "id": "cd072add",
      "metadata": {
        "papermill": {
          "duration": 0.010186,
          "end_time": "2023-04-15T14:31:57.479820",
          "exception": false,
          "start_time": "2023-04-15T14:31:57.469634",
          "status": "completed"
        },
        "tags": [],
        "id": "cd072add"
      },
      "source": [
        "## Reading dataset"
      ]
    },
    {
      "cell_type": "code",
      "execution_count": 2,
      "id": "5023d67d",
      "metadata": {
        "execution": {
          "iopub.execute_input": "2023-04-15T14:31:57.534296Z",
          "iopub.status.busy": "2023-04-15T14:31:57.533242Z",
          "iopub.status.idle": "2023-04-15T14:31:57.556415Z",
          "shell.execute_reply": "2023-04-15T14:31:57.555275Z"
        },
        "papermill": {
          "duration": 0.03788,
          "end_time": "2023-04-15T14:31:57.559281",
          "exception": false,
          "start_time": "2023-04-15T14:31:57.521401",
          "status": "completed"
        },
        "tags": [],
        "id": "5023d67d"
      },
      "outputs": [],
      "source": [
        "data = pd.read_csv('/content/sample_data/exams.csv')"
      ]
    },
    {
      "cell_type": "markdown",
      "id": "bffd1066",
      "metadata": {
        "papermill": {
          "duration": 0.010792,
          "end_time": "2023-04-15T14:31:57.580492",
          "exception": false,
          "start_time": "2023-04-15T14:31:57.569700",
          "status": "completed"
        },
        "tags": [],
        "id": "bffd1066"
      },
      "source": [
        "##Data Processing"
      ]
    },
    {
      "cell_type": "code",
      "execution_count": 3,
      "id": "6350bf6f",
      "metadata": {
        "execution": {
          "iopub.execute_input": "2023-04-15T14:31:57.603569Z",
          "iopub.status.busy": "2023-04-15T14:31:57.602796Z",
          "iopub.status.idle": "2023-04-15T14:31:57.632804Z",
          "shell.execute_reply": "2023-04-15T14:31:57.631407Z"
        },
        "papermill": {
          "duration": 0.044734,
          "end_time": "2023-04-15T14:31:57.635582",
          "exception": false,
          "start_time": "2023-04-15T14:31:57.590848",
          "status": "completed"
        },
        "tags": [],
        "colab": {
          "base_uri": "https://localhost:8080/",
          "height": 206
        },
        "id": "6350bf6f",
        "outputId": "556adc78-f472-47b3-9513-5335c5537968"
      },
      "outputs": [
        {
          "output_type": "execute_result",
          "data": {
            "text/plain": [
              "   gender race/ethnicity parental level of education         lunch  \\\n",
              "0  female        group D                some college      standard   \n",
              "1    male        group D          associate's degree      standard   \n",
              "2  female        group D                some college  free/reduced   \n",
              "3    male        group B                some college  free/reduced   \n",
              "4  female        group D          associate's degree      standard   \n",
              "\n",
              "  test preparation course  math score  reading score  writing score  \n",
              "0               completed          59             70             78  \n",
              "1                    none          96             93             87  \n",
              "2                    none          57             76             77  \n",
              "3                    none          70             70             63  \n",
              "4                    none          83             85             86  "
            ],
            "text/html": [
              "\n",
              "  <div id=\"df-115c4154-2454-4d05-b69b-c96f260641dd\">\n",
              "    <div class=\"colab-df-container\">\n",
              "      <div>\n",
              "<style scoped>\n",
              "    .dataframe tbody tr th:only-of-type {\n",
              "        vertical-align: middle;\n",
              "    }\n",
              "\n",
              "    .dataframe tbody tr th {\n",
              "        vertical-align: top;\n",
              "    }\n",
              "\n",
              "    .dataframe thead th {\n",
              "        text-align: right;\n",
              "    }\n",
              "</style>\n",
              "<table border=\"1\" class=\"dataframe\">\n",
              "  <thead>\n",
              "    <tr style=\"text-align: right;\">\n",
              "      <th></th>\n",
              "      <th>gender</th>\n",
              "      <th>race/ethnicity</th>\n",
              "      <th>parental level of education</th>\n",
              "      <th>lunch</th>\n",
              "      <th>test preparation course</th>\n",
              "      <th>math score</th>\n",
              "      <th>reading score</th>\n",
              "      <th>writing score</th>\n",
              "    </tr>\n",
              "  </thead>\n",
              "  <tbody>\n",
              "    <tr>\n",
              "      <th>0</th>\n",
              "      <td>female</td>\n",
              "      <td>group D</td>\n",
              "      <td>some college</td>\n",
              "      <td>standard</td>\n",
              "      <td>completed</td>\n",
              "      <td>59</td>\n",
              "      <td>70</td>\n",
              "      <td>78</td>\n",
              "    </tr>\n",
              "    <tr>\n",
              "      <th>1</th>\n",
              "      <td>male</td>\n",
              "      <td>group D</td>\n",
              "      <td>associate's degree</td>\n",
              "      <td>standard</td>\n",
              "      <td>none</td>\n",
              "      <td>96</td>\n",
              "      <td>93</td>\n",
              "      <td>87</td>\n",
              "    </tr>\n",
              "    <tr>\n",
              "      <th>2</th>\n",
              "      <td>female</td>\n",
              "      <td>group D</td>\n",
              "      <td>some college</td>\n",
              "      <td>free/reduced</td>\n",
              "      <td>none</td>\n",
              "      <td>57</td>\n",
              "      <td>76</td>\n",
              "      <td>77</td>\n",
              "    </tr>\n",
              "    <tr>\n",
              "      <th>3</th>\n",
              "      <td>male</td>\n",
              "      <td>group B</td>\n",
              "      <td>some college</td>\n",
              "      <td>free/reduced</td>\n",
              "      <td>none</td>\n",
              "      <td>70</td>\n",
              "      <td>70</td>\n",
              "      <td>63</td>\n",
              "    </tr>\n",
              "    <tr>\n",
              "      <th>4</th>\n",
              "      <td>female</td>\n",
              "      <td>group D</td>\n",
              "      <td>associate's degree</td>\n",
              "      <td>standard</td>\n",
              "      <td>none</td>\n",
              "      <td>83</td>\n",
              "      <td>85</td>\n",
              "      <td>86</td>\n",
              "    </tr>\n",
              "  </tbody>\n",
              "</table>\n",
              "</div>\n",
              "      <button class=\"colab-df-convert\" onclick=\"convertToInteractive('df-115c4154-2454-4d05-b69b-c96f260641dd')\"\n",
              "              title=\"Convert this dataframe to an interactive table.\"\n",
              "              style=\"display:none;\">\n",
              "        \n",
              "  <svg xmlns=\"http://www.w3.org/2000/svg\" height=\"24px\"viewBox=\"0 0 24 24\"\n",
              "       width=\"24px\">\n",
              "    <path d=\"M0 0h24v24H0V0z\" fill=\"none\"/>\n",
              "    <path d=\"M18.56 5.44l.94 2.06.94-2.06 2.06-.94-2.06-.94-.94-2.06-.94 2.06-2.06.94zm-11 1L8.5 8.5l.94-2.06 2.06-.94-2.06-.94L8.5 2.5l-.94 2.06-2.06.94zm10 10l.94 2.06.94-2.06 2.06-.94-2.06-.94-.94-2.06-.94 2.06-2.06.94z\"/><path d=\"M17.41 7.96l-1.37-1.37c-.4-.4-.92-.59-1.43-.59-.52 0-1.04.2-1.43.59L10.3 9.45l-7.72 7.72c-.78.78-.78 2.05 0 2.83L4 21.41c.39.39.9.59 1.41.59.51 0 1.02-.2 1.41-.59l7.78-7.78 2.81-2.81c.8-.78.8-2.07 0-2.86zM5.41 20L4 18.59l7.72-7.72 1.47 1.35L5.41 20z\"/>\n",
              "  </svg>\n",
              "      </button>\n",
              "      \n",
              "  <style>\n",
              "    .colab-df-container {\n",
              "      display:flex;\n",
              "      flex-wrap:wrap;\n",
              "      gap: 12px;\n",
              "    }\n",
              "\n",
              "    .colab-df-convert {\n",
              "      background-color: #E8F0FE;\n",
              "      border: none;\n",
              "      border-radius: 50%;\n",
              "      cursor: pointer;\n",
              "      display: none;\n",
              "      fill: #1967D2;\n",
              "      height: 32px;\n",
              "      padding: 0 0 0 0;\n",
              "      width: 32px;\n",
              "    }\n",
              "\n",
              "    .colab-df-convert:hover {\n",
              "      background-color: #E2EBFA;\n",
              "      box-shadow: 0px 1px 2px rgba(60, 64, 67, 0.3), 0px 1px 3px 1px rgba(60, 64, 67, 0.15);\n",
              "      fill: #174EA6;\n",
              "    }\n",
              "\n",
              "    [theme=dark] .colab-df-convert {\n",
              "      background-color: #3B4455;\n",
              "      fill: #D2E3FC;\n",
              "    }\n",
              "\n",
              "    [theme=dark] .colab-df-convert:hover {\n",
              "      background-color: #434B5C;\n",
              "      box-shadow: 0px 1px 3px 1px rgba(0, 0, 0, 0.15);\n",
              "      filter: drop-shadow(0px 1px 2px rgba(0, 0, 0, 0.3));\n",
              "      fill: #FFFFFF;\n",
              "    }\n",
              "  </style>\n",
              "\n",
              "      <script>\n",
              "        const buttonEl =\n",
              "          document.querySelector('#df-115c4154-2454-4d05-b69b-c96f260641dd button.colab-df-convert');\n",
              "        buttonEl.style.display =\n",
              "          google.colab.kernel.accessAllowed ? 'block' : 'none';\n",
              "\n",
              "        async function convertToInteractive(key) {\n",
              "          const element = document.querySelector('#df-115c4154-2454-4d05-b69b-c96f260641dd');\n",
              "          const dataTable =\n",
              "            await google.colab.kernel.invokeFunction('convertToInteractive',\n",
              "                                                     [key], {});\n",
              "          if (!dataTable) return;\n",
              "\n",
              "          const docLinkHtml = 'Like what you see? Visit the ' +\n",
              "            '<a target=\"_blank\" href=https://colab.research.google.com/notebooks/data_table.ipynb>data table notebook</a>'\n",
              "            + ' to learn more about interactive tables.';\n",
              "          element.innerHTML = '';\n",
              "          dataTable['output_type'] = 'display_data';\n",
              "          await google.colab.output.renderOutput(dataTable, element);\n",
              "          const docLink = document.createElement('div');\n",
              "          docLink.innerHTML = docLinkHtml;\n",
              "          element.appendChild(docLink);\n",
              "        }\n",
              "      </script>\n",
              "    </div>\n",
              "  </div>\n",
              "  "
            ]
          },
          "metadata": {},
          "execution_count": 3
        }
      ],
      "source": [
        "data.head()"
      ]
    },
    {
      "cell_type": "code",
      "execution_count": 4,
      "id": "bc7f2fb7",
      "metadata": {
        "execution": {
          "iopub.execute_input": "2023-04-15T14:31:57.660295Z",
          "iopub.status.busy": "2023-04-15T14:31:57.658953Z",
          "iopub.status.idle": "2023-04-15T14:31:57.666217Z",
          "shell.execute_reply": "2023-04-15T14:31:57.665084Z"
        },
        "papermill": {
          "duration": 0.022218,
          "end_time": "2023-04-15T14:31:57.668710",
          "exception": false,
          "start_time": "2023-04-15T14:31:57.646492",
          "status": "completed"
        },
        "tags": [],
        "colab": {
          "base_uri": "https://localhost:8080/"
        },
        "id": "bc7f2fb7",
        "outputId": "f12ee446-e0d2-4c0f-f4a5-0779d7bfb151"
      },
      "outputs": [
        {
          "output_type": "execute_result",
          "data": {
            "text/plain": [
              "(1000, 8)"
            ]
          },
          "metadata": {},
          "execution_count": 4
        }
      ],
      "source": [
        "data.shape"
      ]
    },
    {
      "cell_type": "code",
      "execution_count": 5,
      "id": "39c5b205",
      "metadata": {
        "execution": {
          "iopub.execute_input": "2023-04-15T14:31:57.692808Z",
          "iopub.status.busy": "2023-04-15T14:31:57.691988Z",
          "iopub.status.idle": "2023-04-15T14:31:57.717714Z",
          "shell.execute_reply": "2023-04-15T14:31:57.716438Z"
        },
        "papermill": {
          "duration": 0.040942,
          "end_time": "2023-04-15T14:31:57.720503",
          "exception": false,
          "start_time": "2023-04-15T14:31:57.679561",
          "status": "completed"
        },
        "tags": [],
        "colab": {
          "base_uri": "https://localhost:8080/"
        },
        "id": "39c5b205",
        "outputId": "b0f07018-3015-4f72-f4fa-2dbdb9fb3d05"
      },
      "outputs": [
        {
          "output_type": "stream",
          "name": "stdout",
          "text": [
            "<class 'pandas.core.frame.DataFrame'>\n",
            "RangeIndex: 1000 entries, 0 to 999\n",
            "Data columns (total 8 columns):\n",
            " #   Column                       Non-Null Count  Dtype \n",
            "---  ------                       --------------  ----- \n",
            " 0   gender                       1000 non-null   object\n",
            " 1   race/ethnicity               1000 non-null   object\n",
            " 2   parental level of education  1000 non-null   object\n",
            " 3   lunch                        1000 non-null   object\n",
            " 4   test preparation course      1000 non-null   object\n",
            " 5   math score                   1000 non-null   int64 \n",
            " 6   reading score                1000 non-null   int64 \n",
            " 7   writing score                1000 non-null   int64 \n",
            "dtypes: int64(3), object(5)\n",
            "memory usage: 62.6+ KB\n"
          ]
        }
      ],
      "source": [
        "data.info()"
      ]
    },
    {
      "cell_type": "code",
      "execution_count": 6,
      "id": "d2c7ac56",
      "metadata": {
        "execution": {
          "iopub.execute_input": "2023-04-15T14:31:57.744649Z",
          "iopub.status.busy": "2023-04-15T14:31:57.744210Z",
          "iopub.status.idle": "2023-04-15T14:31:57.757321Z",
          "shell.execute_reply": "2023-04-15T14:31:57.756017Z"
        },
        "papermill": {
          "duration": 0.028586,
          "end_time": "2023-04-15T14:31:57.760141",
          "exception": false,
          "start_time": "2023-04-15T14:31:57.731555",
          "status": "completed"
        },
        "tags": [],
        "colab": {
          "base_uri": "https://localhost:8080/"
        },
        "id": "d2c7ac56",
        "outputId": "dc84c9d6-8cbb-447a-a0fd-0b48a6fb90d6"
      },
      "outputs": [
        {
          "output_type": "execute_result",
          "data": {
            "text/plain": [
              "gender                          2\n",
              "race/ethnicity                  5\n",
              "parental level of education     6\n",
              "lunch                           2\n",
              "test preparation course         2\n",
              "math score                     79\n",
              "reading score                  71\n",
              "writing score                  74\n",
              "dtype: int64"
            ]
          },
          "metadata": {},
          "execution_count": 6
        }
      ],
      "source": [
        "data.nunique()"
      ]
    },
    {
      "cell_type": "code",
      "execution_count": 7,
      "id": "275772d6",
      "metadata": {
        "execution": {
          "iopub.execute_input": "2023-04-15T14:31:57.784639Z",
          "iopub.status.busy": "2023-04-15T14:31:57.784214Z",
          "iopub.status.idle": "2023-04-15T14:31:57.796200Z",
          "shell.execute_reply": "2023-04-15T14:31:57.794635Z"
        },
        "papermill": {
          "duration": 0.027565,
          "end_time": "2023-04-15T14:31:57.798994",
          "exception": false,
          "start_time": "2023-04-15T14:31:57.771429",
          "status": "completed"
        },
        "tags": [],
        "colab": {
          "base_uri": "https://localhost:8080/"
        },
        "id": "275772d6",
        "outputId": "bf39ed28-6d9f-4ac7-877d-4a3d20345a31"
      },
      "outputs": [
        {
          "output_type": "execute_result",
          "data": {
            "text/plain": [
              "False"
            ]
          },
          "metadata": {},
          "execution_count": 7
        }
      ],
      "source": [
        "data.duplicated().any()"
      ]
    },
    {
      "cell_type": "markdown",
      "id": "75953590",
      "metadata": {
        "papermill": {
          "duration": 0.010847,
          "end_time": "2023-04-15T14:31:57.820919",
          "exception": false,
          "start_time": "2023-04-15T14:31:57.810072",
          "status": "completed"
        },
        "tags": [],
        "id": "75953590"
      },
      "source": [
        "##Data transformation"
      ]
    },
    {
      "cell_type": "markdown",
      "id": "d587810b",
      "metadata": {
        "papermill": {
          "duration": 0.012181,
          "end_time": "2023-04-15T14:31:57.844100",
          "exception": false,
          "start_time": "2023-04-15T14:31:57.831919",
          "status": "completed"
        },
        "tags": [],
        "id": "d587810b"
      },
      "source": [
        "\n",
        "##Missing Data Treatment"
      ]
    },
    {
      "cell_type": "code",
      "execution_count": 8,
      "id": "8f0bc04b",
      "metadata": {
        "execution": {
          "iopub.execute_input": "2023-04-15T14:31:57.868458Z",
          "iopub.status.busy": "2023-04-15T14:31:57.868033Z",
          "iopub.status.idle": "2023-04-15T14:31:57.894677Z",
          "shell.execute_reply": "2023-04-15T14:31:57.892971Z"
        },
        "papermill": {
          "duration": 0.042161,
          "end_time": "2023-04-15T14:31:57.897559",
          "exception": false,
          "start_time": "2023-04-15T14:31:57.855398",
          "status": "completed"
        },
        "tags": [],
        "colab": {
          "base_uri": "https://localhost:8080/",
          "height": 318
        },
        "id": "8f0bc04b",
        "outputId": "ab2c33c3-c25a-4827-9a27-52cf870a60cf"
      },
      "outputs": [
        {
          "output_type": "stream",
          "name": "stdout",
          "text": [
            "Total records =  1000\n"
          ]
        },
        {
          "output_type": "execute_result",
          "data": {
            "text/plain": [
              "                             Total Missing  In Percent\n",
              "gender                                   0         0.0\n",
              "race/ethnicity                           0         0.0\n",
              "parental level of education              0         0.0\n",
              "lunch                                    0         0.0\n",
              "test preparation course                  0         0.0\n",
              "math score                               0         0.0\n",
              "reading score                            0         0.0\n",
              "writing score                            0         0.0"
            ],
            "text/html": [
              "\n",
              "  <div id=\"df-ece3d878-adfd-4235-b14f-6e93645d35e5\">\n",
              "    <div class=\"colab-df-container\">\n",
              "      <div>\n",
              "<style scoped>\n",
              "    .dataframe tbody tr th:only-of-type {\n",
              "        vertical-align: middle;\n",
              "    }\n",
              "\n",
              "    .dataframe tbody tr th {\n",
              "        vertical-align: top;\n",
              "    }\n",
              "\n",
              "    .dataframe thead th {\n",
              "        text-align: right;\n",
              "    }\n",
              "</style>\n",
              "<table border=\"1\" class=\"dataframe\">\n",
              "  <thead>\n",
              "    <tr style=\"text-align: right;\">\n",
              "      <th></th>\n",
              "      <th>Total Missing</th>\n",
              "      <th>In Percent</th>\n",
              "    </tr>\n",
              "  </thead>\n",
              "  <tbody>\n",
              "    <tr>\n",
              "      <th>gender</th>\n",
              "      <td>0</td>\n",
              "      <td>0.0</td>\n",
              "    </tr>\n",
              "    <tr>\n",
              "      <th>race/ethnicity</th>\n",
              "      <td>0</td>\n",
              "      <td>0.0</td>\n",
              "    </tr>\n",
              "    <tr>\n",
              "      <th>parental level of education</th>\n",
              "      <td>0</td>\n",
              "      <td>0.0</td>\n",
              "    </tr>\n",
              "    <tr>\n",
              "      <th>lunch</th>\n",
              "      <td>0</td>\n",
              "      <td>0.0</td>\n",
              "    </tr>\n",
              "    <tr>\n",
              "      <th>test preparation course</th>\n",
              "      <td>0</td>\n",
              "      <td>0.0</td>\n",
              "    </tr>\n",
              "    <tr>\n",
              "      <th>math score</th>\n",
              "      <td>0</td>\n",
              "      <td>0.0</td>\n",
              "    </tr>\n",
              "    <tr>\n",
              "      <th>reading score</th>\n",
              "      <td>0</td>\n",
              "      <td>0.0</td>\n",
              "    </tr>\n",
              "    <tr>\n",
              "      <th>writing score</th>\n",
              "      <td>0</td>\n",
              "      <td>0.0</td>\n",
              "    </tr>\n",
              "  </tbody>\n",
              "</table>\n",
              "</div>\n",
              "      <button class=\"colab-df-convert\" onclick=\"convertToInteractive('df-ece3d878-adfd-4235-b14f-6e93645d35e5')\"\n",
              "              title=\"Convert this dataframe to an interactive table.\"\n",
              "              style=\"display:none;\">\n",
              "        \n",
              "  <svg xmlns=\"http://www.w3.org/2000/svg\" height=\"24px\"viewBox=\"0 0 24 24\"\n",
              "       width=\"24px\">\n",
              "    <path d=\"M0 0h24v24H0V0z\" fill=\"none\"/>\n",
              "    <path d=\"M18.56 5.44l.94 2.06.94-2.06 2.06-.94-2.06-.94-.94-2.06-.94 2.06-2.06.94zm-11 1L8.5 8.5l.94-2.06 2.06-.94-2.06-.94L8.5 2.5l-.94 2.06-2.06.94zm10 10l.94 2.06.94-2.06 2.06-.94-2.06-.94-.94-2.06-.94 2.06-2.06.94z\"/><path d=\"M17.41 7.96l-1.37-1.37c-.4-.4-.92-.59-1.43-.59-.52 0-1.04.2-1.43.59L10.3 9.45l-7.72 7.72c-.78.78-.78 2.05 0 2.83L4 21.41c.39.39.9.59 1.41.59.51 0 1.02-.2 1.41-.59l7.78-7.78 2.81-2.81c.8-.78.8-2.07 0-2.86zM5.41 20L4 18.59l7.72-7.72 1.47 1.35L5.41 20z\"/>\n",
              "  </svg>\n",
              "      </button>\n",
              "      \n",
              "  <style>\n",
              "    .colab-df-container {\n",
              "      display:flex;\n",
              "      flex-wrap:wrap;\n",
              "      gap: 12px;\n",
              "    }\n",
              "\n",
              "    .colab-df-convert {\n",
              "      background-color: #E8F0FE;\n",
              "      border: none;\n",
              "      border-radius: 50%;\n",
              "      cursor: pointer;\n",
              "      display: none;\n",
              "      fill: #1967D2;\n",
              "      height: 32px;\n",
              "      padding: 0 0 0 0;\n",
              "      width: 32px;\n",
              "    }\n",
              "\n",
              "    .colab-df-convert:hover {\n",
              "      background-color: #E2EBFA;\n",
              "      box-shadow: 0px 1px 2px rgba(60, 64, 67, 0.3), 0px 1px 3px 1px rgba(60, 64, 67, 0.15);\n",
              "      fill: #174EA6;\n",
              "    }\n",
              "\n",
              "    [theme=dark] .colab-df-convert {\n",
              "      background-color: #3B4455;\n",
              "      fill: #D2E3FC;\n",
              "    }\n",
              "\n",
              "    [theme=dark] .colab-df-convert:hover {\n",
              "      background-color: #434B5C;\n",
              "      box-shadow: 0px 1px 3px 1px rgba(0, 0, 0, 0.15);\n",
              "      filter: drop-shadow(0px 1px 2px rgba(0, 0, 0, 0.3));\n",
              "      fill: #FFFFFF;\n",
              "    }\n",
              "  </style>\n",
              "\n",
              "      <script>\n",
              "        const buttonEl =\n",
              "          document.querySelector('#df-ece3d878-adfd-4235-b14f-6e93645d35e5 button.colab-df-convert');\n",
              "        buttonEl.style.display =\n",
              "          google.colab.kernel.accessAllowed ? 'block' : 'none';\n",
              "\n",
              "        async function convertToInteractive(key) {\n",
              "          const element = document.querySelector('#df-ece3d878-adfd-4235-b14f-6e93645d35e5');\n",
              "          const dataTable =\n",
              "            await google.colab.kernel.invokeFunction('convertToInteractive',\n",
              "                                                     [key], {});\n",
              "          if (!dataTable) return;\n",
              "\n",
              "          const docLinkHtml = 'Like what you see? Visit the ' +\n",
              "            '<a target=\"_blank\" href=https://colab.research.google.com/notebooks/data_table.ipynb>data table notebook</a>'\n",
              "            + ' to learn more about interactive tables.';\n",
              "          element.innerHTML = '';\n",
              "          dataTable['output_type'] = 'display_data';\n",
              "          await google.colab.output.renderOutput(dataTable, element);\n",
              "          const docLink = document.createElement('div');\n",
              "          docLink.innerHTML = docLinkHtml;\n",
              "          element.appendChild(docLink);\n",
              "        }\n",
              "      </script>\n",
              "    </div>\n",
              "  </div>\n",
              "  "
            ]
          },
          "metadata": {},
          "execution_count": 8
        }
      ],
      "source": [
        "total_null = data.isnull().sum().sort_values(ascending = False)\n",
        "percent = ((data.isnull().sum()/data.isnull().count())*100).sort_values(ascending = False)\n",
        "print(\"Total records = \", data.shape[0])\n",
        "\n",
        "missing_data = pd.concat([total_null,percent.round(2)],axis=1,keys=['Total Missing','In Percent'])\n",
        "missing_data"
      ]
    },
    {
      "cell_type": "markdown",
      "id": "23dacf69",
      "metadata": {
        "papermill": {
          "duration": 0.011173,
          "end_time": "2023-04-15T14:31:57.920254",
          "exception": false,
          "start_time": "2023-04-15T14:31:57.909081",
          "status": "completed"
        },
        "tags": [],
        "id": "23dacf69"
      },
      "source": [
        "\n",
        "##Duplicated Data Treatment"
      ]
    },
    {
      "cell_type": "code",
      "execution_count": 9,
      "id": "1faabe30",
      "metadata": {
        "execution": {
          "iopub.execute_input": "2023-04-15T14:31:57.944925Z",
          "iopub.status.busy": "2023-04-15T14:31:57.944440Z",
          "iopub.status.idle": "2023-04-15T14:31:57.960597Z",
          "shell.execute_reply": "2023-04-15T14:31:57.959602Z"
        },
        "papermill": {
          "duration": 0.031554,
          "end_time": "2023-04-15T14:31:57.962984",
          "exception": false,
          "start_time": "2023-04-15T14:31:57.931430",
          "status": "completed"
        },
        "tags": [],
        "colab": {
          "base_uri": "https://localhost:8080/",
          "height": 300
        },
        "id": "1faabe30",
        "outputId": "84769bdb-bb65-4728-f2be-23b1cf0149ed"
      },
      "outputs": [
        {
          "output_type": "execute_result",
          "data": {
            "text/plain": [
              "                             Total Duplicate\n",
              "gender                                     0\n",
              "race/ethnicity                             0\n",
              "parental level of education                0\n",
              "lunch                                      0\n",
              "test preparation course                    0\n",
              "math score                                 0\n",
              "reading score                              0\n",
              "writing score                              0"
            ],
            "text/html": [
              "\n",
              "  <div id=\"df-7f630c6a-a6ce-4a0c-9ea3-9a45d9f0c4e6\">\n",
              "    <div class=\"colab-df-container\">\n",
              "      <div>\n",
              "<style scoped>\n",
              "    .dataframe tbody tr th:only-of-type {\n",
              "        vertical-align: middle;\n",
              "    }\n",
              "\n",
              "    .dataframe tbody tr th {\n",
              "        vertical-align: top;\n",
              "    }\n",
              "\n",
              "    .dataframe thead th {\n",
              "        text-align: right;\n",
              "    }\n",
              "</style>\n",
              "<table border=\"1\" class=\"dataframe\">\n",
              "  <thead>\n",
              "    <tr style=\"text-align: right;\">\n",
              "      <th></th>\n",
              "      <th>Total Duplicate</th>\n",
              "    </tr>\n",
              "  </thead>\n",
              "  <tbody>\n",
              "    <tr>\n",
              "      <th>gender</th>\n",
              "      <td>0</td>\n",
              "    </tr>\n",
              "    <tr>\n",
              "      <th>race/ethnicity</th>\n",
              "      <td>0</td>\n",
              "    </tr>\n",
              "    <tr>\n",
              "      <th>parental level of education</th>\n",
              "      <td>0</td>\n",
              "    </tr>\n",
              "    <tr>\n",
              "      <th>lunch</th>\n",
              "      <td>0</td>\n",
              "    </tr>\n",
              "    <tr>\n",
              "      <th>test preparation course</th>\n",
              "      <td>0</td>\n",
              "    </tr>\n",
              "    <tr>\n",
              "      <th>math score</th>\n",
              "      <td>0</td>\n",
              "    </tr>\n",
              "    <tr>\n",
              "      <th>reading score</th>\n",
              "      <td>0</td>\n",
              "    </tr>\n",
              "    <tr>\n",
              "      <th>writing score</th>\n",
              "      <td>0</td>\n",
              "    </tr>\n",
              "  </tbody>\n",
              "</table>\n",
              "</div>\n",
              "      <button class=\"colab-df-convert\" onclick=\"convertToInteractive('df-7f630c6a-a6ce-4a0c-9ea3-9a45d9f0c4e6')\"\n",
              "              title=\"Convert this dataframe to an interactive table.\"\n",
              "              style=\"display:none;\">\n",
              "        \n",
              "  <svg xmlns=\"http://www.w3.org/2000/svg\" height=\"24px\"viewBox=\"0 0 24 24\"\n",
              "       width=\"24px\">\n",
              "    <path d=\"M0 0h24v24H0V0z\" fill=\"none\"/>\n",
              "    <path d=\"M18.56 5.44l.94 2.06.94-2.06 2.06-.94-2.06-.94-.94-2.06-.94 2.06-2.06.94zm-11 1L8.5 8.5l.94-2.06 2.06-.94-2.06-.94L8.5 2.5l-.94 2.06-2.06.94zm10 10l.94 2.06.94-2.06 2.06-.94-2.06-.94-.94-2.06-.94 2.06-2.06.94z\"/><path d=\"M17.41 7.96l-1.37-1.37c-.4-.4-.92-.59-1.43-.59-.52 0-1.04.2-1.43.59L10.3 9.45l-7.72 7.72c-.78.78-.78 2.05 0 2.83L4 21.41c.39.39.9.59 1.41.59.51 0 1.02-.2 1.41-.59l7.78-7.78 2.81-2.81c.8-.78.8-2.07 0-2.86zM5.41 20L4 18.59l7.72-7.72 1.47 1.35L5.41 20z\"/>\n",
              "  </svg>\n",
              "      </button>\n",
              "      \n",
              "  <style>\n",
              "    .colab-df-container {\n",
              "      display:flex;\n",
              "      flex-wrap:wrap;\n",
              "      gap: 12px;\n",
              "    }\n",
              "\n",
              "    .colab-df-convert {\n",
              "      background-color: #E8F0FE;\n",
              "      border: none;\n",
              "      border-radius: 50%;\n",
              "      cursor: pointer;\n",
              "      display: none;\n",
              "      fill: #1967D2;\n",
              "      height: 32px;\n",
              "      padding: 0 0 0 0;\n",
              "      width: 32px;\n",
              "    }\n",
              "\n",
              "    .colab-df-convert:hover {\n",
              "      background-color: #E2EBFA;\n",
              "      box-shadow: 0px 1px 2px rgba(60, 64, 67, 0.3), 0px 1px 3px 1px rgba(60, 64, 67, 0.15);\n",
              "      fill: #174EA6;\n",
              "    }\n",
              "\n",
              "    [theme=dark] .colab-df-convert {\n",
              "      background-color: #3B4455;\n",
              "      fill: #D2E3FC;\n",
              "    }\n",
              "\n",
              "    [theme=dark] .colab-df-convert:hover {\n",
              "      background-color: #434B5C;\n",
              "      box-shadow: 0px 1px 3px 1px rgba(0, 0, 0, 0.15);\n",
              "      filter: drop-shadow(0px 1px 2px rgba(0, 0, 0, 0.3));\n",
              "      fill: #FFFFFF;\n",
              "    }\n",
              "  </style>\n",
              "\n",
              "      <script>\n",
              "        const buttonEl =\n",
              "          document.querySelector('#df-7f630c6a-a6ce-4a0c-9ea3-9a45d9f0c4e6 button.colab-df-convert');\n",
              "        buttonEl.style.display =\n",
              "          google.colab.kernel.accessAllowed ? 'block' : 'none';\n",
              "\n",
              "        async function convertToInteractive(key) {\n",
              "          const element = document.querySelector('#df-7f630c6a-a6ce-4a0c-9ea3-9a45d9f0c4e6');\n",
              "          const dataTable =\n",
              "            await google.colab.kernel.invokeFunction('convertToInteractive',\n",
              "                                                     [key], {});\n",
              "          if (!dataTable) return;\n",
              "\n",
              "          const docLinkHtml = 'Like what you see? Visit the ' +\n",
              "            '<a target=\"_blank\" href=https://colab.research.google.com/notebooks/data_table.ipynb>data table notebook</a>'\n",
              "            + ' to learn more about interactive tables.';\n",
              "          element.innerHTML = '';\n",
              "          dataTable['output_type'] = 'display_data';\n",
              "          await google.colab.output.renderOutput(dataTable, element);\n",
              "          const docLink = document.createElement('div');\n",
              "          docLink.innerHTML = docLinkHtml;\n",
              "          element.appendChild(docLink);\n",
              "        }\n",
              "      </script>\n",
              "    </div>\n",
              "  </div>\n",
              "  "
            ]
          },
          "metadata": {},
          "execution_count": 9
        }
      ],
      "source": [
        "duplicated_data = pd.DataFrame(data.loc[data.duplicated()].count())\n",
        "duplicated_data.columns = ['Total Duplicate']\n",
        "duplicated_data"
      ]
    },
    {
      "cell_type": "markdown",
      "id": "ddb7094f",
      "metadata": {
        "papermill": {
          "duration": 0.011216,
          "end_time": "2023-04-15T14:31:57.986397",
          "exception": false,
          "start_time": "2023-04-15T14:31:57.975181",
          "status": "completed"
        },
        "tags": [],
        "id": "ddb7094f"
      },
      "source": [
        "\n",
        "##Cleaning Data"
      ]
    },
    {
      "cell_type": "code",
      "execution_count": 10,
      "id": "8d728e7a",
      "metadata": {
        "execution": {
          "iopub.execute_input": "2023-04-15T14:31:58.011297Z",
          "iopub.status.busy": "2023-04-15T14:31:58.010853Z",
          "iopub.status.idle": "2023-04-15T14:31:58.021019Z",
          "shell.execute_reply": "2023-04-15T14:31:58.019326Z"
        },
        "papermill": {
          "duration": 0.025763,
          "end_time": "2023-04-15T14:31:58.023653",
          "exception": false,
          "start_time": "2023-04-15T14:31:57.997890",
          "status": "completed"
        },
        "tags": [],
        "colab": {
          "base_uri": "https://localhost:8080/"
        },
        "id": "8d728e7a",
        "outputId": "b4c1347b-eb68-409a-9eb4-33139b81dc77"
      },
      "outputs": [
        {
          "output_type": "stream",
          "name": "stdout",
          "text": [
            "gender:  ['female', 'male']\n",
            "race / ethnicity:  ['group D', 'group B', 'group C', 'group E', 'group A']\n",
            "parental level of education:  ['some college', \"associate's degree\", 'some high school', \"bachelor's degree\", \"master's degree\", 'high school']\n",
            "lunch:  ['standard', 'free/reduced']\n",
            "test preparation course:  ['completed', 'none']\n"
          ]
        }
      ],
      "source": [
        "print('gender: ', data['gender'].unique().tolist())\n",
        "print('race / ethnicity: ', data['race/ethnicity'].unique().tolist())\n",
        "print('parental level of education: ', data['parental level of education'].unique().tolist())\n",
        "print('lunch: ', data['lunch'].unique().tolist())\n",
        "print('test preparation course: ', data['test preparation course'].unique().tolist())"
      ]
    },
    {
      "cell_type": "markdown",
      "metadata": {
        "papermill": {
          "duration": 0.046397,
          "end_time": "2021-10-19T06:58:01.241130",
          "exception": false,
          "start_time": "2021-10-19T06:58:01.194733",
          "status": "completed"
        },
        "tags": [],
        "id": "71d33b67"
      },
      "source": [
        "### Calculating Mean Student Score"
      ],
      "id": "71d33b67"
    },
    {
      "cell_type": "code",
      "execution_count": 11,
      "metadata": {
        "execution": {
          "iopub.execute_input": "2021-10-19T06:58:01.340011Z",
          "iopub.status.busy": "2021-10-19T06:58:01.339362Z",
          "iopub.status.idle": "2021-10-19T06:58:01.343818Z",
          "shell.execute_reply": "2021-10-19T06:58:01.343099Z",
          "shell.execute_reply.started": "2021-10-19T06:54:19.812212Z"
        },
        "papermill": {
          "duration": 0.057479,
          "end_time": "2021-10-19T06:58:01.343971",
          "exception": false,
          "start_time": "2021-10-19T06:58:01.286492",
          "status": "completed"
        },
        "tags": [],
        "id": "dd4c5375",
        "outputId": "e76c289c-50c1-4f5b-eaee-31aa09480cd5",
        "colab": {
          "base_uri": "https://localhost:8080/"
        }
      },
      "outputs": [
        {
          "output_type": "execute_result",
          "data": {
            "text/plain": [
              "0      69.000000\n",
              "1      92.000000\n",
              "2      70.000000\n",
              "3      67.666667\n",
              "4      84.666667\n",
              "         ...    \n",
              "995    75.000000\n",
              "996    70.666667\n",
              "997    79.666667\n",
              "998    71.333333\n",
              "999    50.000000\n",
              "Length: 1000, dtype: float64"
            ]
          },
          "metadata": {},
          "execution_count": 11
        }
      ],
      "source": [
        "# Mean Student Score\n",
        "\n",
        "student_score = (data[\"math score\"] + data[\"reading score\"] + data[\"writing score\"])/3\n",
        "student_score"
      ],
      "id": "dd4c5375"
    },
    {
      "cell_type": "code",
      "source": [
        "data[\"student score\"] = round(student_score, 2)"
      ],
      "metadata": {
        "id": "uOtYKQfhhQqd"
      },
      "id": "uOtYKQfhhQqd",
      "execution_count": 12,
      "outputs": []
    },
    {
      "cell_type": "markdown",
      "metadata": {
        "papermill": {
          "duration": 0.046296,
          "end_time": "2021-10-19T06:58:01.537447",
          "exception": false,
          "start_time": "2021-10-19T06:58:01.491151",
          "status": "completed"
        },
        "tags": [],
        "id": "f5645d62"
      },
      "source": [
        "### Classifying students into Grade Class"
      ],
      "id": "f5645d62"
    },
    {
      "cell_type": "markdown",
      "metadata": {
        "papermill": {
          "duration": 0.046509,
          "end_time": "2021-10-19T06:58:01.630252",
          "exception": false,
          "start_time": "2021-10-19T06:58:01.583743",
          "status": "completed"
        },
        "tags": [],
        "id": "cbe8f647"
      },
      "source": [
        "Classification\n",
        "\n",
        "A = 75 - 100 = First class\n",
        "B = 60 - 74 = Second Class Upper\n",
        "C = 50 - 59 = Second Class Lower\n",
        "D = 35 - 49 = Pass\n",
        "E = 0 - 34 = Fail"
      ],
      "id": "cbe8f647"
    },
    {
      "cell_type": "code",
      "execution_count": 13,
      "metadata": {
        "execution": {
          "iopub.execute_input": "2021-10-19T06:58:01.767604Z",
          "iopub.status.busy": "2021-10-19T06:58:01.762028Z",
          "iopub.status.idle": "2021-10-19T06:58:01.787156Z",
          "shell.execute_reply": "2021-10-19T06:58:01.786347Z",
          "shell.execute_reply.started": "2021-10-19T06:54:36.054916Z"
        },
        "papermill": {
          "duration": 0.109603,
          "end_time": "2021-10-19T06:58:01.787367",
          "exception": false,
          "start_time": "2021-10-19T06:58:01.677764",
          "status": "completed"
        },
        "tags": [],
        "id": "b67d36f0"
      },
      "outputs": [],
      "source": [
        "grade_class = []\n",
        "for index, row in data.iterrows():\n",
        "    if row[7] <= 34:\n",
        "        grade_class.append(\"Fail\")\n",
        "    elif row[7] >= 35 and row[7] < 50:\n",
        "        grade_class.append(\"Pass\")\n",
        "    elif row[7] >= 50 and row[7] < 60:\n",
        "        grade_class.append(\"Second Class Lower\")\n",
        "    elif row[7] >= 60 and row[7] < 75:\n",
        "        grade_class.append(\"Second Class Upper\")\n",
        "    elif row[7] >= 75 :\n",
        "        grade_class.append(\"First class\")\n",
        "    "
      ],
      "id": "b67d36f0"
    },
    {
      "cell_type": "code",
      "execution_count": 14,
      "metadata": {
        "execution": {
          "iopub.execute_input": "2021-10-19T06:58:01.884005Z",
          "iopub.status.busy": "2021-10-19T06:58:01.882109Z",
          "iopub.status.idle": "2021-10-19T06:58:01.886145Z",
          "shell.execute_reply": "2021-10-19T06:58:01.886656Z",
          "shell.execute_reply.started": "2021-10-19T06:54:36.263954Z"
        },
        "papermill": {
          "duration": 0.05309,
          "end_time": "2021-10-19T06:58:01.886838",
          "exception": false,
          "start_time": "2021-10-19T06:58:01.833748",
          "status": "completed"
        },
        "scrolled": true,
        "tags": [],
        "id": "019c8d50"
      },
      "outputs": [],
      "source": [
        "data[\"grade class\"] = grade_class"
      ],
      "id": "019c8d50"
    },
    {
      "cell_type": "code",
      "execution_count": 15,
      "metadata": {
        "execution": {
          "iopub.execute_input": "2021-10-19T06:58:01.994687Z",
          "iopub.status.busy": "2021-10-19T06:58:01.993744Z",
          "iopub.status.idle": "2021-10-19T06:58:01.998120Z",
          "shell.execute_reply": "2021-10-19T06:58:01.997548Z",
          "shell.execute_reply.started": "2021-10-19T06:54:36.499927Z"
        },
        "papermill": {
          "duration": 0.065866,
          "end_time": "2021-10-19T06:58:01.998275",
          "exception": false,
          "start_time": "2021-10-19T06:58:01.932409",
          "status": "completed"
        },
        "tags": [],
        "id": "89bbfce6",
        "outputId": "99fe981c-4a35-4ed8-afb2-54a100525fd1",
        "colab": {
          "base_uri": "https://localhost:8080/",
          "height": 520
        }
      },
      "outputs": [
        {
          "output_type": "execute_result",
          "data": {
            "text/plain": [
              "    gender race/ethnicity parental level of education         lunch  \\\n",
              "0   female        group D                some college      standard   \n",
              "1     male        group D          associate's degree      standard   \n",
              "2   female        group D                some college  free/reduced   \n",
              "3     male        group B                some college  free/reduced   \n",
              "4   female        group D          associate's degree      standard   \n",
              "5     male        group C            some high school      standard   \n",
              "6   female        group E          associate's degree      standard   \n",
              "7   female        group B            some high school      standard   \n",
              "8     male        group C            some high school      standard   \n",
              "9   female        group C           bachelor's degree      standard   \n",
              "10    male        group B            some high school      standard   \n",
              "11    male        group B             master's degree      standard   \n",
              "12    male        group B           bachelor's degree  free/reduced   \n",
              "13    male        group A                some college      standard   \n",
              "14    male        group C             master's degree  free/reduced   \n",
              "\n",
              "   test preparation course  math score  reading score  writing score  \\\n",
              "0                completed          59             70             78   \n",
              "1                     none          96             93             87   \n",
              "2                     none          57             76             77   \n",
              "3                     none          70             70             63   \n",
              "4                     none          83             85             86   \n",
              "5                     none          68             57             54   \n",
              "6                     none          82             83             80   \n",
              "7                     none          46             61             58   \n",
              "8                     none          80             75             73   \n",
              "9                completed          57             69             77   \n",
              "10                    none          74             69             69   \n",
              "11                    none          53             50             49   \n",
              "12                    none          76             74             76   \n",
              "13                    none          70             73             70   \n",
              "14                    none          55             54             52   \n",
              "\n",
              "    student score         grade class  \n",
              "0           69.00         First class  \n",
              "1           92.00         First class  \n",
              "2           70.00         First class  \n",
              "3           67.67  Second Class Upper  \n",
              "4           84.67         First class  \n",
              "5           59.67  Second Class Lower  \n",
              "6           81.67         First class  \n",
              "7           55.00  Second Class Lower  \n",
              "8           76.00  Second Class Upper  \n",
              "9           67.67         First class  \n",
              "10          70.67  Second Class Upper  \n",
              "11          50.67                Pass  \n",
              "12          75.33         First class  \n",
              "13          71.00  Second Class Upper  \n",
              "14          53.67  Second Class Lower  "
            ],
            "text/html": [
              "\n",
              "  <div id=\"df-7a132a67-bd0b-4cb0-9963-25280abb6b02\">\n",
              "    <div class=\"colab-df-container\">\n",
              "      <div>\n",
              "<style scoped>\n",
              "    .dataframe tbody tr th:only-of-type {\n",
              "        vertical-align: middle;\n",
              "    }\n",
              "\n",
              "    .dataframe tbody tr th {\n",
              "        vertical-align: top;\n",
              "    }\n",
              "\n",
              "    .dataframe thead th {\n",
              "        text-align: right;\n",
              "    }\n",
              "</style>\n",
              "<table border=\"1\" class=\"dataframe\">\n",
              "  <thead>\n",
              "    <tr style=\"text-align: right;\">\n",
              "      <th></th>\n",
              "      <th>gender</th>\n",
              "      <th>race/ethnicity</th>\n",
              "      <th>parental level of education</th>\n",
              "      <th>lunch</th>\n",
              "      <th>test preparation course</th>\n",
              "      <th>math score</th>\n",
              "      <th>reading score</th>\n",
              "      <th>writing score</th>\n",
              "      <th>student score</th>\n",
              "      <th>grade class</th>\n",
              "    </tr>\n",
              "  </thead>\n",
              "  <tbody>\n",
              "    <tr>\n",
              "      <th>0</th>\n",
              "      <td>female</td>\n",
              "      <td>group D</td>\n",
              "      <td>some college</td>\n",
              "      <td>standard</td>\n",
              "      <td>completed</td>\n",
              "      <td>59</td>\n",
              "      <td>70</td>\n",
              "      <td>78</td>\n",
              "      <td>69.00</td>\n",
              "      <td>First class</td>\n",
              "    </tr>\n",
              "    <tr>\n",
              "      <th>1</th>\n",
              "      <td>male</td>\n",
              "      <td>group D</td>\n",
              "      <td>associate's degree</td>\n",
              "      <td>standard</td>\n",
              "      <td>none</td>\n",
              "      <td>96</td>\n",
              "      <td>93</td>\n",
              "      <td>87</td>\n",
              "      <td>92.00</td>\n",
              "      <td>First class</td>\n",
              "    </tr>\n",
              "    <tr>\n",
              "      <th>2</th>\n",
              "      <td>female</td>\n",
              "      <td>group D</td>\n",
              "      <td>some college</td>\n",
              "      <td>free/reduced</td>\n",
              "      <td>none</td>\n",
              "      <td>57</td>\n",
              "      <td>76</td>\n",
              "      <td>77</td>\n",
              "      <td>70.00</td>\n",
              "      <td>First class</td>\n",
              "    </tr>\n",
              "    <tr>\n",
              "      <th>3</th>\n",
              "      <td>male</td>\n",
              "      <td>group B</td>\n",
              "      <td>some college</td>\n",
              "      <td>free/reduced</td>\n",
              "      <td>none</td>\n",
              "      <td>70</td>\n",
              "      <td>70</td>\n",
              "      <td>63</td>\n",
              "      <td>67.67</td>\n",
              "      <td>Second Class Upper</td>\n",
              "    </tr>\n",
              "    <tr>\n",
              "      <th>4</th>\n",
              "      <td>female</td>\n",
              "      <td>group D</td>\n",
              "      <td>associate's degree</td>\n",
              "      <td>standard</td>\n",
              "      <td>none</td>\n",
              "      <td>83</td>\n",
              "      <td>85</td>\n",
              "      <td>86</td>\n",
              "      <td>84.67</td>\n",
              "      <td>First class</td>\n",
              "    </tr>\n",
              "    <tr>\n",
              "      <th>5</th>\n",
              "      <td>male</td>\n",
              "      <td>group C</td>\n",
              "      <td>some high school</td>\n",
              "      <td>standard</td>\n",
              "      <td>none</td>\n",
              "      <td>68</td>\n",
              "      <td>57</td>\n",
              "      <td>54</td>\n",
              "      <td>59.67</td>\n",
              "      <td>Second Class Lower</td>\n",
              "    </tr>\n",
              "    <tr>\n",
              "      <th>6</th>\n",
              "      <td>female</td>\n",
              "      <td>group E</td>\n",
              "      <td>associate's degree</td>\n",
              "      <td>standard</td>\n",
              "      <td>none</td>\n",
              "      <td>82</td>\n",
              "      <td>83</td>\n",
              "      <td>80</td>\n",
              "      <td>81.67</td>\n",
              "      <td>First class</td>\n",
              "    </tr>\n",
              "    <tr>\n",
              "      <th>7</th>\n",
              "      <td>female</td>\n",
              "      <td>group B</td>\n",
              "      <td>some high school</td>\n",
              "      <td>standard</td>\n",
              "      <td>none</td>\n",
              "      <td>46</td>\n",
              "      <td>61</td>\n",
              "      <td>58</td>\n",
              "      <td>55.00</td>\n",
              "      <td>Second Class Lower</td>\n",
              "    </tr>\n",
              "    <tr>\n",
              "      <th>8</th>\n",
              "      <td>male</td>\n",
              "      <td>group C</td>\n",
              "      <td>some high school</td>\n",
              "      <td>standard</td>\n",
              "      <td>none</td>\n",
              "      <td>80</td>\n",
              "      <td>75</td>\n",
              "      <td>73</td>\n",
              "      <td>76.00</td>\n",
              "      <td>Second Class Upper</td>\n",
              "    </tr>\n",
              "    <tr>\n",
              "      <th>9</th>\n",
              "      <td>female</td>\n",
              "      <td>group C</td>\n",
              "      <td>bachelor's degree</td>\n",
              "      <td>standard</td>\n",
              "      <td>completed</td>\n",
              "      <td>57</td>\n",
              "      <td>69</td>\n",
              "      <td>77</td>\n",
              "      <td>67.67</td>\n",
              "      <td>First class</td>\n",
              "    </tr>\n",
              "    <tr>\n",
              "      <th>10</th>\n",
              "      <td>male</td>\n",
              "      <td>group B</td>\n",
              "      <td>some high school</td>\n",
              "      <td>standard</td>\n",
              "      <td>none</td>\n",
              "      <td>74</td>\n",
              "      <td>69</td>\n",
              "      <td>69</td>\n",
              "      <td>70.67</td>\n",
              "      <td>Second Class Upper</td>\n",
              "    </tr>\n",
              "    <tr>\n",
              "      <th>11</th>\n",
              "      <td>male</td>\n",
              "      <td>group B</td>\n",
              "      <td>master's degree</td>\n",
              "      <td>standard</td>\n",
              "      <td>none</td>\n",
              "      <td>53</td>\n",
              "      <td>50</td>\n",
              "      <td>49</td>\n",
              "      <td>50.67</td>\n",
              "      <td>Pass</td>\n",
              "    </tr>\n",
              "    <tr>\n",
              "      <th>12</th>\n",
              "      <td>male</td>\n",
              "      <td>group B</td>\n",
              "      <td>bachelor's degree</td>\n",
              "      <td>free/reduced</td>\n",
              "      <td>none</td>\n",
              "      <td>76</td>\n",
              "      <td>74</td>\n",
              "      <td>76</td>\n",
              "      <td>75.33</td>\n",
              "      <td>First class</td>\n",
              "    </tr>\n",
              "    <tr>\n",
              "      <th>13</th>\n",
              "      <td>male</td>\n",
              "      <td>group A</td>\n",
              "      <td>some college</td>\n",
              "      <td>standard</td>\n",
              "      <td>none</td>\n",
              "      <td>70</td>\n",
              "      <td>73</td>\n",
              "      <td>70</td>\n",
              "      <td>71.00</td>\n",
              "      <td>Second Class Upper</td>\n",
              "    </tr>\n",
              "    <tr>\n",
              "      <th>14</th>\n",
              "      <td>male</td>\n",
              "      <td>group C</td>\n",
              "      <td>master's degree</td>\n",
              "      <td>free/reduced</td>\n",
              "      <td>none</td>\n",
              "      <td>55</td>\n",
              "      <td>54</td>\n",
              "      <td>52</td>\n",
              "      <td>53.67</td>\n",
              "      <td>Second Class Lower</td>\n",
              "    </tr>\n",
              "  </tbody>\n",
              "</table>\n",
              "</div>\n",
              "      <button class=\"colab-df-convert\" onclick=\"convertToInteractive('df-7a132a67-bd0b-4cb0-9963-25280abb6b02')\"\n",
              "              title=\"Convert this dataframe to an interactive table.\"\n",
              "              style=\"display:none;\">\n",
              "        \n",
              "  <svg xmlns=\"http://www.w3.org/2000/svg\" height=\"24px\"viewBox=\"0 0 24 24\"\n",
              "       width=\"24px\">\n",
              "    <path d=\"M0 0h24v24H0V0z\" fill=\"none\"/>\n",
              "    <path d=\"M18.56 5.44l.94 2.06.94-2.06 2.06-.94-2.06-.94-.94-2.06-.94 2.06-2.06.94zm-11 1L8.5 8.5l.94-2.06 2.06-.94-2.06-.94L8.5 2.5l-.94 2.06-2.06.94zm10 10l.94 2.06.94-2.06 2.06-.94-2.06-.94-.94-2.06-.94 2.06-2.06.94z\"/><path d=\"M17.41 7.96l-1.37-1.37c-.4-.4-.92-.59-1.43-.59-.52 0-1.04.2-1.43.59L10.3 9.45l-7.72 7.72c-.78.78-.78 2.05 0 2.83L4 21.41c.39.39.9.59 1.41.59.51 0 1.02-.2 1.41-.59l7.78-7.78 2.81-2.81c.8-.78.8-2.07 0-2.86zM5.41 20L4 18.59l7.72-7.72 1.47 1.35L5.41 20z\"/>\n",
              "  </svg>\n",
              "      </button>\n",
              "      \n",
              "  <style>\n",
              "    .colab-df-container {\n",
              "      display:flex;\n",
              "      flex-wrap:wrap;\n",
              "      gap: 12px;\n",
              "    }\n",
              "\n",
              "    .colab-df-convert {\n",
              "      background-color: #E8F0FE;\n",
              "      border: none;\n",
              "      border-radius: 50%;\n",
              "      cursor: pointer;\n",
              "      display: none;\n",
              "      fill: #1967D2;\n",
              "      height: 32px;\n",
              "      padding: 0 0 0 0;\n",
              "      width: 32px;\n",
              "    }\n",
              "\n",
              "    .colab-df-convert:hover {\n",
              "      background-color: #E2EBFA;\n",
              "      box-shadow: 0px 1px 2px rgba(60, 64, 67, 0.3), 0px 1px 3px 1px rgba(60, 64, 67, 0.15);\n",
              "      fill: #174EA6;\n",
              "    }\n",
              "\n",
              "    [theme=dark] .colab-df-convert {\n",
              "      background-color: #3B4455;\n",
              "      fill: #D2E3FC;\n",
              "    }\n",
              "\n",
              "    [theme=dark] .colab-df-convert:hover {\n",
              "      background-color: #434B5C;\n",
              "      box-shadow: 0px 1px 3px 1px rgba(0, 0, 0, 0.15);\n",
              "      filter: drop-shadow(0px 1px 2px rgba(0, 0, 0, 0.3));\n",
              "      fill: #FFFFFF;\n",
              "    }\n",
              "  </style>\n",
              "\n",
              "      <script>\n",
              "        const buttonEl =\n",
              "          document.querySelector('#df-7a132a67-bd0b-4cb0-9963-25280abb6b02 button.colab-df-convert');\n",
              "        buttonEl.style.display =\n",
              "          google.colab.kernel.accessAllowed ? 'block' : 'none';\n",
              "\n",
              "        async function convertToInteractive(key) {\n",
              "          const element = document.querySelector('#df-7a132a67-bd0b-4cb0-9963-25280abb6b02');\n",
              "          const dataTable =\n",
              "            await google.colab.kernel.invokeFunction('convertToInteractive',\n",
              "                                                     [key], {});\n",
              "          if (!dataTable) return;\n",
              "\n",
              "          const docLinkHtml = 'Like what you see? Visit the ' +\n",
              "            '<a target=\"_blank\" href=https://colab.research.google.com/notebooks/data_table.ipynb>data table notebook</a>'\n",
              "            + ' to learn more about interactive tables.';\n",
              "          element.innerHTML = '';\n",
              "          dataTable['output_type'] = 'display_data';\n",
              "          await google.colab.output.renderOutput(dataTable, element);\n",
              "          const docLink = document.createElement('div');\n",
              "          docLink.innerHTML = docLinkHtml;\n",
              "          element.appendChild(docLink);\n",
              "        }\n",
              "      </script>\n",
              "    </div>\n",
              "  </div>\n",
              "  "
            ]
          },
          "metadata": {},
          "execution_count": 15
        }
      ],
      "source": [
        "data.head(15)"
      ],
      "id": "89bbfce6"
    },
    {
      "cell_type": "code",
      "execution_count": 28,
      "id": "904efb12",
      "metadata": {
        "execution": {
          "iopub.execute_input": "2023-04-15T14:31:58.183370Z",
          "iopub.status.busy": "2023-04-15T14:31:58.182239Z",
          "iopub.status.idle": "2023-04-15T14:31:58.197109Z",
          "shell.execute_reply": "2023-04-15T14:31:58.196209Z"
        },
        "papermill": {
          "duration": 0.030471,
          "end_time": "2023-04-15T14:31:58.199673",
          "exception": false,
          "start_time": "2023-04-15T14:31:58.169202",
          "status": "completed"
        },
        "tags": [],
        "colab": {
          "base_uri": "https://localhost:8080/",
          "height": 206
        },
        "id": "904efb12",
        "outputId": "677a9e1d-2de7-4d21-c458-0b18f9119665"
      },
      "outputs": [
        {
          "output_type": "execute_result",
          "data": {
            "text/plain": [
              "   gender race/ethnicity parental level of education         lunch  \\\n",
              "0  female        group D                some college      standard   \n",
              "1    male        group D          associate's degree      standard   \n",
              "2  female        group D                some college  free/reduced   \n",
              "3    male        group B                some college  free/reduced   \n",
              "4  female        group D          associate's degree      standard   \n",
              "\n",
              "  test preparation course  math score  reading score  writing score  \\\n",
              "0               completed          59             70             78   \n",
              "1                    none          96             93             87   \n",
              "2                    none          57             76             77   \n",
              "3                    none          70             70             63   \n",
              "4                    none          83             85             86   \n",
              "\n",
              "   student score         grade class  \n",
              "0          69.00         First class  \n",
              "1          92.00         First class  \n",
              "2          70.00         First class  \n",
              "3          67.67  Second Class Upper  \n",
              "4          84.67         First class  "
            ],
            "text/html": [
              "\n",
              "  <div id=\"df-d64d07b3-fd04-492c-afd4-4c8b9c0f47dd\">\n",
              "    <div class=\"colab-df-container\">\n",
              "      <div>\n",
              "<style scoped>\n",
              "    .dataframe tbody tr th:only-of-type {\n",
              "        vertical-align: middle;\n",
              "    }\n",
              "\n",
              "    .dataframe tbody tr th {\n",
              "        vertical-align: top;\n",
              "    }\n",
              "\n",
              "    .dataframe thead th {\n",
              "        text-align: right;\n",
              "    }\n",
              "</style>\n",
              "<table border=\"1\" class=\"dataframe\">\n",
              "  <thead>\n",
              "    <tr style=\"text-align: right;\">\n",
              "      <th></th>\n",
              "      <th>gender</th>\n",
              "      <th>race/ethnicity</th>\n",
              "      <th>parental level of education</th>\n",
              "      <th>lunch</th>\n",
              "      <th>test preparation course</th>\n",
              "      <th>math score</th>\n",
              "      <th>reading score</th>\n",
              "      <th>writing score</th>\n",
              "      <th>student score</th>\n",
              "      <th>grade class</th>\n",
              "    </tr>\n",
              "  </thead>\n",
              "  <tbody>\n",
              "    <tr>\n",
              "      <th>0</th>\n",
              "      <td>female</td>\n",
              "      <td>group D</td>\n",
              "      <td>some college</td>\n",
              "      <td>standard</td>\n",
              "      <td>completed</td>\n",
              "      <td>59</td>\n",
              "      <td>70</td>\n",
              "      <td>78</td>\n",
              "      <td>69.00</td>\n",
              "      <td>First class</td>\n",
              "    </tr>\n",
              "    <tr>\n",
              "      <th>1</th>\n",
              "      <td>male</td>\n",
              "      <td>group D</td>\n",
              "      <td>associate's degree</td>\n",
              "      <td>standard</td>\n",
              "      <td>none</td>\n",
              "      <td>96</td>\n",
              "      <td>93</td>\n",
              "      <td>87</td>\n",
              "      <td>92.00</td>\n",
              "      <td>First class</td>\n",
              "    </tr>\n",
              "    <tr>\n",
              "      <th>2</th>\n",
              "      <td>female</td>\n",
              "      <td>group D</td>\n",
              "      <td>some college</td>\n",
              "      <td>free/reduced</td>\n",
              "      <td>none</td>\n",
              "      <td>57</td>\n",
              "      <td>76</td>\n",
              "      <td>77</td>\n",
              "      <td>70.00</td>\n",
              "      <td>First class</td>\n",
              "    </tr>\n",
              "    <tr>\n",
              "      <th>3</th>\n",
              "      <td>male</td>\n",
              "      <td>group B</td>\n",
              "      <td>some college</td>\n",
              "      <td>free/reduced</td>\n",
              "      <td>none</td>\n",
              "      <td>70</td>\n",
              "      <td>70</td>\n",
              "      <td>63</td>\n",
              "      <td>67.67</td>\n",
              "      <td>Second Class Upper</td>\n",
              "    </tr>\n",
              "    <tr>\n",
              "      <th>4</th>\n",
              "      <td>female</td>\n",
              "      <td>group D</td>\n",
              "      <td>associate's degree</td>\n",
              "      <td>standard</td>\n",
              "      <td>none</td>\n",
              "      <td>83</td>\n",
              "      <td>85</td>\n",
              "      <td>86</td>\n",
              "      <td>84.67</td>\n",
              "      <td>First class</td>\n",
              "    </tr>\n",
              "  </tbody>\n",
              "</table>\n",
              "</div>\n",
              "      <button class=\"colab-df-convert\" onclick=\"convertToInteractive('df-d64d07b3-fd04-492c-afd4-4c8b9c0f47dd')\"\n",
              "              title=\"Convert this dataframe to an interactive table.\"\n",
              "              style=\"display:none;\">\n",
              "        \n",
              "  <svg xmlns=\"http://www.w3.org/2000/svg\" height=\"24px\"viewBox=\"0 0 24 24\"\n",
              "       width=\"24px\">\n",
              "    <path d=\"M0 0h24v24H0V0z\" fill=\"none\"/>\n",
              "    <path d=\"M18.56 5.44l.94 2.06.94-2.06 2.06-.94-2.06-.94-.94-2.06-.94 2.06-2.06.94zm-11 1L8.5 8.5l.94-2.06 2.06-.94-2.06-.94L8.5 2.5l-.94 2.06-2.06.94zm10 10l.94 2.06.94-2.06 2.06-.94-2.06-.94-.94-2.06-.94 2.06-2.06.94z\"/><path d=\"M17.41 7.96l-1.37-1.37c-.4-.4-.92-.59-1.43-.59-.52 0-1.04.2-1.43.59L10.3 9.45l-7.72 7.72c-.78.78-.78 2.05 0 2.83L4 21.41c.39.39.9.59 1.41.59.51 0 1.02-.2 1.41-.59l7.78-7.78 2.81-2.81c.8-.78.8-2.07 0-2.86zM5.41 20L4 18.59l7.72-7.72 1.47 1.35L5.41 20z\"/>\n",
              "  </svg>\n",
              "      </button>\n",
              "      \n",
              "  <style>\n",
              "    .colab-df-container {\n",
              "      display:flex;\n",
              "      flex-wrap:wrap;\n",
              "      gap: 12px;\n",
              "    }\n",
              "\n",
              "    .colab-df-convert {\n",
              "      background-color: #E8F0FE;\n",
              "      border: none;\n",
              "      border-radius: 50%;\n",
              "      cursor: pointer;\n",
              "      display: none;\n",
              "      fill: #1967D2;\n",
              "      height: 32px;\n",
              "      padding: 0 0 0 0;\n",
              "      width: 32px;\n",
              "    }\n",
              "\n",
              "    .colab-df-convert:hover {\n",
              "      background-color: #E2EBFA;\n",
              "      box-shadow: 0px 1px 2px rgba(60, 64, 67, 0.3), 0px 1px 3px 1px rgba(60, 64, 67, 0.15);\n",
              "      fill: #174EA6;\n",
              "    }\n",
              "\n",
              "    [theme=dark] .colab-df-convert {\n",
              "      background-color: #3B4455;\n",
              "      fill: #D2E3FC;\n",
              "    }\n",
              "\n",
              "    [theme=dark] .colab-df-convert:hover {\n",
              "      background-color: #434B5C;\n",
              "      box-shadow: 0px 1px 3px 1px rgba(0, 0, 0, 0.15);\n",
              "      filter: drop-shadow(0px 1px 2px rgba(0, 0, 0, 0.3));\n",
              "      fill: #FFFFFF;\n",
              "    }\n",
              "  </style>\n",
              "\n",
              "      <script>\n",
              "        const buttonEl =\n",
              "          document.querySelector('#df-d64d07b3-fd04-492c-afd4-4c8b9c0f47dd button.colab-df-convert');\n",
              "        buttonEl.style.display =\n",
              "          google.colab.kernel.accessAllowed ? 'block' : 'none';\n",
              "\n",
              "        async function convertToInteractive(key) {\n",
              "          const element = document.querySelector('#df-d64d07b3-fd04-492c-afd4-4c8b9c0f47dd');\n",
              "          const dataTable =\n",
              "            await google.colab.kernel.invokeFunction('convertToInteractive',\n",
              "                                                     [key], {});\n",
              "          if (!dataTable) return;\n",
              "\n",
              "          const docLinkHtml = 'Like what you see? Visit the ' +\n",
              "            '<a target=\"_blank\" href=https://colab.research.google.com/notebooks/data_table.ipynb>data table notebook</a>'\n",
              "            + ' to learn more about interactive tables.';\n",
              "          element.innerHTML = '';\n",
              "          dataTable['output_type'] = 'display_data';\n",
              "          await google.colab.output.renderOutput(dataTable, element);\n",
              "          const docLink = document.createElement('div');\n",
              "          docLink.innerHTML = docLinkHtml;\n",
              "          element.appendChild(docLink);\n",
              "        }\n",
              "      </script>\n",
              "    </div>\n",
              "  </div>\n",
              "  "
            ]
          },
          "metadata": {},
          "execution_count": 28
        }
      ],
      "source": [
        "data.head()"
      ]
    },
    {
      "cell_type": "markdown",
      "id": "0587f415",
      "metadata": {
        "papermill": {
          "duration": 0.011972,
          "end_time": "2023-04-15T14:31:58.224458",
          "exception": false,
          "start_time": "2023-04-15T14:31:58.212486",
          "status": "completed"
        },
        "tags": [],
        "id": "0587f415"
      },
      "source": [
        "##Data visualization"
      ]
    },
    {
      "cell_type": "markdown",
      "metadata": {
        "papermill": {
          "duration": 0.046207,
          "end_time": "2021-10-19T06:58:02.199152",
          "exception": false,
          "start_time": "2021-10-19T06:58:02.152945",
          "status": "completed"
        },
        "tags": [],
        "id": "dad0c2b1"
      },
      "source": [
        "#### Distribution of Student Average Score (Overall Average Performance)"
      ],
      "id": "dad0c2b1"
    },
    {
      "cell_type": "code",
      "execution_count": 16,
      "metadata": {
        "execution": {
          "iopub.execute_input": "2021-10-19T06:58:02.301116Z",
          "iopub.status.busy": "2021-10-19T06:58:02.300331Z",
          "iopub.status.idle": "2021-10-19T06:58:02.724887Z",
          "shell.execute_reply": "2021-10-19T06:58:02.724298Z",
          "shell.execute_reply.started": "2021-10-19T06:55:07.470116Z"
        },
        "papermill": {
          "duration": 0.477304,
          "end_time": "2021-10-19T06:58:02.725021",
          "exception": false,
          "start_time": "2021-10-19T06:58:02.247717",
          "status": "completed"
        },
        "tags": [],
        "id": "64894a29",
        "outputId": "c4ff964a-e60c-4412-f14e-230263fb8a31",
        "colab": {
          "base_uri": "https://localhost:8080/",
          "height": 695
        }
      },
      "outputs": [
        {
          "output_type": "stream",
          "name": "stderr",
          "text": [
            "<ipython-input-16-22467d242dd3>:3: UserWarning: \n",
            "\n",
            "`distplot` is a deprecated function and will be removed in seaborn v0.14.0.\n",
            "\n",
            "Please adapt your code to use either `displot` (a figure-level function with\n",
            "similar flexibility) or `histplot` (an axes-level function for histograms).\n",
            "\n",
            "For a guide to updating your code to use the new functions, please see\n",
            "https://gist.github.com/mwaskom/de44147ed2974457ad6372750bbe5751\n",
            "\n",
            "  f = sns.distplot(data[\"student score\"], kde = True)\n"
          ]
        },
        {
          "output_type": "display_data",
          "data": {
            "text/plain": [
              "14.020783431003418"
            ]
          },
          "metadata": {}
        },
        {
          "output_type": "display_data",
          "data": {
            "text/plain": [
              "<Figure size 1000x500 with 1 Axes>"
            ],
            "image/png": "[encoded data removed]"
          },
          "metadata": {}
        }
      ],
      "source": [
        "plt.figure(figsize=(10, 5))\n",
        "#plt.subplots()\n",
        "f = sns.distplot(data[\"student score\"], kde = True)\n",
        "display(np.std(data[\"student score\"]))\n",
        "plt.title(\"Distribution of Student Average Score\", fontsize = 12 )\n",
        "sns.despine()\n"
      ],
      "id": "64894a29"
    },
    {
      "cell_type": "markdown",
      "metadata": {
        "papermill": {
          "duration": 0.047771,
          "end_time": "2021-10-19T06:58:02.823813",
          "exception": false,
          "start_time": "2021-10-19T06:58:02.776042",
          "status": "completed"
        },
        "tags": [],
        "id": "47e8bfa5"
      },
      "source": [
        "This shows the Average student performance is inclined toward 40-80"
      ],
      "id": "47e8bfa5"
    },
    {
      "cell_type": "markdown",
      "metadata": {
        "papermill": {
          "duration": 0.047459,
          "end_time": "2021-10-19T06:58:02.919239",
          "exception": false,
          "start_time": "2021-10-19T06:58:02.871780",
          "status": "completed"
        },
        "tags": [],
        "id": "hVg5usWqjTQY"
      },
      "source": [
        "#### Distribution of Student Score by Gender"
      ],
      "id": "hVg5usWqjTQY"
    },
    {
      "cell_type": "code",
      "execution_count": 17,
      "metadata": {
        "execution": {
          "iopub.execute_input": "2021-10-19T06:58:03.026463Z",
          "iopub.status.busy": "2021-10-19T06:58:03.025183Z",
          "iopub.status.idle": "2021-10-19T06:58:03.265410Z",
          "shell.execute_reply": "2021-10-19T06:58:03.265866Z",
          "shell.execute_reply.started": "2021-10-19T06:55:14.884353Z"
        },
        "papermill": {
          "duration": 0.296468,
          "end_time": "2021-10-19T06:58:03.266028",
          "exception": false,
          "start_time": "2021-10-19T06:58:02.969560",
          "status": "completed"
        },
        "tags": [],
        "outputId": "ce24a7ba-5be7-4bfc-dd90-5e882b2db5e2",
        "colab": {
          "base_uri": "https://localhost:8080/",
          "height": 678
        },
        "id": "dJdQCgYPjTQo"
      },
      "outputs": [
        {
          "output_type": "stream",
          "name": "stderr",
          "text": [
            "<ipython-input-17-b44a40958c30>:3: UserWarning: \n",
            "\n",
            "`distplot` is a deprecated function and will be removed in seaborn v0.14.0.\n",
            "\n",
            "Please adapt your code to use either `displot` (a figure-level function with\n",
            "similar flexibility) or `histplot` (an axes-level function for histograms).\n",
            "\n",
            "For a guide to updating your code to use the new functions, please see\n",
            "https://gist.github.com/mwaskom/de44147ed2974457ad6372750bbe5751\n",
            "\n",
            "  sns.distplot(data[data[\"gender\"] == \"male\"][\"student score\"], kde = True)\n"
          ]
        },
        {
          "output_type": "display_data",
          "data": {
            "text/plain": [
              "<Figure size 1000x500 with 1 Axes>"
            ],
            "image/png": "[encoded data removed]"
          },
          "metadata": {}
        }
      ],
      "source": [
        "# Male Students Average score distribution\n",
        "plt.figure(figsize=(10, 5))\n",
        "sns.distplot(data[data[\"gender\"] == \"male\"][\"student score\"], kde = True)\n",
        "plt.title(\"Distribution of Male Student Average Score\", fontsize = 12 )\n",
        "\n",
        "sns.despine()\n",
        "plt.show()\n"
      ],
      "id": "dJdQCgYPjTQo"
    },
    {
      "cell_type": "markdown",
      "metadata": {
        "papermill": {
          "duration": 0.047459,
          "end_time": "2021-10-19T06:58:02.919239",
          "exception": false,
          "start_time": "2021-10-19T06:58:02.871780",
          "status": "completed"
        },
        "tags": [],
        "id": "230a87f8"
      },
      "source": [
        "#### Distribution of Student Score by Gender"
      ],
      "id": "230a87f8"
    },
    {
      "cell_type": "code",
      "execution_count": null,
      "metadata": {
        "execution": {
          "iopub.execute_input": "2021-10-19T06:58:03.026463Z",
          "iopub.status.busy": "2021-10-19T06:58:03.025183Z",
          "iopub.status.idle": "2021-10-19T06:58:03.265410Z",
          "shell.execute_reply": "2021-10-19T06:58:03.265866Z",
          "shell.execute_reply.started": "2021-10-19T06:55:14.884353Z"
        },
        "papermill": {
          "duration": 0.296468,
          "end_time": "2021-10-19T06:58:03.266028",
          "exception": false,
          "start_time": "2021-10-19T06:58:02.969560",
          "status": "completed"
        },
        "tags": [],
        "id": "c7bc8e7d",
        "outputId": "a758fae7-d8d2-4d1f-b1c5-0b7daf73d4cf"
      },
      "outputs": [
        {
          "name": "stderr",
          "output_type": "stream",
          "text": [
            "/opt/conda/lib/python3.7/site-packages/seaborn/distributions.py:2619: FutureWarning: `distplot` is a deprecated function and will be removed in a future version. Please adapt your code to use either `displot` (a figure-level function with similar flexibility) or `histplot` (an axes-level function for histograms).\n",
            "  warnings.warn(msg, FutureWarning)\n"
          ]
        },
        {
          "data": {
            "image/png": "[encoded data removed]",
            "text/plain": [
              "<Figure size 720x360 with 1 Axes>"
            ]
          },
          "metadata": {
            "needs_background": "light"
          },
          "output_type": "display_data"
        }
      ],
      "source": [
        "# Male Students Average score distribution\n",
        "plt.figure(figsize=(10, 5))\n",
        "sns.distplot(dataset_[dataset_[\"gender\"] == \"male\"][\"student score\"], kde = True)\n",
        "plt.title(\"Distribution of Male Student Average Score\", fontsize = 12 )\n",
        "\n",
        "sns.despine()\n",
        "plt.show()\n"
      ],
      "id": "c7bc8e7d"
    },
    {
      "cell_type": "markdown",
      "source": [
        "Distribution of Female Student Average Score"
      ],
      "metadata": {
        "id": "1Z711-RHq0V0"
      },
      "id": "1Z711-RHq0V0"
    },
    {
      "cell_type": "code",
      "execution_count": 19,
      "metadata": {
        "execution": {
          "iopub.execute_input": "2021-10-19T06:58:03.368161Z",
          "iopub.status.busy": "2021-10-19T06:58:03.367229Z",
          "iopub.status.idle": "2021-10-19T06:58:03.622089Z",
          "shell.execute_reply": "2021-10-19T06:58:03.621601Z",
          "shell.execute_reply.started": "2021-10-19T06:55:15.199978Z"
        },
        "papermill": {
          "duration": 0.307535,
          "end_time": "2021-10-19T06:58:03.622322",
          "exception": false,
          "start_time": "2021-10-19T06:58:03.314787",
          "status": "completed"
        },
        "tags": [],
        "id": "3fd96c9e",
        "outputId": "f0d18d90-3c5c-446e-b026-bfbda321a173",
        "colab": {
          "base_uri": "https://localhost:8080/",
          "height": 678
        }
      },
      "outputs": [
        {
          "output_type": "stream",
          "name": "stderr",
          "text": [
            "<ipython-input-19-f9c7e7de554b>:3: UserWarning: \n",
            "\n",
            "`distplot` is a deprecated function and will be removed in seaborn v0.14.0.\n",
            "\n",
            "Please adapt your code to use either `displot` (a figure-level function with\n",
            "similar flexibility) or `histplot` (an axes-level function for histograms).\n",
            "\n",
            "For a guide to updating your code to use the new functions, please see\n",
            "https://gist.github.com/mwaskom/de44147ed2974457ad6372750bbe5751\n",
            "\n",
            "  sns.distplot(data[data[\"gender\"] == \"female\"][\"student score\"], kde = True)\n"
          ]
        },
        {
          "output_type": "display_data",
          "data": {
            "text/plain": [
              "<Figure size 1000x500 with 1 Axes>"
            ],
            "image/png": "[encoded data removed]"
          },
          "metadata": {}
        }
      ],
      "source": [
        "# Female Students Average score distribution\n",
        "plt.figure(figsize=(10, 5))\n",
        "sns.distplot(data[data[\"gender\"] == \"female\"][\"student score\"], kde = True)\n",
        "plt.title(\"Distribution of Female Student Average Score\", fontsize = 12 )\n",
        "\n",
        "sns.despine()\n",
        "plt.show()"
      ],
      "id": "3fd96c9e"
    },
    {
      "cell_type": "markdown",
      "metadata": {
        "papermill": {
          "duration": 0.049784,
          "end_time": "2021-10-19T06:58:03.722872",
          "exception": false,
          "start_time": "2021-10-19T06:58:03.673088",
          "status": "completed"
        },
        "tags": [],
        "id": "fcf5c243"
      },
      "source": [
        "Between the Male & Female distribution, we can see that a higher number of female Students are more distributed towards the higher average score."
      ],
      "id": "fcf5c243"
    },
    {
      "cell_type": "markdown",
      "metadata": {
        "papermill": {
          "duration": 0.050377,
          "end_time": "2021-10-19T06:58:03.923833",
          "exception": false,
          "start_time": "2021-10-19T06:58:03.873456",
          "status": "completed"
        },
        "tags": [],
        "id": "b0a3ee6b"
      },
      "source": [
        "## Classification of students by grade class"
      ],
      "id": "b0a3ee6b"
    },
    {
      "cell_type": "code",
      "execution_count": 20,
      "metadata": {
        "execution": {
          "iopub.execute_input": "2021-10-19T06:58:04.032698Z",
          "iopub.status.busy": "2021-10-19T06:58:04.031736Z",
          "iopub.status.idle": "2021-10-19T06:58:04.035410Z",
          "shell.execute_reply": "2021-10-19T06:58:04.034636Z",
          "shell.execute_reply.started": "2021-10-19T06:55:26.379486Z"
        },
        "papermill": {
          "duration": 0.061503,
          "end_time": "2021-10-19T06:58:04.035603",
          "exception": false,
          "start_time": "2021-10-19T06:58:03.974100",
          "status": "completed"
        },
        "tags": [],
        "id": "138da414"
      },
      "outputs": [],
      "source": [
        " df = data[\"grade class\"].value_counts()"
      ],
      "id": "138da414"
    },
    {
      "cell_type": "code",
      "execution_count": 21,
      "metadata": {
        "execution": {
          "iopub.execute_input": "2021-10-19T06:58:04.142586Z",
          "iopub.status.busy": "2021-10-19T06:58:04.141927Z",
          "iopub.status.idle": "2021-10-19T06:58:04.144356Z",
          "shell.execute_reply": "2021-10-19T06:58:04.143857Z",
          "shell.execute_reply.started": "2021-10-19T06:55:26.522278Z"
        },
        "papermill": {
          "duration": 0.057967,
          "end_time": "2021-10-19T06:58:04.144497",
          "exception": false,
          "start_time": "2021-10-19T06:58:04.086530",
          "status": "completed"
        },
        "tags": [],
        "id": "9c2d57b2"
      },
      "outputs": [],
      "source": [
        "fd = (df/1000)*100"
      ],
      "id": "9c2d57b2"
    },
    {
      "cell_type": "code",
      "execution_count": 22,
      "metadata": {
        "execution": {
          "iopub.execute_input": "2021-10-19T06:58:04.252401Z",
          "iopub.status.busy": "2021-10-19T06:58:04.251186Z",
          "iopub.status.idle": "2021-10-19T06:58:04.255750Z",
          "shell.execute_reply": "2021-10-19T06:58:04.256379Z",
          "shell.execute_reply.started": "2021-10-19T06:55:26.763381Z"
        },
        "papermill": {
          "duration": 0.06171,
          "end_time": "2021-10-19T06:58:04.256552",
          "exception": false,
          "start_time": "2021-10-19T06:58:04.194842",
          "status": "completed"
        },
        "tags": [],
        "id": "6c577b06"
      },
      "outputs": [],
      "source": [
        "lab = data[\"grade class\"].unique()"
      ],
      "id": "6c577b06"
    },
    {
      "cell_type": "code",
      "execution_count": 23,
      "metadata": {
        "execution": {
          "iopub.execute_input": "2021-10-19T06:58:04.370445Z",
          "iopub.status.busy": "2021-10-19T06:58:04.369125Z",
          "iopub.status.idle": "2021-10-19T06:58:04.504583Z",
          "shell.execute_reply": "2021-10-19T06:58:04.504993Z",
          "shell.execute_reply.started": "2021-10-19T06:55:29.313645Z"
        },
        "papermill": {
          "duration": 0.198276,
          "end_time": "2021-10-19T06:58:04.505160",
          "exception": false,
          "start_time": "2021-10-19T06:58:04.306884",
          "status": "completed"
        },
        "tags": [],
        "id": "ecc46c55",
        "outputId": "f9f51d0a-427f-45fc-d2f7-f59c6103dda0",
        "colab": {
          "base_uri": "https://localhost:8080/",
          "height": 428
        }
      },
      "outputs": [
        {
          "output_type": "display_data",
          "data": {
            "text/plain": [
              "<Figure size 640x480 with 1 Axes>"
            ],
            "image/png": "[encoded data removed]"
          },
          "metadata": {}
        }
      ],
      "source": [
        "# Bar chart\n",
        "\n",
        "labels = lab\n",
        "values = fd\n",
        "explode = (0,0.1,0,0,0)\n",
        "\n",
        "fg1, ax1 = plt.subplots()\n",
        "ax1.pie(fd, labels = labels, explode = explode, autopct = \"%1.1f%%\", shadow = True, startangle = 90)\n",
        "ax1.axis(\"equal\")\n",
        "plt.title(\"Distribution of Student by Grade\", fontsize = 12 )\n",
        "\n",
        "plt.show()"
      ],
      "id": "ecc46c55"
    },
    {
      "cell_type": "markdown",
      "metadata": {
        "papermill": {
          "duration": 0.050805,
          "end_time": "2021-10-19T06:58:04.607725",
          "exception": false,
          "start_time": "2021-10-19T06:58:04.556920",
          "status": "completed"
        },
        "tags": [],
        "id": "3f2b6de0"
      },
      "source": [
        "## Further Analysis "
      ],
      "id": "3f2b6de0"
    },
    {
      "cell_type": "markdown",
      "metadata": {
        "papermill": {
          "duration": 0.051502,
          "end_time": "2021-10-19T06:58:04.710353",
          "exception": false,
          "start_time": "2021-10-19T06:58:04.658851",
          "status": "completed"
        },
        "tags": [],
        "id": "4290d37d"
      },
      "source": [
        "Let's look at how each variable affect the overall performance of students"
      ],
      "id": "4290d37d"
    },
    {
      "cell_type": "markdown",
      "metadata": {
        "papermill": {
          "duration": 0.052783,
          "end_time": "2021-10-19T06:58:04.814575",
          "exception": false,
          "start_time": "2021-10-19T06:58:04.761792",
          "status": "completed"
        },
        "tags": [],
        "id": "c86622b1"
      },
      "source": [
        "### Gender"
      ],
      "id": "c86622b1"
    },
    {
      "cell_type": "code",
      "execution_count": 24,
      "metadata": {
        "execution": {
          "iopub.execute_input": "2021-10-19T06:58:04.922489Z",
          "iopub.status.busy": "2021-10-19T06:58:04.921574Z",
          "iopub.status.idle": "2021-10-19T06:58:05.323032Z",
          "shell.execute_reply": "2021-10-19T06:58:05.323614Z",
          "shell.execute_reply.started": "2021-10-19T06:55:34.682109Z"
        },
        "papermill": {
          "duration": 0.458165,
          "end_time": "2021-10-19T06:58:05.323788",
          "exception": false,
          "start_time": "2021-10-19T06:58:04.865623",
          "status": "completed"
        },
        "tags": [],
        "id": "ae0b561c",
        "outputId": "ffe0964f-2d08-4d98-93a5-251b8250ac01",
        "colab": {
          "base_uri": "https://localhost:8080/",
          "height": 546
        }
      },
      "outputs": [
        {
          "output_type": "display_data",
          "data": {
            "text/plain": [
              "<Figure size 1200x500 with 0 Axes>"
            ]
          },
          "metadata": {}
        },
        {
          "output_type": "display_data",
          "data": {
            "text/plain": [
              "<Figure size 688.375x500 with 1 Axes>"
            ],
            "image/png": "[encoded data removed]"
          },
          "metadata": {}
        }
      ],
      "source": [
        "#Map showing relationship between Gender and grade class\n",
        "hue = ['First class', 'Second Class Upper', 'Second Class Lower', 'Pass',\n",
        "       'Fail']\n",
        "plt.figure(figsize=(12, 5))\n",
        "\n",
        "sns.catplot(x=\"gender\", kind = \"count\", hue = \"grade class\", hue_order = hue, data = data)\n",
        "plt.title(\"Student Grade distribution by gender\", fontsize = 12 )\n",
        "plt.show()\n"
      ],
      "id": "ae0b561c"
    },
    {
      "cell_type": "markdown",
      "metadata": {
        "papermill": {
          "duration": 0.054308,
          "end_time": "2021-10-19T06:58:05.431427",
          "exception": false,
          "start_time": "2021-10-19T06:58:05.377119",
          "status": "completed"
        },
        "tags": [],
        "id": "dd6a7e84"
      },
      "source": [
        "This Shows the female gender has more First Class students compared to make and almost same amount of Second Class Upper students"
      ],
      "id": "dd6a7e84"
    },
    {
      "cell_type": "markdown",
      "source": [
        "###Distribution Of Parental Education Level and Race/ethnicity"
      ],
      "metadata": {
        "id": "G2ha6AIJrFUZ"
      },
      "id": "G2ha6AIJrFUZ"
    },
    {
      "cell_type": "code",
      "execution_count": 27,
      "id": "398ddc79",
      "metadata": {
        "execution": {
          "iopub.execute_input": "2023-04-15T14:31:59.006686Z",
          "iopub.status.busy": "2023-04-15T14:31:59.005970Z",
          "iopub.status.idle": "2023-04-15T14:31:59.429396Z",
          "shell.execute_reply": "2023-04-15T14:31:59.428361Z"
        },
        "papermill": {
          "duration": 0.442542,
          "end_time": "2023-04-15T14:31:59.431803",
          "exception": false,
          "start_time": "2023-04-15T14:31:58.989261",
          "status": "completed"
        },
        "tags": [],
        "colab": {
          "base_uri": "https://localhost:8080/",
          "height": 407
        },
        "id": "398ddc79",
        "outputId": "e905acda-6941-4a79-d0ca-91b6280cc0ba"
      },
      "outputs": [
        {
          "output_type": "display_data",
          "data": {
            "text/plain": [
              "<Figure size 1600x400 with 2 Axes>"
            ],
            "image/png": "[encoded data removed]"
          },
          "metadata": {}
        }
      ],
      "source": [
        "# Set the color palette\n",
        "palette = sns.color_palette(\"pastel\")\n",
        "\n",
        "# Create a figure with two subplots\n",
        "fig, axs = plt.subplots(1, 2, figsize=(16, 4))\n",
        "\n",
        "# Create the first subplot for the countplot of parental level of education\n",
        "sns.countplot(y=\"parental level of education\", data=data, ax=axs[0], palette=palette)\n",
        "axs[0].set_title('Distribution of Parental Education Level')\n",
        "\n",
        "# Create the second subplot for the countplot of race/ethnicity\n",
        "sns.countplot(y=\"race/ethnicity\", data=data, ax=axs[1], palette=palette)\n",
        "axs[1].set_title('Distribution of Race / Ethnicity')\n",
        "\n",
        "# Set the y-labels for both subplots\n",
        "axs[0].set_ylabel('')\n",
        "axs[1].set_ylabel('')\n",
        "\n",
        "# Set the x-labels for both subplots\n",
        "axs[0].set_xlabel('Number of Students')\n",
        "axs[1].set_xlabel('Number of Students')\n",
        "\n",
        "# Increase the distance between subplots\n",
        "fig.subplots_adjust(wspace=0.5)\n",
        "\n",
        "# Set the tight layout\n",
        "plt.tight_layout()\n",
        "\n",
        "# Display the plot\n",
        "plt.show()"
      ]
    },
    {
      "cell_type": "markdown",
      "metadata": {
        "papermill": {
          "duration": 0.05268,
          "end_time": "2021-10-19T06:58:06.073471",
          "exception": false,
          "start_time": "2021-10-19T06:58:06.020791",
          "status": "completed"
        },
        "tags": [],
        "id": "abd61347"
      },
      "source": [
        "This indicates that Group C performs better compared to other groups"
      ],
      "id": "abd61347"
    },
    {
      "cell_type": "markdown",
      "metadata": {
        "papermill": {
          "duration": 0.052793,
          "end_time": "2021-10-19T06:58:06.180080",
          "exception": false,
          "start_time": "2021-10-19T06:58:06.127287",
          "status": "completed"
        },
        "tags": [],
        "id": "b4d7f881"
      },
      "source": [
        "## Performance by Race/Ethnicity and Grade Class"
      ],
      "id": "b4d7f881"
    },
    {
      "cell_type": "code",
      "execution_count": 30,
      "metadata": {
        "execution": {
          "iopub.execute_input": "2021-10-19T06:58:06.297780Z",
          "iopub.status.busy": "2021-10-19T06:58:06.297103Z",
          "iopub.status.idle": "2021-10-19T06:58:06.716210Z",
          "shell.execute_reply": "2021-10-19T06:58:06.715689Z",
          "shell.execute_reply.started": "2021-10-19T06:55:56.223048Z"
        },
        "papermill": {
          "duration": 0.483196,
          "end_time": "2021-10-19T06:58:06.716373",
          "exception": false,
          "start_time": "2021-10-19T06:58:06.233177",
          "status": "completed"
        },
        "tags": [],
        "id": "495fa30b",
        "outputId": "ed8a518f-2ac8-4b61-8a7b-c23ad691ccbf",
        "colab": {
          "base_uri": "https://localhost:8080/",
          "height": 546
        }
      },
      "outputs": [
        {
          "output_type": "display_data",
          "data": {
            "text/plain": [
              "<Figure size 1000x1000 with 0 Axes>"
            ]
          },
          "metadata": {}
        },
        {
          "output_type": "display_data",
          "data": {
            "text/plain": [
              "<Figure size 688.375x500 with 1 Axes>"
            ],
            "image/png": "[encoded data removed]"
          },
          "metadata": {}
        }
      ],
      "source": [
        "#Map showing relationship between race/ethnicity and grade class\n",
        "rac = ['First class', 'Second Class Upper', 'Second Class Lower', 'Pass',\n",
        "       'Fail']\n",
        "racc = [\"group A\", \"group B\", \"group C\", \"group D\", \"group E\"]\n",
        "\n",
        "plt.figure(figsize=(10, 10))\n",
        "sns.catplot(x=\"race/ethnicity\", kind = \"count\", order = racc, hue = \"grade class\", hue_order = rac, data = data)\n",
        "plt.title(\"Ethinicity/Grade\", fontsize = 12 )\n",
        "\n",
        "plt.show()"
      ],
      "id": "495fa30b"
    },
    {
      "cell_type": "markdown",
      "source": [
        "###Distribution of Scores based on gender"
      ],
      "metadata": {
        "id": "NjcpcOIQrT8s"
      },
      "id": "NjcpcOIQrT8s"
    },
    {
      "cell_type": "code",
      "execution_count": 29,
      "id": "13ffb9bf",
      "metadata": {
        "execution": {
          "iopub.execute_input": "2023-04-15T14:31:59.467216Z",
          "iopub.status.busy": "2023-04-15T14:31:59.466052Z",
          "iopub.status.idle": "2023-04-15T14:32:01.020263Z",
          "shell.execute_reply": "2023-04-15T14:32:01.018918Z"
        },
        "papermill": {
          "duration": 1.576012,
          "end_time": "2023-04-15T14:32:01.023650",
          "exception": false,
          "start_time": "2023-04-15T14:31:59.447638",
          "status": "completed"
        },
        "tags": [],
        "colab": {
          "base_uri": "https://localhost:8080/",
          "height": 807
        },
        "id": "13ffb9bf",
        "outputId": "e58bbea1-3414-45d0-daee-188a9a1323fc"
      },
      "outputs": [
        {
          "output_type": "display_data",
          "data": {
            "text/plain": [
              "<Figure size 1800x800 with 4 Axes>"
            ],
            "image/png": "[encoded data removed]"
          },
          "metadata": {}
        }
      ],
      "source": [
        "# Set the color palette\n",
        "palette = sns.color_palette(\"pastel\")\n",
        "\n",
        "# Create a figure with three subplots\n",
        "fig, axs = plt.subplots(2, 2, figsize=(18, 8), sharey=True, sharex = True)\n",
        "\n",
        "# Create the first subplot for the distribution of math scores\n",
        "sns.histplot(x=\"math score\", data=data, ax=axs[0, 0], hue = 'gender', palette=\"Set2\")\n",
        "axs[0, 0].set_title('Distribution of Math Scores')\n",
        "\n",
        "# Create the second subplot for the distribution of reading scores\n",
        "sns.histplot(x=\"reading score\", data=data, ax=axs[0, 1],hue = 'gender', palette=\"Set2\")\n",
        "axs[0, 1].set_title('Distribution of Reading Scores')\n",
        "\n",
        "# Create the third subplot for the distribution of writing scores\n",
        "sns.histplot(x=\"writing score\", data=data, ax=axs[1, 0],hue = 'gender', palette=\"Set2\")\n",
        "axs[1, 0].set_title('Distribution of Writing Scores')\n",
        "\n",
        "# Create the third subplot for the distribution of writing scores\n",
        "sns.histplot(x=\"student score\", data=data, ax=axs[1, 1],hue = 'gender', palette=\"Set2\")\n",
        "axs[1, 1].set_title('Distribution of Student Scores')\n",
        "\n",
        "# Increase the distance between subplots\n",
        "fig.subplots_adjust(wspace=0.3)\n",
        "\n",
        "# Set the tight layout\n",
        "plt.tight_layout()\n",
        "\n",
        "# Display the plot\n",
        "plt.show()\n"
      ]
    },
    {
      "cell_type": "markdown",
      "metadata": {
        "papermill": {
          "duration": 0.055805,
          "end_time": "2021-10-19T06:58:07.496138",
          "exception": false,
          "start_time": "2021-10-19T06:58:07.440333",
          "status": "completed"
        },
        "tags": [],
        "id": "0d504c7e"
      },
      "source": [
        "## Performance by Parental Level of Education and Grade Class"
      ],
      "id": "0d504c7e"
    },
    {
      "cell_type": "code",
      "execution_count": 33,
      "id": "ab1ab8cc",
      "metadata": {
        "execution": {
          "iopub.execute_input": "2023-04-15T14:32:01.987702Z",
          "iopub.status.busy": "2023-04-15T14:32:01.986578Z",
          "iopub.status.idle": "2023-04-15T14:32:02.909087Z",
          "shell.execute_reply": "2023-04-15T14:32:02.906979Z"
        },
        "papermill": {
          "duration": 0.948496,
          "end_time": "2023-04-15T14:32:02.912802",
          "exception": false,
          "start_time": "2023-04-15T14:32:01.964306",
          "status": "completed"
        },
        "tags": [],
        "colab": {
          "base_uri": "https://localhost:8080/",
          "height": 801
        },
        "id": "ab1ab8cc",
        "outputId": "fe035afb-4768-429e-be9e-16772a7133f8"
      },
      "outputs": [
        {
          "output_type": "display_data",
          "data": {
            "text/plain": [
              "<Figure size 1600x800 with 4 Axes>"
            ],
            "image/png": "[encoded data removed]"
          },
          "metadata": {}
        }
      ],
      "source": [
        "sns.set(style=\"ticks\", palette=\"pastel\")\n",
        "\n",
        "# Create a figure with three subplots\n",
        "fig, axs = plt.subplots(2, 2, figsize=(16, 8), sharey = True, sharex = True)\n",
        "\n",
        "# Create the first subplot for boxplot 1\n",
        "sns.boxplot(x=\"race/ethnicity\", y = \"math score\", data=data, ax=axs[0, 0], palette=\"Set3\")\n",
        "axs[0, 0].set_title('Math Scores by Race/Ethnicity')\n",
        "axs[0, 0].set_xlabel('Race/Ethnicity')\n",
        "axs[0, 0].set_ylabel('Math Score')\n",
        "\n",
        "# Create the second subplot for boxplot 2\n",
        "sns.boxplot(x=\"race/ethnicity\", y = \"reading score\", data=data, ax=axs[0, 1], palette=\"Set3\")\n",
        "axs[0, 1].set_title('Reading Scores by Race/Ethnicity')\n",
        "axs[0, 1].set_xlabel('Race/Ethnicity')\n",
        "axs[0, 1].set_ylabel('Reading Score')\n",
        "\n",
        "# Create the third subplot for boxplot 3\n",
        "sns.boxplot(x=\"race/ethnicity\", y=\"writing score\", data=data, ax=axs[1, 0], palette=\"Set3\")\n",
        "axs[1, 0].set_title('Writing Scores by Race/Ethnicity')\n",
        "axs[1, 0].set_xlabel('Race/Ethnicity')\n",
        "axs[1, 0].set_ylabel('Writing Score')\n",
        "\n",
        "# Create the third subplot for boxplot 4\n",
        "sns.boxplot(x=\"race/ethnicity\", y=\"student score\", data=data, ax=axs[1, 1], palette=\"Set3\")\n",
        "axs[1, 1].set_title('Average Scores by Race/Ethnicity')\n",
        "axs[1, 1].set_xlabel('Race/Ethnicity')\n",
        "axs[1, 1].set_ylabel('Student Score')\n",
        "\n",
        "# Increase the distance between subplots\n",
        "fig.subplots_adjust(wspace=0.4)\n",
        "\n",
        "# Set the tight layout\n",
        "plt.tight_layout()\n",
        "\n",
        "# Display the plot\n",
        "plt.show()"
      ]
    },
    {
      "cell_type": "markdown",
      "source": [
        "###Distribution of Student Score Parental Level Of Education"
      ],
      "metadata": {
        "id": "sVbTnRwExXLl"
      },
      "id": "sVbTnRwExXLl"
    },
    {
      "cell_type": "code",
      "execution_count": 46,
      "id": "81f984eb",
      "metadata": {
        "execution": {
          "iopub.execute_input": "2023-04-15T14:32:02.969056Z",
          "iopub.status.busy": "2023-04-15T14:32:02.968125Z",
          "iopub.status.idle": "2023-04-15T14:32:03.437333Z",
          "shell.execute_reply": "2023-04-15T14:32:03.436139Z"
        },
        "papermill": {
          "duration": 0.495739,
          "end_time": "2023-04-15T14:32:03.439953",
          "exception": false,
          "start_time": "2023-04-15T14:32:02.944214",
          "status": "completed"
        },
        "tags": [],
        "colab": {
          "base_uri": "https://localhost:8080/",
          "height": 601
        },
        "id": "81f984eb",
        "outputId": "26aa1680-4ae1-4545-c129-bff4d83fd9cd"
      },
      "outputs": [
        {
          "output_type": "display_data",
          "data": {
            "text/plain": [
              "<Figure size 1400x600 with 1 Axes>"
            ],
            "image/png": "[encoded data removed]"
          },
          "metadata": {}
        }
      ],
      "source": [
        "# Set the size of the figure\n",
        "fig, ax = plt.subplots(figsize=(14, 6))\n",
        "\n",
        "# Set the style of the plot\n",
        "sns.set_style(\"whitegrid\")\n",
        "\n",
        "# Create a violin plot with gender as hue, split by gender\n",
        "sns.violinplot(x=\"parental level of education\", y=\"student score\", hue=\"gender\", data=data, palette=\"Set2\", split = True, ax=ax)\n",
        "\n",
        "# Add a title and axis labels\n",
        "ax.set_title(\"Distribution of Student Score by Parental Level Of Education\", fontsize=18, fontweight='bold')\n",
        "ax.set_xlabel(\"Parental level of education\", fontsize=14)\n",
        "\n",
        "# Increase the font size of the tick labels\n",
        "ax.tick_params(axis='both', labelsize=12)\n",
        "\n",
        "# Add a legend\n",
        "ax.legend(title=\"Gender\", loc=\"upper right\", fontsize=12)\n",
        "\n",
        "# Remove top and right spines\n",
        "sns.despine()\n",
        "plt.tight_layout()\n",
        "# Display the plot\n",
        "plt.show()"
      ]
    },
    {
      "cell_type": "markdown",
      "source": [
        "###Distribution of Student Score by Lunch and Test Preparation"
      ],
      "metadata": {
        "id": "heF7y16KpuIp"
      },
      "id": "heF7y16KpuIp"
    },
    {
      "cell_type": "code",
      "execution_count": 45,
      "id": "198498e3",
      "metadata": {
        "execution": {
          "iopub.execute_input": "2023-04-15T14:32:03.493698Z",
          "iopub.status.busy": "2023-04-15T14:32:03.492824Z",
          "iopub.status.idle": "2023-04-15T14:32:04.278581Z",
          "shell.execute_reply": "2023-04-15T14:32:04.277090Z"
        },
        "papermill": {
          "duration": 0.817727,
          "end_time": "2023-04-15T14:32:04.283365",
          "exception": false,
          "start_time": "2023-04-15T14:32:03.465638",
          "status": "completed"
        },
        "tags": [],
        "colab": {
          "base_uri": "https://localhost:8080/",
          "height": 501
        },
        "id": "198498e3",
        "outputId": "6074b7fe-4464-42bf-805e-fc54a8063f5a"
      },
      "outputs": [
        {
          "output_type": "display_data",
          "data": {
            "text/plain": [
              "<Figure size 1500x500 with 2 Axes>"
            ],
            "image/png": "[encoded data removed]"
          },
          "metadata": {}
        }
      ],
      "source": [
        "# Set the color palette\n",
        "palette = sns.color_palette(\"pastel\")\n",
        "\n",
        "# Create a figure with three subplots\n",
        "fig, axs = plt.subplots(1, 2, figsize=(15, 5), sharey=True, sharex = True)\n",
        "\n",
        "# Create the third subplot for the distribution of writing scores\n",
        "sns.histplot(x=\"student score\", data=data, ax=axs[0],hue = 'lunch', palette=\"Set1\")\n",
        "axs[0].set_title('Distribution of Student Scores by Lunch')\n",
        "\n",
        "# Create the third subplot for the distribution of writing scores\n",
        "sns.histplot(x=\"student score\", data=data, ax=axs[1],hue = 'test preparation course', palette=\"Set1\")\n",
        "axs[1].set_title('Distribution of Student Scores by Test Preparation Course')\n",
        "\n",
        "# Increase the distance between subplots\n",
        "fig.subplots_adjust(wspace=0.5)\n",
        "\n",
        "# Set the tight layout\n",
        "plt.tight_layout()\n",
        "\n",
        "# Display the plot\n",
        "plt.show()\n"
      ]
    },
    {
      "cell_type": "markdown",
      "source": [
        "###Correlation Matrix Of Student Scores"
      ],
      "metadata": {
        "id": "RbYuEdi9qDWQ"
      },
      "id": "RbYuEdi9qDWQ"
    },
    {
      "cell_type": "code",
      "execution_count": null,
      "id": "080a58fa",
      "metadata": {
        "execution": {
          "iopub.execute_input": "2023-04-15T14:32:04.358963Z",
          "iopub.status.busy": "2023-04-15T14:32:04.358413Z",
          "iopub.status.idle": "2023-04-15T14:32:04.647425Z",
          "shell.execute_reply": "2023-04-15T14:32:04.646454Z"
        },
        "papermill": {
          "duration": 0.330392,
          "end_time": "2023-04-15T14:32:04.650050",
          "exception": false,
          "start_time": "2023-04-15T14:32:04.319658",
          "status": "completed"
        },
        "tags": [],
        "id": "080a58fa",
        "outputId": "04f36395-01bb-437a-a960-1dd23ec62ac5"
      },
      "outputs": [
        {
          "data": {
            "image/png": "[encoded data removed]",
            "text/plain": [
              "<Figure size 800x600 with 2 Axes>"
            ]
          },
          "metadata": {},
          "output_type": "display_data"
        }
      ],
      "source": [
        "# Subset the data to the relevant columns\n",
        "scores = data[['math score', 'reading score', 'writing score']]\n",
        "\n",
        "# Compute the correlation matrix\n",
        "corr = scores.corr()\n",
        "\n",
        "# Define a custom color scheme\n",
        "cmap = sns.diverging_palette(220, 10, as_cmap=True)\n",
        "\n",
        "# Create a heatmap of the correlation matrix\n",
        "fig, ax = plt.subplots(figsize=(8,6))\n",
        "sns.heatmap(corr, annot=True, cmap=cmap, fmt='.2f',\n",
        "            square=True, linewidths=.5, cbar_kws={\"shrink\": .5})\n",
        "\n",
        "# Set the plot title and axis labels\n",
        "plt.title('Correlation Matrix of Test Scores', fontsize=16)\n",
        "plt.xlabel('Test Scores', fontsize=14)\n",
        "plt.ylabel('Test Scores', fontsize=14)\n",
        "\n",
        "# Set the font size of the annotations\n",
        "plt.tick_params(axis='both', labelsize=12)\n",
        "\n",
        "# Adjust the layout to prevent the title from being cut off\n",
        "plt.tight_layout()\n",
        "\n",
        "# Display the plot\n",
        "plt.show()"
      ]
    },
    {
      "cell_type": "markdown",
      "metadata": {
        "papermill": {
          "duration": 0.027298,
          "end_time": "2021-10-19T07:14:07.100340",
          "exception": false,
          "start_time": "2021-10-19T07:14:07.073042",
          "status": "completed"
        },
        "tags": [],
        "id": "dae497cd"
      },
      "source": [
        "#Reloading Dataset"
      ],
      "id": "dae497cd"
    },
    {
      "cell_type": "code",
      "execution_count": 48,
      "metadata": {
        "execution": {
          "iopub.execute_input": "2021-10-19T07:14:07.160203Z",
          "iopub.status.busy": "2021-10-19T07:14:07.159286Z",
          "iopub.status.idle": "2021-10-19T07:14:07.194337Z",
          "shell.execute_reply": "2021-10-19T07:14:07.194862Z",
          "shell.execute_reply.started": "2021-10-19T07:05:15.546956Z"
        },
        "papermill": {
          "duration": 0.066171,
          "end_time": "2021-10-19T07:14:07.195047",
          "exception": false,
          "start_time": "2021-10-19T07:14:07.128876",
          "status": "completed"
        },
        "tags": [],
        "id": "844b4711",
        "outputId": "26db8ffd-c20b-451d-9f4d-0369a0ad9cb1",
        "colab": {
          "base_uri": "https://localhost:8080/",
          "height": 206
        }
      },
      "outputs": [
        {
          "output_type": "execute_result",
          "data": {
            "text/plain": [
              "   gender race/ethnicity parental level of education         lunch  \\\n",
              "0  female        group D                some college      standard   \n",
              "1    male        group D          associate's degree      standard   \n",
              "2  female        group D                some college  free/reduced   \n",
              "3    male        group B                some college  free/reduced   \n",
              "4  female        group D          associate's degree      standard   \n",
              "\n",
              "  test preparation course  math score  reading score  writing score  \n",
              "0               completed          59             70             78  \n",
              "1                    none          96             93             87  \n",
              "2                    none          57             76             77  \n",
              "3                    none          70             70             63  \n",
              "4                    none          83             85             86  "
            ],
            "text/html": [
              "\n",
              "  <div id=\"df-b1b7e2c5-d631-4ab3-af65-2856ce7e9a11\">\n",
              "    <div class=\"colab-df-container\">\n",
              "      <div>\n",
              "<style scoped>\n",
              "    .dataframe tbody tr th:only-of-type {\n",
              "        vertical-align: middle;\n",
              "    }\n",
              "\n",
              "    .dataframe tbody tr th {\n",
              "        vertical-align: top;\n",
              "    }\n",
              "\n",
              "    .dataframe thead th {\n",
              "        text-align: right;\n",
              "    }\n",
              "</style>\n",
              "<table border=\"1\" class=\"dataframe\">\n",
              "  <thead>\n",
              "    <tr style=\"text-align: right;\">\n",
              "      <th></th>\n",
              "      <th>gender</th>\n",
              "      <th>race/ethnicity</th>\n",
              "      <th>parental level of education</th>\n",
              "      <th>lunch</th>\n",
              "      <th>test preparation course</th>\n",
              "      <th>math score</th>\n",
              "      <th>reading score</th>\n",
              "      <th>writing score</th>\n",
              "    </tr>\n",
              "  </thead>\n",
              "  <tbody>\n",
              "    <tr>\n",
              "      <th>0</th>\n",
              "      <td>female</td>\n",
              "      <td>group D</td>\n",
              "      <td>some college</td>\n",
              "      <td>standard</td>\n",
              "      <td>completed</td>\n",
              "      <td>59</td>\n",
              "      <td>70</td>\n",
              "      <td>78</td>\n",
              "    </tr>\n",
              "    <tr>\n",
              "      <th>1</th>\n",
              "      <td>male</td>\n",
              "      <td>group D</td>\n",
              "      <td>associate's degree</td>\n",
              "      <td>standard</td>\n",
              "      <td>none</td>\n",
              "      <td>96</td>\n",
              "      <td>93</td>\n",
              "      <td>87</td>\n",
              "    </tr>\n",
              "    <tr>\n",
              "      <th>2</th>\n",
              "      <td>female</td>\n",
              "      <td>group D</td>\n",
              "      <td>some college</td>\n",
              "      <td>free/reduced</td>\n",
              "      <td>none</td>\n",
              "      <td>57</td>\n",
              "      <td>76</td>\n",
              "      <td>77</td>\n",
              "    </tr>\n",
              "    <tr>\n",
              "      <th>3</th>\n",
              "      <td>male</td>\n",
              "      <td>group B</td>\n",
              "      <td>some college</td>\n",
              "      <td>free/reduced</td>\n",
              "      <td>none</td>\n",
              "      <td>70</td>\n",
              "      <td>70</td>\n",
              "      <td>63</td>\n",
              "    </tr>\n",
              "    <tr>\n",
              "      <th>4</th>\n",
              "      <td>female</td>\n",
              "      <td>group D</td>\n",
              "      <td>associate's degree</td>\n",
              "      <td>standard</td>\n",
              "      <td>none</td>\n",
              "      <td>83</td>\n",
              "      <td>85</td>\n",
              "      <td>86</td>\n",
              "    </tr>\n",
              "  </tbody>\n",
              "</table>\n",
              "</div>\n",
              "      <button class=\"colab-df-convert\" onclick=\"convertToInteractive('df-b1b7e2c5-d631-4ab3-af65-2856ce7e9a11')\"\n",
              "              title=\"Convert this dataframe to an interactive table.\"\n",
              "              style=\"display:none;\">\n",
              "        \n",
              "  <svg xmlns=\"http://www.w3.org/2000/svg\" height=\"24px\"viewBox=\"0 0 24 24\"\n",
              "       width=\"24px\">\n",
              "    <path d=\"M0 0h24v24H0V0z\" fill=\"none\"/>\n",
              "    <path d=\"M18.56 5.44l.94 2.06.94-2.06 2.06-.94-2.06-.94-.94-2.06-.94 2.06-2.06.94zm-11 1L8.5 8.5l.94-2.06 2.06-.94-2.06-.94L8.5 2.5l-.94 2.06-2.06.94zm10 10l.94 2.06.94-2.06 2.06-.94-2.06-.94-.94-2.06-.94 2.06-2.06.94z\"/><path d=\"M17.41 7.96l-1.37-1.37c-.4-.4-.92-.59-1.43-.59-.52 0-1.04.2-1.43.59L10.3 9.45l-7.72 7.72c-.78.78-.78 2.05 0 2.83L4 21.41c.39.39.9.59 1.41.59.51 0 1.02-.2 1.41-.59l7.78-7.78 2.81-2.81c.8-.78.8-2.07 0-2.86zM5.41 20L4 18.59l7.72-7.72 1.47 1.35L5.41 20z\"/>\n",
              "  </svg>\n",
              "      </button>\n",
              "      \n",
              "  <style>\n",
              "    .colab-df-container {\n",
              "      display:flex;\n",
              "      flex-wrap:wrap;\n",
              "      gap: 12px;\n",
              "    }\n",
              "\n",
              "    .colab-df-convert {\n",
              "      background-color: #E8F0FE;\n",
              "      border: none;\n",
              "      border-radius: 50%;\n",
              "      cursor: pointer;\n",
              "      display: none;\n",
              "      fill: #1967D2;\n",
              "      height: 32px;\n",
              "      padding: 0 0 0 0;\n",
              "      width: 32px;\n",
              "    }\n",
              "\n",
              "    .colab-df-convert:hover {\n",
              "      background-color: #E2EBFA;\n",
              "      box-shadow: 0px 1px 2px rgba(60, 64, 67, 0.3), 0px 1px 3px 1px rgba(60, 64, 67, 0.15);\n",
              "      fill: #174EA6;\n",
              "    }\n",
              "\n",
              "    [theme=dark] .colab-df-convert {\n",
              "      background-color: #3B4455;\n",
              "      fill: #D2E3FC;\n",
              "    }\n",
              "\n",
              "    [theme=dark] .colab-df-convert:hover {\n",
              "      background-color: #434B5C;\n",
              "      box-shadow: 0px 1px 3px 1px rgba(0, 0, 0, 0.15);\n",
              "      filter: drop-shadow(0px 1px 2px rgba(0, 0, 0, 0.3));\n",
              "      fill: #FFFFFF;\n",
              "    }\n",
              "  </style>\n",
              "\n",
              "      <script>\n",
              "        const buttonEl =\n",
              "          document.querySelector('#df-b1b7e2c5-d631-4ab3-af65-2856ce7e9a11 button.colab-df-convert');\n",
              "        buttonEl.style.display =\n",
              "          google.colab.kernel.accessAllowed ? 'block' : 'none';\n",
              "\n",
              "        async function convertToInteractive(key) {\n",
              "          const element = document.querySelector('#df-b1b7e2c5-d631-4ab3-af65-2856ce7e9a11');\n",
              "          const dataTable =\n",
              "            await google.colab.kernel.invokeFunction('convertToInteractive',\n",
              "                                                     [key], {});\n",
              "          if (!dataTable) return;\n",
              "\n",
              "          const docLinkHtml = 'Like what you see? Visit the ' +\n",
              "            '<a target=\"_blank\" href=https://colab.research.google.com/notebooks/data_table.ipynb>data table notebook</a>'\n",
              "            + ' to learn more about interactive tables.';\n",
              "          element.innerHTML = '';\n",
              "          dataTable['output_type'] = 'display_data';\n",
              "          await google.colab.output.renderOutput(dataTable, element);\n",
              "          const docLink = document.createElement('div');\n",
              "          docLink.innerHTML = docLinkHtml;\n",
              "          element.appendChild(docLink);\n",
              "        }\n",
              "      </script>\n",
              "    </div>\n",
              "  </div>\n",
              "  "
            ]
          },
          "metadata": {},
          "execution_count": 48
        }
      ],
      "source": [
        "df = pd.read_csv(\"/content/sample_data/exams.csv\")\n",
        "df.head()"
      ],
      "id": "844b4711"
    },
    {
      "cell_type": "markdown",
      "metadata": {
        "papermill": {
          "duration": 0.033404,
          "end_time": "2021-10-19T07:14:07.369267",
          "exception": false,
          "start_time": "2021-10-19T07:14:07.335863",
          "status": "completed"
        },
        "tags": [],
        "id": "e139b274"
      },
      "source": [
        "## Data Prep"
      ],
      "id": "e139b274"
    },
    {
      "cell_type": "code",
      "execution_count": 49,
      "metadata": {
        "execution": {
          "iopub.execute_input": "2021-10-19T07:14:07.509454Z",
          "iopub.status.busy": "2021-10-19T07:14:07.508802Z",
          "iopub.status.idle": "2021-10-19T07:14:07.515888Z",
          "shell.execute_reply": "2021-10-19T07:14:07.516386Z",
          "shell.execute_reply.started": "2021-10-19T07:05:21.214126Z"
        },
        "papermill": {
          "duration": 0.116909,
          "end_time": "2021-10-19T07:14:07.516582",
          "exception": false,
          "start_time": "2021-10-19T07:14:07.399673",
          "status": "completed"
        },
        "tags": [],
        "id": "47faf075"
      },
      "outputs": [],
      "source": [
        "#Average student score\n",
        "\n",
        "avg = df.iloc[:, 5:8].mean(axis = 1)"
      ],
      "id": "47faf075"
    },
    {
      "cell_type": "code",
      "execution_count": 50,
      "metadata": {
        "execution": {
          "iopub.execute_input": "2021-10-19T07:14:07.576734Z",
          "iopub.status.busy": "2021-10-19T07:14:07.576073Z",
          "iopub.status.idle": "2021-10-19T07:14:07.592735Z",
          "shell.execute_reply": "2021-10-19T07:14:07.593325Z",
          "shell.execute_reply.started": "2021-10-19T07:05:25.357259Z"
        },
        "papermill": {
          "duration": 0.048622,
          "end_time": "2021-10-19T07:14:07.593522",
          "exception": false,
          "start_time": "2021-10-19T07:14:07.544900",
          "status": "completed"
        },
        "tags": [],
        "id": "8689d57d",
        "outputId": "2b8e515a-71e0-405a-bdf7-2c6b677b881a",
        "colab": {
          "base_uri": "https://localhost:8080/",
          "height": 206
        }
      },
      "outputs": [
        {
          "output_type": "execute_result",
          "data": {
            "text/plain": [
              "   gender race/ethnicity parental level of education         lunch  \\\n",
              "0  female        group D                some college      standard   \n",
              "1    male        group D          associate's degree      standard   \n",
              "2  female        group D                some college  free/reduced   \n",
              "3    male        group B                some college  free/reduced   \n",
              "4  female        group D          associate's degree      standard   \n",
              "\n",
              "  test preparation course  math score  reading score  writing score  \\\n",
              "0               completed          59             70             78   \n",
              "1                    none          96             93             87   \n",
              "2                    none          57             76             77   \n",
              "3                    none          70             70             63   \n",
              "4                    none          83             85             86   \n",
              "\n",
              "   Average Score  \n",
              "0           69.0  \n",
              "1           92.0  \n",
              "2           70.0  \n",
              "3           67.7  \n",
              "4           84.7  "
            ],
            "text/html": [
              "\n",
              "  <div id=\"df-057e82c3-4dcb-4322-80b4-6b129f1d6c52\">\n",
              "    <div class=\"colab-df-container\">\n",
              "      <div>\n",
              "<style scoped>\n",
              "    .dataframe tbody tr th:only-of-type {\n",
              "        vertical-align: middle;\n",
              "    }\n",
              "\n",
              "    .dataframe tbody tr th {\n",
              "        vertical-align: top;\n",
              "    }\n",
              "\n",
              "    .dataframe thead th {\n",
              "        text-align: right;\n",
              "    }\n",
              "</style>\n",
              "<table border=\"1\" class=\"dataframe\">\n",
              "  <thead>\n",
              "    <tr style=\"text-align: right;\">\n",
              "      <th></th>\n",
              "      <th>gender</th>\n",
              "      <th>race/ethnicity</th>\n",
              "      <th>parental level of education</th>\n",
              "      <th>lunch</th>\n",
              "      <th>test preparation course</th>\n",
              "      <th>math score</th>\n",
              "      <th>reading score</th>\n",
              "      <th>writing score</th>\n",
              "      <th>Average Score</th>\n",
              "    </tr>\n",
              "  </thead>\n",
              "  <tbody>\n",
              "    <tr>\n",
              "      <th>0</th>\n",
              "      <td>female</td>\n",
              "      <td>group D</td>\n",
              "      <td>some college</td>\n",
              "      <td>standard</td>\n",
              "      <td>completed</td>\n",
              "      <td>59</td>\n",
              "      <td>70</td>\n",
              "      <td>78</td>\n",
              "      <td>69.0</td>\n",
              "    </tr>\n",
              "    <tr>\n",
              "      <th>1</th>\n",
              "      <td>male</td>\n",
              "      <td>group D</td>\n",
              "      <td>associate's degree</td>\n",
              "      <td>standard</td>\n",
              "      <td>none</td>\n",
              "      <td>96</td>\n",
              "      <td>93</td>\n",
              "      <td>87</td>\n",
              "      <td>92.0</td>\n",
              "    </tr>\n",
              "    <tr>\n",
              "      <th>2</th>\n",
              "      <td>female</td>\n",
              "      <td>group D</td>\n",
              "      <td>some college</td>\n",
              "      <td>free/reduced</td>\n",
              "      <td>none</td>\n",
              "      <td>57</td>\n",
              "      <td>76</td>\n",
              "      <td>77</td>\n",
              "      <td>70.0</td>\n",
              "    </tr>\n",
              "    <tr>\n",
              "      <th>3</th>\n",
              "      <td>male</td>\n",
              "      <td>group B</td>\n",
              "      <td>some college</td>\n",
              "      <td>free/reduced</td>\n",
              "      <td>none</td>\n",
              "      <td>70</td>\n",
              "      <td>70</td>\n",
              "      <td>63</td>\n",
              "      <td>67.7</td>\n",
              "    </tr>\n",
              "    <tr>\n",
              "      <th>4</th>\n",
              "      <td>female</td>\n",
              "      <td>group D</td>\n",
              "      <td>associate's degree</td>\n",
              "      <td>standard</td>\n",
              "      <td>none</td>\n",
              "      <td>83</td>\n",
              "      <td>85</td>\n",
              "      <td>86</td>\n",
              "      <td>84.7</td>\n",
              "    </tr>\n",
              "  </tbody>\n",
              "</table>\n",
              "</div>\n",
              "      <button class=\"colab-df-convert\" onclick=\"convertToInteractive('df-057e82c3-4dcb-4322-80b4-6b129f1d6c52')\"\n",
              "              title=\"Convert this dataframe to an interactive table.\"\n",
              "              style=\"display:none;\">\n",
              "        \n",
              "  <svg xmlns=\"http://www.w3.org/2000/svg\" height=\"24px\"viewBox=\"0 0 24 24\"\n",
              "       width=\"24px\">\n",
              "    <path d=\"M0 0h24v24H0V0z\" fill=\"none\"/>\n",
              "    <path d=\"M18.56 5.44l.94 2.06.94-2.06 2.06-.94-2.06-.94-.94-2.06-.94 2.06-2.06.94zm-11 1L8.5 8.5l.94-2.06 2.06-.94-2.06-.94L8.5 2.5l-.94 2.06-2.06.94zm10 10l.94 2.06.94-2.06 2.06-.94-2.06-.94-.94-2.06-.94 2.06-2.06.94z\"/><path d=\"M17.41 7.96l-1.37-1.37c-.4-.4-.92-.59-1.43-.59-.52 0-1.04.2-1.43.59L10.3 9.45l-7.72 7.72c-.78.78-.78 2.05 0 2.83L4 21.41c.39.39.9.59 1.41.59.51 0 1.02-.2 1.41-.59l7.78-7.78 2.81-2.81c.8-.78.8-2.07 0-2.86zM5.41 20L4 18.59l7.72-7.72 1.47 1.35L5.41 20z\"/>\n",
              "  </svg>\n",
              "      </button>\n",
              "      \n",
              "  <style>\n",
              "    .colab-df-container {\n",
              "      display:flex;\n",
              "      flex-wrap:wrap;\n",
              "      gap: 12px;\n",
              "    }\n",
              "\n",
              "    .colab-df-convert {\n",
              "      background-color: #E8F0FE;\n",
              "      border: none;\n",
              "      border-radius: 50%;\n",
              "      cursor: pointer;\n",
              "      display: none;\n",
              "      fill: #1967D2;\n",
              "      height: 32px;\n",
              "      padding: 0 0 0 0;\n",
              "      width: 32px;\n",
              "    }\n",
              "\n",
              "    .colab-df-convert:hover {\n",
              "      background-color: #E2EBFA;\n",
              "      box-shadow: 0px 1px 2px rgba(60, 64, 67, 0.3), 0px 1px 3px 1px rgba(60, 64, 67, 0.15);\n",
              "      fill: #174EA6;\n",
              "    }\n",
              "\n",
              "    [theme=dark] .colab-df-convert {\n",
              "      background-color: #3B4455;\n",
              "      fill: #D2E3FC;\n",
              "    }\n",
              "\n",
              "    [theme=dark] .colab-df-convert:hover {\n",
              "      background-color: #434B5C;\n",
              "      box-shadow: 0px 1px 3px 1px rgba(0, 0, 0, 0.15);\n",
              "      filter: drop-shadow(0px 1px 2px rgba(0, 0, 0, 0.3));\n",
              "      fill: #FFFFFF;\n",
              "    }\n",
              "  </style>\n",
              "\n",
              "      <script>\n",
              "        const buttonEl =\n",
              "          document.querySelector('#df-057e82c3-4dcb-4322-80b4-6b129f1d6c52 button.colab-df-convert');\n",
              "        buttonEl.style.display =\n",
              "          google.colab.kernel.accessAllowed ? 'block' : 'none';\n",
              "\n",
              "        async function convertToInteractive(key) {\n",
              "          const element = document.querySelector('#df-057e82c3-4dcb-4322-80b4-6b129f1d6c52');\n",
              "          const dataTable =\n",
              "            await google.colab.kernel.invokeFunction('convertToInteractive',\n",
              "                                                     [key], {});\n",
              "          if (!dataTable) return;\n",
              "\n",
              "          const docLinkHtml = 'Like what you see? Visit the ' +\n",
              "            '<a target=\"_blank\" href=https://colab.research.google.com/notebooks/data_table.ipynb>data table notebook</a>'\n",
              "            + ' to learn more about interactive tables.';\n",
              "          element.innerHTML = '';\n",
              "          dataTable['output_type'] = 'display_data';\n",
              "          await google.colab.output.renderOutput(dataTable, element);\n",
              "          const docLink = document.createElement('div');\n",
              "          docLink.innerHTML = docLinkHtml;\n",
              "          element.appendChild(docLink);\n",
              "        }\n",
              "      </script>\n",
              "    </div>\n",
              "  </div>\n",
              "  "
            ]
          },
          "metadata": {},
          "execution_count": 50
        }
      ],
      "source": [
        "df[\"Average Score\"] = round(avg, 1)\n",
        "df.head()"
      ],
      "id": "8689d57d"
    },
    {
      "cell_type": "code",
      "execution_count": 51,
      "metadata": {
        "execution": {
          "iopub.execute_input": "2021-10-19T07:14:07.654359Z",
          "iopub.status.busy": "2021-10-19T07:14:07.653699Z",
          "iopub.status.idle": "2021-10-19T07:14:07.660124Z",
          "shell.execute_reply": "2021-10-19T07:14:07.660672Z",
          "shell.execute_reply.started": "2021-10-19T07:05:35.828259Z"
        },
        "papermill": {
          "duration": 0.038526,
          "end_time": "2021-10-19T07:14:07.660849",
          "exception": false,
          "start_time": "2021-10-19T07:14:07.622323",
          "status": "completed"
        },
        "tags": [],
        "id": "c0ea0e4b"
      },
      "outputs": [],
      "source": [
        "#Create grade group\n",
        "# 0-30.9 = Fail\n",
        "#40-49.9 = Pass\n",
        "#50-69.9 = Second Class Lower\n",
        "#70-79.9 = Second Class Upper\n",
        "#80-100 = First Class\n",
        "\n",
        "\n",
        "criteria = (df[\"Average Score\"].between(0.0, 39.9), df[\"Average Score\"].between(40.0, 49.9),\n",
        "      df[\"Average Score\"].between(50.0, 69.9), df[\"Average Score\"].between(70.0, 79.9), df[\"Average Score\"].between(80.0, 100))\n",
        "values = [\"fail\", \"pass\", \"second class lower\", \"second class upper\", \"first class\"]"
      ],
      "id": "c0ea0e4b"
    },
    {
      "cell_type": "code",
      "execution_count": 52,
      "metadata": {
        "execution": {
          "iopub.execute_input": "2021-10-19T07:14:07.722327Z",
          "iopub.status.busy": "2021-10-19T07:14:07.721682Z",
          "iopub.status.idle": "2021-10-19T07:14:07.736050Z",
          "shell.execute_reply": "2021-10-19T07:14:07.735518Z",
          "shell.execute_reply.started": "2021-10-19T07:05:46.239070Z"
        },
        "papermill": {
          "duration": 0.046335,
          "end_time": "2021-10-19T07:14:07.736190",
          "exception": false,
          "start_time": "2021-10-19T07:14:07.689855",
          "status": "completed"
        },
        "tags": [],
        "id": "365c66c6",
        "outputId": "7ba7aa52-f489-4f0c-acd9-e453c13b6356",
        "colab": {
          "base_uri": "https://localhost:8080/",
          "height": 206
        }
      },
      "outputs": [
        {
          "output_type": "execute_result",
          "data": {
            "text/plain": [
              "   gender race/ethnicity parental level of education         lunch  \\\n",
              "0  female        group D                some college      standard   \n",
              "1    male        group D          associate's degree      standard   \n",
              "2  female        group D                some college  free/reduced   \n",
              "3    male        group B                some college  free/reduced   \n",
              "4  female        group D          associate's degree      standard   \n",
              "\n",
              "  test preparation course  math score  reading score  writing score  \\\n",
              "0               completed          59             70             78   \n",
              "1                    none          96             93             87   \n",
              "2                    none          57             76             77   \n",
              "3                    none          70             70             63   \n",
              "4                    none          83             85             86   \n",
              "\n",
              "   Average Score               Grade  \n",
              "0           69.0  second class lower  \n",
              "1           92.0         first class  \n",
              "2           70.0  second class upper  \n",
              "3           67.7  second class lower  \n",
              "4           84.7         first class  "
            ],
            "text/html": [
              "\n",
              "  <div id=\"df-f25046d4-9ea2-4474-91db-55f0af009340\">\n",
              "    <div class=\"colab-df-container\">\n",
              "      <div>\n",
              "<style scoped>\n",
              "    .dataframe tbody tr th:only-of-type {\n",
              "        vertical-align: middle;\n",
              "    }\n",
              "\n",
              "    .dataframe tbody tr th {\n",
              "        vertical-align: top;\n",
              "    }\n",
              "\n",
              "    .dataframe thead th {\n",
              "        text-align: right;\n",
              "    }\n",
              "</style>\n",
              "<table border=\"1\" class=\"dataframe\">\n",
              "  <thead>\n",
              "    <tr style=\"text-align: right;\">\n",
              "      <th></th>\n",
              "      <th>gender</th>\n",
              "      <th>race/ethnicity</th>\n",
              "      <th>parental level of education</th>\n",
              "      <th>lunch</th>\n",
              "      <th>test preparation course</th>\n",
              "      <th>math score</th>\n",
              "      <th>reading score</th>\n",
              "      <th>writing score</th>\n",
              "      <th>Average Score</th>\n",
              "      <th>Grade</th>\n",
              "    </tr>\n",
              "  </thead>\n",
              "  <tbody>\n",
              "    <tr>\n",
              "      <th>0</th>\n",
              "      <td>female</td>\n",
              "      <td>group D</td>\n",
              "      <td>some college</td>\n",
              "      <td>standard</td>\n",
              "      <td>completed</td>\n",
              "      <td>59</td>\n",
              "      <td>70</td>\n",
              "      <td>78</td>\n",
              "      <td>69.0</td>\n",
              "      <td>second class lower</td>\n",
              "    </tr>\n",
              "    <tr>\n",
              "      <th>1</th>\n",
              "      <td>male</td>\n",
              "      <td>group D</td>\n",
              "      <td>associate's degree</td>\n",
              "      <td>standard</td>\n",
              "      <td>none</td>\n",
              "      <td>96</td>\n",
              "      <td>93</td>\n",
              "      <td>87</td>\n",
              "      <td>92.0</td>\n",
              "      <td>first class</td>\n",
              "    </tr>\n",
              "    <tr>\n",
              "      <th>2</th>\n",
              "      <td>female</td>\n",
              "      <td>group D</td>\n",
              "      <td>some college</td>\n",
              "      <td>free/reduced</td>\n",
              "      <td>none</td>\n",
              "      <td>57</td>\n",
              "      <td>76</td>\n",
              "      <td>77</td>\n",
              "      <td>70.0</td>\n",
              "      <td>second class upper</td>\n",
              "    </tr>\n",
              "    <tr>\n",
              "      <th>3</th>\n",
              "      <td>male</td>\n",
              "      <td>group B</td>\n",
              "      <td>some college</td>\n",
              "      <td>free/reduced</td>\n",
              "      <td>none</td>\n",
              "      <td>70</td>\n",
              "      <td>70</td>\n",
              "      <td>63</td>\n",
              "      <td>67.7</td>\n",
              "      <td>second class lower</td>\n",
              "    </tr>\n",
              "    <tr>\n",
              "      <th>4</th>\n",
              "      <td>female</td>\n",
              "      <td>group D</td>\n",
              "      <td>associate's degree</td>\n",
              "      <td>standard</td>\n",
              "      <td>none</td>\n",
              "      <td>83</td>\n",
              "      <td>85</td>\n",
              "      <td>86</td>\n",
              "      <td>84.7</td>\n",
              "      <td>first class</td>\n",
              "    </tr>\n",
              "  </tbody>\n",
              "</table>\n",
              "</div>\n",
              "      <button class=\"colab-df-convert\" onclick=\"convertToInteractive('df-f25046d4-9ea2-4474-91db-55f0af009340')\"\n",
              "              title=\"Convert this dataframe to an interactive table.\"\n",
              "              style=\"display:none;\">\n",
              "        \n",
              "  <svg xmlns=\"http://www.w3.org/2000/svg\" height=\"24px\"viewBox=\"0 0 24 24\"\n",
              "       width=\"24px\">\n",
              "    <path d=\"M0 0h24v24H0V0z\" fill=\"none\"/>\n",
              "    <path d=\"M18.56 5.44l.94 2.06.94-2.06 2.06-.94-2.06-.94-.94-2.06-.94 2.06-2.06.94zm-11 1L8.5 8.5l.94-2.06 2.06-.94-2.06-.94L8.5 2.5l-.94 2.06-2.06.94zm10 10l.94 2.06.94-2.06 2.06-.94-2.06-.94-.94-2.06-.94 2.06-2.06.94z\"/><path d=\"M17.41 7.96l-1.37-1.37c-.4-.4-.92-.59-1.43-.59-.52 0-1.04.2-1.43.59L10.3 9.45l-7.72 7.72c-.78.78-.78 2.05 0 2.83L4 21.41c.39.39.9.59 1.41.59.51 0 1.02-.2 1.41-.59l7.78-7.78 2.81-2.81c.8-.78.8-2.07 0-2.86zM5.41 20L4 18.59l7.72-7.72 1.47 1.35L5.41 20z\"/>\n",
              "  </svg>\n",
              "      </button>\n",
              "      \n",
              "  <style>\n",
              "    .colab-df-container {\n",
              "      display:flex;\n",
              "      flex-wrap:wrap;\n",
              "      gap: 12px;\n",
              "    }\n",
              "\n",
              "    .colab-df-convert {\n",
              "      background-color: #E8F0FE;\n",
              "      border: none;\n",
              "      border-radius: 50%;\n",
              "      cursor: pointer;\n",
              "      display: none;\n",
              "      fill: #1967D2;\n",
              "      height: 32px;\n",
              "      padding: 0 0 0 0;\n",
              "      width: 32px;\n",
              "    }\n",
              "\n",
              "    .colab-df-convert:hover {\n",
              "      background-color: #E2EBFA;\n",
              "      box-shadow: 0px 1px 2px rgba(60, 64, 67, 0.3), 0px 1px 3px 1px rgba(60, 64, 67, 0.15);\n",
              "      fill: #174EA6;\n",
              "    }\n",
              "\n",
              "    [theme=dark] .colab-df-convert {\n",
              "      background-color: #3B4455;\n",
              "      fill: #D2E3FC;\n",
              "    }\n",
              "\n",
              "    [theme=dark] .colab-df-convert:hover {\n",
              "      background-color: #434B5C;\n",
              "      box-shadow: 0px 1px 3px 1px rgba(0, 0, 0, 0.15);\n",
              "      filter: drop-shadow(0px 1px 2px rgba(0, 0, 0, 0.3));\n",
              "      fill: #FFFFFF;\n",
              "    }\n",
              "  </style>\n",
              "\n",
              "      <script>\n",
              "        const buttonEl =\n",
              "          document.querySelector('#df-f25046d4-9ea2-4474-91db-55f0af009340 button.colab-df-convert');\n",
              "        buttonEl.style.display =\n",
              "          google.colab.kernel.accessAllowed ? 'block' : 'none';\n",
              "\n",
              "        async function convertToInteractive(key) {\n",
              "          const element = document.querySelector('#df-f25046d4-9ea2-4474-91db-55f0af009340');\n",
              "          const dataTable =\n",
              "            await google.colab.kernel.invokeFunction('convertToInteractive',\n",
              "                                                     [key], {});\n",
              "          if (!dataTable) return;\n",
              "\n",
              "          const docLinkHtml = 'Like what you see? Visit the ' +\n",
              "            '<a target=\"_blank\" href=https://colab.research.google.com/notebooks/data_table.ipynb>data table notebook</a>'\n",
              "            + ' to learn more about interactive tables.';\n",
              "          element.innerHTML = '';\n",
              "          dataTable['output_type'] = 'display_data';\n",
              "          await google.colab.output.renderOutput(dataTable, element);\n",
              "          const docLink = document.createElement('div');\n",
              "          docLink.innerHTML = docLinkHtml;\n",
              "          element.appendChild(docLink);\n",
              "        }\n",
              "      </script>\n",
              "    </div>\n",
              "  </div>\n",
              "  "
            ]
          },
          "metadata": {},
          "execution_count": 52
        }
      ],
      "source": [
        "#Add grade column\n",
        "df['Grade'] = np.select(criteria, values, 0)\n",
        "df.head()"
      ],
      "id": "365c66c6"
    },
    {
      "cell_type": "code",
      "execution_count": 53,
      "metadata": {
        "execution": {
          "iopub.execute_input": "2021-10-19T07:14:07.878337Z",
          "iopub.status.busy": "2021-10-19T07:14:07.877682Z",
          "iopub.status.idle": "2021-10-19T07:14:07.879301Z",
          "shell.execute_reply": "2021-10-19T07:14:07.879890Z",
          "shell.execute_reply.started": "2021-10-19T07:06:53.015958Z"
        },
        "papermill": {
          "duration": 0.039778,
          "end_time": "2021-10-19T07:14:07.880095",
          "exception": false,
          "start_time": "2021-10-19T07:14:07.840317",
          "status": "completed"
        },
        "tags": [],
        "id": "d1300097"
      },
      "outputs": [],
      "source": [
        "df_f = df.drop([\"Average Score\", \"Grade\"], axis = 1)"
      ],
      "id": "d1300097"
    },
    {
      "cell_type": "code",
      "execution_count": 54,
      "metadata": {
        "execution": {
          "iopub.execute_input": "2021-10-19T07:14:07.943655Z",
          "iopub.status.busy": "2021-10-19T07:14:07.943002Z",
          "iopub.status.idle": "2021-10-19T07:14:07.961193Z",
          "shell.execute_reply": "2021-10-19T07:14:07.961859Z",
          "shell.execute_reply.started": "2021-10-19T07:06:54.637078Z"
        },
        "papermill": {
          "duration": 0.051715,
          "end_time": "2021-10-19T07:14:07.962040",
          "exception": false,
          "start_time": "2021-10-19T07:14:07.910325",
          "status": "completed"
        },
        "tags": [],
        "id": "6f39e398",
        "outputId": "60f50bcf-a870-4cff-ec52-a6c914884cbd",
        "colab": {
          "base_uri": "https://localhost:8080/"
        }
      },
      "outputs": [
        {
          "output_type": "stream",
          "name": "stdout",
          "text": [
            "<class 'pandas.core.frame.DataFrame'>\n",
            "RangeIndex: 1000 entries, 0 to 999\n",
            "Data columns (total 8 columns):\n",
            " #   Column                       Non-Null Count  Dtype \n",
            "---  ------                       --------------  ----- \n",
            " 0   gender                       1000 non-null   object\n",
            " 1   race/ethnicity               1000 non-null   object\n",
            " 2   parental level of education  1000 non-null   object\n",
            " 3   lunch                        1000 non-null   object\n",
            " 4   test preparation course      1000 non-null   object\n",
            " 5   math score                   1000 non-null   int64 \n",
            " 6   reading score                1000 non-null   int64 \n",
            " 7   writing score                1000 non-null   int64 \n",
            "dtypes: int64(3), object(5)\n",
            "memory usage: 62.6+ KB\n"
          ]
        }
      ],
      "source": [
        "df_f.info()"
      ],
      "id": "6f39e398"
    },
    {
      "cell_type": "markdown",
      "metadata": {
        "papermill": {
          "duration": 0.029741,
          "end_time": "2021-10-19T07:14:08.021503",
          "exception": false,
          "start_time": "2021-10-19T07:14:07.991762",
          "status": "completed"
        },
        "tags": [],
        "id": "0b409257"
      },
      "source": [
        "# Logistic Regression Model"
      ],
      "id": "0b409257"
    },
    {
      "cell_type": "markdown",
      "metadata": {
        "papermill": {
          "duration": 0.029103,
          "end_time": "2021-10-19T07:14:08.080189",
          "exception": false,
          "start_time": "2021-10-19T07:14:08.051086",
          "status": "completed"
        },
        "tags": [],
        "id": "59c9e901"
      },
      "source": [
        "## Create Processing Pipeline\n",
        "This is done to automate processing, so we can pass our raw data into the model directly and it gets preprocessed in the background. "
      ],
      "id": "59c9e901"
    },
    {
      "cell_type": "code",
      "execution_count": 55,
      "metadata": {
        "execution": {
          "iopub.execute_input": "2021-10-19T07:14:08.143702Z",
          "iopub.status.busy": "2021-10-19T07:14:08.143009Z",
          "iopub.status.idle": "2021-10-19T07:14:08.146011Z",
          "shell.execute_reply": "2021-10-19T07:14:08.145536Z",
          "shell.execute_reply.started": "2021-10-19T07:09:06.499292Z"
        },
        "papermill": {
          "duration": 0.036484,
          "end_time": "2021-10-19T07:14:08.146184",
          "exception": false,
          "start_time": "2021-10-19T07:14:08.109700",
          "status": "completed"
        },
        "tags": [],
        "id": "6ec8437f"
      },
      "outputs": [],
      "source": [
        "#OneHotEncoder for categorical data\n",
        "cat_preprocessor = OneHotEncoder(handle_unknown = \"ignore\")\n",
        "\n",
        "#StandardScaler for Numerical data\n",
        "num_preprocessor = StandardScaler()"
      ],
      "id": "6ec8437f"
    },
    {
      "cell_type": "code",
      "execution_count": 56,
      "metadata": {
        "execution": {
          "iopub.execute_input": "2021-10-19T07:14:08.208721Z",
          "iopub.status.busy": "2021-10-19T07:14:08.208019Z",
          "iopub.status.idle": "2021-10-19T07:14:08.214560Z",
          "shell.execute_reply": "2021-10-19T07:14:08.215060Z",
          "shell.execute_reply.started": "2021-10-19T07:09:13.731009Z"
        },
        "papermill": {
          "duration": 0.039622,
          "end_time": "2021-10-19T07:14:08.215268",
          "exception": false,
          "start_time": "2021-10-19T07:14:08.175646",
          "status": "completed"
        },
        "tags": [],
        "id": "7e3fb6bb"
      },
      "outputs": [],
      "source": [
        "#using Dtype to select categorical features\n",
        "x_cat = df_f.select_dtypes(include = \"object\").columns\n",
        "#x_cat.head()\n",
        "\n",
        "#use Dtype to select numerical features\n",
        "x_num = df_f.select_dtypes(include = \"int64\").columns\n",
        "#x_num.head()"
      ],
      "id": "7e3fb6bb"
    },
    {
      "cell_type": "code",
      "execution_count": 57,
      "metadata": {
        "execution": {
          "iopub.execute_input": "2021-10-19T07:14:08.277102Z",
          "iopub.status.busy": "2021-10-19T07:14:08.276482Z",
          "iopub.status.idle": "2021-10-19T07:14:08.281446Z",
          "shell.execute_reply": "2021-10-19T07:14:08.280750Z",
          "shell.execute_reply.started": "2021-10-19T07:09:41.129147Z"
        },
        "papermill": {
          "duration": 0.036978,
          "end_time": "2021-10-19T07:14:08.281590",
          "exception": false,
          "start_time": "2021-10-19T07:14:08.244612",
          "status": "completed"
        },
        "tags": [],
        "id": "9afd0330"
      },
      "outputs": [],
      "source": [
        "#creating preprocessor\n",
        "preprocessor = ColumnTransformer([\n",
        "    ('one-hot-encoder', cat_preprocessor, x_cat),\n",
        "    ('standard-scaler', num_preprocessor, x_num)])"
      ],
      "id": "9afd0330"
    },
    {
      "cell_type": "code",
      "execution_count": 58,
      "metadata": {
        "execution": {
          "iopub.execute_input": "2021-10-19T07:14:08.346299Z",
          "iopub.status.busy": "2021-10-19T07:14:08.345687Z",
          "iopub.status.idle": "2021-10-19T07:14:08.348226Z",
          "shell.execute_reply": "2021-10-19T07:14:08.348770Z",
          "shell.execute_reply.started": "2021-10-19T07:10:10.647904Z"
        },
        "papermill": {
          "duration": 0.037457,
          "end_time": "2021-10-19T07:14:08.348943",
          "exception": false,
          "start_time": "2021-10-19T07:14:08.311486",
          "status": "completed"
        },
        "tags": [],
        "id": "eb9fb4fd"
      },
      "outputs": [],
      "source": [
        "#Creating instance of LogisticRegression\n",
        "lr_model = make_pipeline(preprocessor, LogisticRegression(max_iter=500))"
      ],
      "id": "eb9fb4fd"
    },
    {
      "cell_type": "code",
      "execution_count": 59,
      "metadata": {
        "execution": {
          "iopub.execute_input": "2021-10-19T07:14:08.412283Z",
          "iopub.status.busy": "2021-10-19T07:14:08.411693Z",
          "iopub.status.idle": "2021-10-19T07:14:08.463975Z",
          "shell.execute_reply": "2021-10-19T07:14:08.463465Z",
          "shell.execute_reply.started": "2021-10-19T07:10:14.816190Z"
        },
        "papermill": {
          "duration": 0.084405,
          "end_time": "2021-10-19T07:14:08.464111",
          "exception": false,
          "start_time": "2021-10-19T07:14:08.379706",
          "status": "completed"
        },
        "tags": [],
        "id": "cf63dfb1",
        "outputId": "8a078653-a002-4fc1-8a7d-94408fa3ec4b",
        "colab": {
          "base_uri": "https://localhost:8080/",
          "height": 192
        }
      },
      "outputs": [
        {
          "output_type": "execute_result",
          "data": {
            "text/plain": [
              "Pipeline(steps=[('columntransformer',\n",
              "                 ColumnTransformer(transformers=[('one-hot-encoder',\n",
              "                                                  OneHotEncoder(handle_unknown='ignore'),\n",
              "                                                  Index(['gender', 'race/ethnicity', 'parental level of education', 'lunch',\n",
              "       'test preparation course'],\n",
              "      dtype='object')),\n",
              "                                                 ('standard-scaler',\n",
              "                                                  StandardScaler(),\n",
              "                                                  Index(['math score', 'reading score', 'writing score'], dtype='object'))])),\n",
              "                ('logisticregression', LogisticRegression(max_iter=500))])"
            ],
            "text/html": [
              "<style>#sk-container-id-1 {color: black;background-color: white;}#sk-container-id-1 pre{padding: 0;}#sk-container-id-1 div.sk-toggleable {background-color: white;}#sk-container-id-1 label.sk-toggleable__label {cursor: pointer;display: block;width: 100%;margin-bottom: 0;padding: 0.3em;box-sizing: border-box;text-align: center;}#sk-container-id-1 label.sk-toggleable__label-arrow:before {content: \"▸\";float: left;margin-right: 0.25em;color: #696969;}#sk-container-id-1 label.sk-toggleable__label-arrow:hover:before {color: black;}#sk-container-id-1 div.sk-estimator:hover label.sk-toggleable__label-arrow:before {color: black;}#sk-container-id-1 div.sk-toggleable__content {max-height: 0;max-width: 0;overflow: hidden;text-align: left;background-color: #f0f8ff;}#sk-container-id-1 div.sk-toggleable__content pre {margin: 0.2em;color: black;border-radius: 0.25em;background-color: #f0f8ff;}#sk-container-id-1 input.sk-toggleable__control:checked~div.sk-toggleable__content {max-height: 200px;max-width: 100%;overflow: auto;}#sk-container-id-1 input.sk-toggleable__control:checked~label.sk-toggleable__label-arrow:before {content: \"▾\";}#sk-container-id-1 div.sk-estimator input.sk-toggleable__control:checked~label.sk-toggleable__label {background-color: #d4ebff;}#sk-container-id-1 div.sk-label input.sk-toggleable__control:checked~label.sk-toggleable__label {background-color: #d4ebff;}#sk-container-id-1 input.sk-hidden--visually {border: 0;clip: rect(1px 1px 1px 1px);clip: rect(1px, 1px, 1px, 1px);height: 1px;margin: -1px;overflow: hidden;padding: 0;position: absolute;width: 1px;}#sk-container-id-1 div.sk-estimator {font-family: monospace;background-color: #f0f8ff;border: 1px dotted black;border-radius: 0.25em;box-sizing: border-box;margin-bottom: 0.5em;}#sk-container-id-1 div.sk-estimator:hover {background-color: #d4ebff;}#sk-container-id-1 div.sk-parallel-item::after {content: \"\";width: 100%;border-bottom: 1px solid gray;flex-grow: 1;}#sk-container-id-1 div.sk-label:hover label.sk-toggleable__label {background-color: #d4ebff;}#sk-container-id-1 div.sk-serial::before {content: \"\";position: absolute;border-left: 1px solid gray;box-sizing: border-box;top: 0;bottom: 0;left: 50%;z-index: 0;}#sk-container-id-1 div.sk-serial {display: flex;flex-direction: column;align-items: center;background-color: white;padding-right: 0.2em;padding-left: 0.2em;position: relative;}#sk-container-id-1 div.sk-item {position: relative;z-index: 1;}#sk-container-id-1 div.sk-parallel {display: flex;align-items: stretch;justify-content: center;background-color: white;position: relative;}#sk-container-id-1 div.sk-item::before, #sk-container-id-1 div.sk-parallel-item::before {content: \"\";position: absolute;border-left: 1px solid gray;box-sizing: border-box;top: 0;bottom: 0;left: 50%;z-index: -1;}#sk-container-id-1 div.sk-parallel-item {display: flex;flex-direction: column;z-index: 1;position: relative;background-color: white;}#sk-container-id-1 div.sk-parallel-item:first-child::after {align-self: flex-end;width: 50%;}#sk-container-id-1 div.sk-parallel-item:last-child::after {align-self: flex-start;width: 50%;}#sk-container-id-1 div.sk-parallel-item:only-child::after {width: 0;}#sk-container-id-1 div.sk-dashed-wrapped {border: 1px dashed gray;margin: 0 0.4em 0.5em 0.4em;box-sizing: border-box;padding-bottom: 0.4em;background-color: white;}#sk-container-id-1 div.sk-label label {font-family: monospace;font-weight: bold;display: inline-block;line-height: 1.2em;}#sk-container-id-1 div.sk-label-container {text-align: center;}#sk-container-id-1 div.sk-container {/* jupyter's `normalize.less` sets `[hidden] { display: none; }` but bootstrap.min.css set `[hidden] { display: none !important; }` so we also need the `!important` here to be able to override the default hidden behavior on the sphinx rendered scikit-learn.org. See: https://github.com/scikit-learn/scikit-learn/issues/21755 */display: inline-block !important;position: relative;}#sk-container-id-1 div.sk-text-repr-fallback {display: none;}</style><div id=\"sk-container-id-1\" class=\"sk-top-container\"><div class=\"sk-text-repr-fallback\"><pre>Pipeline(steps=[(&#x27;columntransformer&#x27;,\n",
              "                 ColumnTransformer(transformers=[(&#x27;one-hot-encoder&#x27;,\n",
              "                                                  OneHotEncoder(handle_unknown=&#x27;ignore&#x27;),\n",
              "                                                  Index([&#x27;gender&#x27;, &#x27;race/ethnicity&#x27;, &#x27;parental level of education&#x27;, &#x27;lunch&#x27;,\n",
              "       &#x27;test preparation course&#x27;],\n",
              "      dtype=&#x27;object&#x27;)),\n",
              "                                                 (&#x27;standard-scaler&#x27;,\n",
              "                                                  StandardScaler(),\n",
              "                                                  Index([&#x27;math score&#x27;, &#x27;reading score&#x27;, &#x27;writing score&#x27;], dtype=&#x27;object&#x27;))])),\n",
              "                (&#x27;logisticregression&#x27;, LogisticRegression(max_iter=500))])</pre><b>In a Jupyter environment, please rerun this cell to show the HTML representation or trust the notebook. <br />On GitHub, the HTML representation is unable to render, please try loading this page with nbviewer.org.</b></div><div class=\"sk-container\" hidden><div class=\"sk-item sk-dashed-wrapped\"><div class=\"sk-label-container\"><div class=\"sk-label sk-toggleable\"><input class=\"sk-toggleable__control sk-hidden--visually\" id=\"sk-estimator-id-1\" type=\"checkbox\" ><label for=\"sk-estimator-id-1\" class=\"sk-toggleable__label sk-toggleable__label-arrow\">Pipeline</label><div class=\"sk-toggleable__content\"><pre>Pipeline(steps=[(&#x27;columntransformer&#x27;,\n",
              "                 ColumnTransformer(transformers=[(&#x27;one-hot-encoder&#x27;,\n",
              "                                                  OneHotEncoder(handle_unknown=&#x27;ignore&#x27;),\n",
              "                                                  Index([&#x27;gender&#x27;, &#x27;race/ethnicity&#x27;, &#x27;parental level of education&#x27;, &#x27;lunch&#x27;,\n",
              "       &#x27;test preparation course&#x27;],\n",
              "      dtype=&#x27;object&#x27;)),\n",
              "                                                 (&#x27;standard-scaler&#x27;,\n",
              "                                                  StandardScaler(),\n",
              "                                                  Index([&#x27;math score&#x27;, &#x27;reading score&#x27;, &#x27;writing score&#x27;], dtype=&#x27;object&#x27;))])),\n",
              "                (&#x27;logisticregression&#x27;, LogisticRegression(max_iter=500))])</pre></div></div></div><div class=\"sk-serial\"><div class=\"sk-item sk-dashed-wrapped\"><div class=\"sk-label-container\"><div class=\"sk-label sk-toggleable\"><input class=\"sk-toggleable__control sk-hidden--visually\" id=\"sk-estimator-id-2\" type=\"checkbox\" ><label for=\"sk-estimator-id-2\" class=\"sk-toggleable__label sk-toggleable__label-arrow\">columntransformer: ColumnTransformer</label><div class=\"sk-toggleable__content\"><pre>ColumnTransformer(transformers=[(&#x27;one-hot-encoder&#x27;,\n",
              "                                 OneHotEncoder(handle_unknown=&#x27;ignore&#x27;),\n",
              "                                 Index([&#x27;gender&#x27;, &#x27;race/ethnicity&#x27;, &#x27;parental level of education&#x27;, &#x27;lunch&#x27;,\n",
              "       &#x27;test preparation course&#x27;],\n",
              "      dtype=&#x27;object&#x27;)),\n",
              "                                (&#x27;standard-scaler&#x27;, StandardScaler(),\n",
              "                                 Index([&#x27;math score&#x27;, &#x27;reading score&#x27;, &#x27;writing score&#x27;], dtype=&#x27;object&#x27;))])</pre></div></div></div><div class=\"sk-parallel\"><div class=\"sk-parallel-item\"><div class=\"sk-item\"><div class=\"sk-label-container\"><div class=\"sk-label sk-toggleable\"><input class=\"sk-toggleable__control sk-hidden--visually\" id=\"sk-estimator-id-3\" type=\"checkbox\" ><label for=\"sk-estimator-id-3\" class=\"sk-toggleable__label sk-toggleable__label-arrow\">one-hot-encoder</label><div class=\"sk-toggleable__content\"><pre>Index([&#x27;gender&#x27;, &#x27;race/ethnicity&#x27;, &#x27;parental level of education&#x27;, &#x27;lunch&#x27;,\n",
              "       &#x27;test preparation course&#x27;],\n",
              "      dtype=&#x27;object&#x27;)</pre></div></div></div><div class=\"sk-serial\"><div class=\"sk-item\"><div class=\"sk-estimator sk-toggleable\"><input class=\"sk-toggleable__control sk-hidden--visually\" id=\"sk-estimator-id-4\" type=\"checkbox\" ><label for=\"sk-estimator-id-4\" class=\"sk-toggleable__label sk-toggleable__label-arrow\">OneHotEncoder</label><div class=\"sk-toggleable__content\"><pre>OneHotEncoder(handle_unknown=&#x27;ignore&#x27;)</pre></div></div></div></div></div></div><div class=\"sk-parallel-item\"><div class=\"sk-item\"><div class=\"sk-label-container\"><div class=\"sk-label sk-toggleable\"><input class=\"sk-toggleable__control sk-hidden--visually\" id=\"sk-estimator-id-5\" type=\"checkbox\" ><label for=\"sk-estimator-id-5\" class=\"sk-toggleable__label sk-toggleable__label-arrow\">standard-scaler</label><div class=\"sk-toggleable__content\"><pre>Index([&#x27;math score&#x27;, &#x27;reading score&#x27;, &#x27;writing score&#x27;], dtype=&#x27;object&#x27;)</pre></div></div></div><div class=\"sk-serial\"><div class=\"sk-item\"><div class=\"sk-estimator sk-toggleable\"><input class=\"sk-toggleable__control sk-hidden--visually\" id=\"sk-estimator-id-6\" type=\"checkbox\" ><label for=\"sk-estimator-id-6\" class=\"sk-toggleable__label sk-toggleable__label-arrow\">StandardScaler</label><div class=\"sk-toggleable__content\"><pre>StandardScaler()</pre></div></div></div></div></div></div></div></div><div class=\"sk-item\"><div class=\"sk-estimator sk-toggleable\"><input class=\"sk-toggleable__control sk-hidden--visually\" id=\"sk-estimator-id-7\" type=\"checkbox\" ><label for=\"sk-estimator-id-7\" class=\"sk-toggleable__label sk-toggleable__label-arrow\">LogisticRegression</label><div class=\"sk-toggleable__content\"><pre>LogisticRegression(max_iter=500)</pre></div></div></div></div></div></div></div>"
            ]
          },
          "metadata": {},
          "execution_count": 59
        }
      ],
      "source": [
        "set_config(display='diagram')\n",
        "lr_model"
      ],
      "id": "cf63dfb1"
    },
    {
      "cell_type": "markdown",
      "metadata": {
        "papermill": {
          "duration": 0.030056,
          "end_time": "2021-10-19T07:14:08.524883",
          "exception": false,
          "start_time": "2021-10-19T07:14:08.494827",
          "status": "completed"
        },
        "tags": [],
        "id": "ff943966"
      },
      "source": [
        "## Split into Features and Target"
      ],
      "id": "ff943966"
    },
    {
      "cell_type": "code",
      "execution_count": 60,
      "metadata": {
        "execution": {
          "iopub.execute_input": "2021-10-19T07:14:08.589763Z",
          "iopub.status.busy": "2021-10-19T07:14:08.589149Z",
          "iopub.status.idle": "2021-10-19T07:14:08.593173Z",
          "shell.execute_reply": "2021-10-19T07:14:08.593718Z",
          "shell.execute_reply.started": "2021-10-19T07:10:24.077692Z"
        },
        "papermill": {
          "duration": 0.038145,
          "end_time": "2021-10-19T07:14:08.593889",
          "exception": false,
          "start_time": "2021-10-19T07:14:08.555744",
          "status": "completed"
        },
        "tags": [],
        "id": "a6543a8b"
      },
      "outputs": [],
      "source": [
        "features = df_f.iloc[:, :8]\n",
        "target = df.iloc[:, -1]"
      ],
      "id": "a6543a8b"
    },
    {
      "cell_type": "markdown",
      "metadata": {
        "papermill": {
          "duration": 0.029632,
          "end_time": "2021-10-19T07:14:08.653604",
          "exception": false,
          "start_time": "2021-10-19T07:14:08.623972",
          "status": "completed"
        },
        "tags": [],
        "id": "ad3f104d"
      },
      "source": [
        "## Split Train Test"
      ],
      "id": "ad3f104d"
    },
    {
      "cell_type": "code",
      "execution_count": 61,
      "metadata": {
        "execution": {
          "iopub.execute_input": "2021-10-19T07:14:08.716635Z",
          "iopub.status.busy": "2021-10-19T07:14:08.715975Z",
          "iopub.status.idle": "2021-10-19T07:14:08.722846Z",
          "shell.execute_reply": "2021-10-19T07:14:08.723367Z",
          "shell.execute_reply.started": "2021-10-19T07:11:01.947194Z"
        },
        "papermill": {
          "duration": 0.039844,
          "end_time": "2021-10-19T07:14:08.723550",
          "exception": false,
          "start_time": "2021-10-19T07:14:08.683706",
          "status": "completed"
        },
        "tags": [],
        "id": "0953bf79"
      },
      "outputs": [],
      "source": [
        "x_train, x_test, y_train, y_test = train_test_split(features, target, test_size=0.25, random_state=1 )"
      ],
      "id": "0953bf79"
    },
    {
      "cell_type": "code",
      "execution_count": 62,
      "metadata": {
        "execution": {
          "iopub.execute_input": "2021-10-19T07:14:08.789257Z",
          "iopub.status.busy": "2021-10-19T07:14:08.788633Z",
          "iopub.status.idle": "2021-10-19T07:14:08.791713Z",
          "shell.execute_reply": "2021-10-19T07:14:08.792173Z",
          "shell.execute_reply.started": "2021-10-19T07:11:12.797435Z"
        },
        "papermill": {
          "duration": 0.038325,
          "end_time": "2021-10-19T07:14:08.792340",
          "exception": false,
          "start_time": "2021-10-19T07:14:08.754015",
          "status": "completed"
        },
        "tags": [],
        "id": "c42aa5d3",
        "outputId": "5be129e7-9559-4c09-fe3a-894315093a80",
        "colab": {
          "base_uri": "https://localhost:8080/"
        }
      },
      "outputs": [
        {
          "output_type": "execute_result",
          "data": {
            "text/plain": [
              "(750, 8)"
            ]
          },
          "metadata": {},
          "execution_count": 62
        }
      ],
      "source": [
        "x_train.shape"
      ],
      "id": "c42aa5d3"
    },
    {
      "cell_type": "code",
      "execution_count": 63,
      "metadata": {
        "execution": {
          "iopub.execute_input": "2021-10-19T07:14:08.858157Z",
          "iopub.status.busy": "2021-10-19T07:14:08.857497Z",
          "iopub.status.idle": "2021-10-19T07:14:08.860439Z",
          "shell.execute_reply": "2021-10-19T07:14:08.860889Z",
          "shell.execute_reply.started": "2021-10-19T07:11:23.537086Z"
        },
        "papermill": {
          "duration": 0.038309,
          "end_time": "2021-10-19T07:14:08.861052",
          "exception": false,
          "start_time": "2021-10-19T07:14:08.822743",
          "status": "completed"
        },
        "tags": [],
        "id": "ec9fbf45",
        "outputId": "cec938ef-9553-4805-f486-dfc5051e321b",
        "colab": {
          "base_uri": "https://localhost:8080/"
        }
      },
      "outputs": [
        {
          "output_type": "execute_result",
          "data": {
            "text/plain": [
              "(750,)"
            ]
          },
          "metadata": {},
          "execution_count": 63
        }
      ],
      "source": [
        "y_train.shape"
      ],
      "id": "ec9fbf45"
    },
    {
      "cell_type": "markdown",
      "metadata": {
        "papermill": {
          "duration": 0.030191,
          "end_time": "2021-10-19T07:14:08.921888",
          "exception": false,
          "start_time": "2021-10-19T07:14:08.891697",
          "status": "completed"
        },
        "tags": [],
        "id": "152b4462"
      },
      "source": [
        "## Fit & Predict Model"
      ],
      "id": "152b4462"
    },
    {
      "cell_type": "code",
      "execution_count": 64,
      "metadata": {
        "execution": {
          "iopub.execute_input": "2021-10-19T07:14:08.996370Z",
          "iopub.status.busy": "2021-10-19T07:14:08.993352Z",
          "iopub.status.idle": "2021-10-19T07:14:09.088530Z",
          "shell.execute_reply": "2021-10-19T07:14:09.087977Z",
          "shell.execute_reply.started": "2021-10-19T07:11:42.157031Z"
        },
        "papermill": {
          "duration": 0.136402,
          "end_time": "2021-10-19T07:14:09.088686",
          "exception": false,
          "start_time": "2021-10-19T07:14:08.952284",
          "status": "completed"
        },
        "tags": [],
        "id": "1f00b707"
      },
      "outputs": [],
      "source": [
        "mod = lr_model.fit(x_train, y_train)"
      ],
      "id": "1f00b707"
    },
    {
      "cell_type": "code",
      "execution_count": 65,
      "metadata": {
        "execution": {
          "iopub.execute_input": "2021-10-19T07:14:09.154856Z",
          "iopub.status.busy": "2021-10-19T07:14:09.153901Z",
          "iopub.status.idle": "2021-10-19T07:14:09.162987Z",
          "shell.execute_reply": "2021-10-19T07:14:09.163534Z",
          "shell.execute_reply.started": "2021-10-19T07:11:42.284830Z"
        },
        "papermill": {
          "duration": 0.043783,
          "end_time": "2021-10-19T07:14:09.163702",
          "exception": false,
          "start_time": "2021-10-19T07:14:09.119919",
          "status": "completed"
        },
        "tags": [],
        "id": "ee12a6ca"
      },
      "outputs": [],
      "source": [
        "pred = lr_model.predict(x_test)"
      ],
      "id": "ee12a6ca"
    },
    {
      "cell_type": "code",
      "execution_count": 66,
      "metadata": {
        "execution": {
          "iopub.execute_input": "2021-10-19T07:14:09.234157Z",
          "iopub.status.busy": "2021-10-19T07:14:09.233170Z",
          "iopub.status.idle": "2021-10-19T07:14:09.241062Z",
          "shell.execute_reply": "2021-10-19T07:14:09.241625Z",
          "shell.execute_reply.started": "2021-10-19T07:11:43.787793Z"
        },
        "papermill": {
          "duration": 0.046936,
          "end_time": "2021-10-19T07:14:09.241812",
          "exception": false,
          "start_time": "2021-10-19T07:14:09.194876",
          "status": "completed"
        },
        "tags": [],
        "id": "23f5be4a",
        "outputId": "8cf4f4fa-a1bc-4da6-d9c9-913c5f7befcc",
        "colab": {
          "base_uri": "https://localhost:8080/"
        }
      },
      "outputs": [
        {
          "output_type": "execute_result",
          "data": {
            "text/plain": [
              "0.968"
            ]
          },
          "metadata": {},
          "execution_count": 66
        }
      ],
      "source": [
        "lr_model.score(x_test, y_test)"
      ],
      "id": "23f5be4a"
    },
    {
      "cell_type": "code",
      "execution_count": 82,
      "metadata": {
        "execution": {
          "iopub.execute_input": "2021-10-19T07:14:09.307381Z",
          "iopub.status.busy": "2021-10-19T07:14:09.306461Z",
          "iopub.status.idle": "2021-10-19T07:14:09.312747Z",
          "shell.execute_reply": "2021-10-19T07:14:09.313249Z",
          "shell.execute_reply.started": "2021-10-19T07:11:45.531374Z"
        },
        "papermill": {
          "duration": 0.040831,
          "end_time": "2021-10-19T07:14:09.313438",
          "exception": false,
          "start_time": "2021-10-19T07:14:09.272607",
          "status": "completed"
        },
        "tags": [],
        "id": "a7a1409a",
        "outputId": "39eec9ab-6976-48a2-effe-541639a9d785",
        "colab": {
          "base_uri": "https://localhost:8080/"
        }
      },
      "outputs": [
        {
          "output_type": "stream",
          "name": "stdout",
          "text": [
            "Accuracy Of Logistic regression model: 96.80\n"
          ]
        }
      ],
      "source": [
        "# evaluate predictions\n",
        "accuracy = accuracy_score(y_test, pred)\n",
        "print('Accuracy Of Logistic regression model: %.2f' % (accuracy*100))"
      ],
      "id": "a7a1409a"
    },
    {
      "cell_type": "code",
      "execution_count": 68,
      "metadata": {
        "execution": {
          "iopub.execute_input": "2021-10-19T07:14:09.379688Z",
          "iopub.status.busy": "2021-10-19T07:14:09.378712Z",
          "iopub.status.idle": "2021-10-19T07:14:09.863498Z",
          "shell.execute_reply": "2021-10-19T07:14:09.864013Z",
          "shell.execute_reply.started": "2021-10-19T07:11:54.400994Z"
        },
        "papermill": {
          "duration": 0.519525,
          "end_time": "2021-10-19T07:14:09.864192",
          "exception": false,
          "start_time": "2021-10-19T07:14:09.344667",
          "status": "completed"
        },
        "tags": [],
        "id": "6feda0b5",
        "outputId": "22505e99-7d51-4c92-d7ec-4e986fe340e5",
        "colab": {
          "base_uri": "https://localhost:8080/"
        }
      },
      "outputs": [
        {
          "output_type": "execute_result",
          "data": {
            "text/plain": [
              "{'fit_time': array([0.060601  , 0.04682183, 0.04940796, 0.05531287, 0.05864573]),\n",
              " 'score_time': array([0.00621963, 0.00622678, 0.0064981 , 0.00670195, 0.00619292]),\n",
              " 'test_score': array([0.96, 0.98, 0.93, 0.94, 0.91])}"
            ]
          },
          "metadata": {},
          "execution_count": 68
        }
      ],
      "source": [
        "#Evaluation with Cross Validation\n",
        "\n",
        "cv_lr = cross_validate(lr_model, features, target, cv=5)\n",
        "cv_lr"
      ],
      "id": "6feda0b5"
    },
    {
      "cell_type": "code",
      "execution_count": 69,
      "metadata": {
        "execution": {
          "iopub.execute_input": "2021-10-19T07:14:09.930531Z",
          "iopub.status.busy": "2021-10-19T07:14:09.929930Z",
          "iopub.status.idle": "2021-10-19T07:14:09.935152Z",
          "shell.execute_reply": "2021-10-19T07:14:09.935844Z",
          "shell.execute_reply.started": "2021-10-19T07:11:55.968107Z"
        },
        "papermill": {
          "duration": 0.039842,
          "end_time": "2021-10-19T07:14:09.936072",
          "exception": false,
          "start_time": "2021-10-19T07:14:09.896230",
          "status": "completed"
        },
        "tags": [],
        "id": "fdcbbf37",
        "outputId": "9086b6b3-9cd3-4625-d653-ceff015dda04",
        "colab": {
          "base_uri": "https://localhost:8080/"
        }
      },
      "outputs": [
        {
          "output_type": "stream",
          "name": "stdout",
          "text": [
            "The mean cross-validation accuracy is: 0.944 +/- 0.024\n"
          ]
        }
      ],
      "source": [
        "scores = cv_lr[\"test_score\"]\n",
        "print(\"The mean cross-validation accuracy is: \"\n",
        "      f\"{scores.mean():.3f} +/- {scores.std():.3f}\")"
      ],
      "id": "fdcbbf37"
    },
    {
      "cell_type": "markdown",
      "metadata": {
        "papermill": {
          "duration": 0.031797,
          "end_time": "2021-10-19T07:14:09.999929",
          "exception": false,
          "start_time": "2021-10-19T07:14:09.968132",
          "status": "completed"
        },
        "tags": [],
        "id": "08dc8e2a"
      },
      "source": [
        "# Naïve Bayes"
      ],
      "id": "08dc8e2a"
    },
    {
      "cell_type": "markdown",
      "metadata": {
        "papermill": {
          "duration": 0.031015,
          "end_time": "2021-10-19T07:14:10.062471",
          "exception": false,
          "start_time": "2021-10-19T07:14:10.031456",
          "status": "completed"
        },
        "tags": [],
        "id": "27618353"
      },
      "source": [
        "## Create Processing Pipeline"
      ],
      "id": "27618353"
    },
    {
      "cell_type": "code",
      "execution_count": 70,
      "metadata": {
        "execution": {
          "iopub.execute_input": "2021-10-19T07:14:10.131256Z",
          "iopub.status.busy": "2021-10-19T07:14:10.130584Z",
          "iopub.status.idle": "2021-10-19T07:14:10.132383Z",
          "shell.execute_reply": "2021-10-19T07:14:10.132833Z",
          "shell.execute_reply.started": "2021-10-19T07:12:36.399483Z"
        },
        "papermill": {
          "duration": 0.03928,
          "end_time": "2021-10-19T07:14:10.133014",
          "exception": false,
          "start_time": "2021-10-19T07:14:10.093734",
          "status": "completed"
        },
        "tags": [],
        "id": "2175a1bb"
      },
      "outputs": [],
      "source": [
        "nb_model = make_pipeline(preprocessor, GaussianNB())"
      ],
      "id": "2175a1bb"
    },
    {
      "cell_type": "code",
      "execution_count": 71,
      "metadata": {
        "execution": {
          "iopub.execute_input": "2021-10-19T07:14:10.205589Z",
          "iopub.status.busy": "2021-10-19T07:14:10.204921Z",
          "iopub.status.idle": "2021-10-19T07:14:10.263073Z",
          "shell.execute_reply": "2021-10-19T07:14:10.262537Z",
          "shell.execute_reply.started": "2021-10-19T07:12:41.588437Z"
        },
        "papermill": {
          "duration": 0.097649,
          "end_time": "2021-10-19T07:14:10.263212",
          "exception": false,
          "start_time": "2021-10-19T07:14:10.165563",
          "status": "completed"
        },
        "tags": [],
        "id": "6272e6c8",
        "outputId": "f1cc5362-c27a-4bf3-a9a0-517e11feb4e3",
        "colab": {
          "base_uri": "https://localhost:8080/",
          "height": 192
        }
      },
      "outputs": [
        {
          "output_type": "execute_result",
          "data": {
            "text/plain": [
              "Pipeline(steps=[('columntransformer',\n",
              "                 ColumnTransformer(transformers=[('one-hot-encoder',\n",
              "                                                  OneHotEncoder(handle_unknown='ignore'),\n",
              "                                                  Index(['gender', 'race/ethnicity', 'parental level of education', 'lunch',\n",
              "       'test preparation course'],\n",
              "      dtype='object')),\n",
              "                                                 ('standard-scaler',\n",
              "                                                  StandardScaler(),\n",
              "                                                  Index(['math score', 'reading score', 'writing score'], dtype='object'))])),\n",
              "                ('gaussiannb', GaussianNB())])"
            ],
            "text/html": [
              "<style>#sk-container-id-2 {color: black;background-color: white;}#sk-container-id-2 pre{padding: 0;}#sk-container-id-2 div.sk-toggleable {background-color: white;}#sk-container-id-2 label.sk-toggleable__label {cursor: pointer;display: block;width: 100%;margin-bottom: 0;padding: 0.3em;box-sizing: border-box;text-align: center;}#sk-container-id-2 label.sk-toggleable__label-arrow:before {content: \"▸\";float: left;margin-right: 0.25em;color: #696969;}#sk-container-id-2 label.sk-toggleable__label-arrow:hover:before {color: black;}#sk-container-id-2 div.sk-estimator:hover label.sk-toggleable__label-arrow:before {color: black;}#sk-container-id-2 div.sk-toggleable__content {max-height: 0;max-width: 0;overflow: hidden;text-align: left;background-color: #f0f8ff;}#sk-container-id-2 div.sk-toggleable__content pre {margin: 0.2em;color: black;border-radius: 0.25em;background-color: #f0f8ff;}#sk-container-id-2 input.sk-toggleable__control:checked~div.sk-toggleable__content {max-height: 200px;max-width: 100%;overflow: auto;}#sk-container-id-2 input.sk-toggleable__control:checked~label.sk-toggleable__label-arrow:before {content: \"▾\";}#sk-container-id-2 div.sk-estimator input.sk-toggleable__control:checked~label.sk-toggleable__label {background-color: #d4ebff;}#sk-container-id-2 div.sk-label input.sk-toggleable__control:checked~label.sk-toggleable__label {background-color: #d4ebff;}#sk-container-id-2 input.sk-hidden--visually {border: 0;clip: rect(1px 1px 1px 1px);clip: rect(1px, 1px, 1px, 1px);height: 1px;margin: -1px;overflow: hidden;padding: 0;position: absolute;width: 1px;}#sk-container-id-2 div.sk-estimator {font-family: monospace;background-color: #f0f8ff;border: 1px dotted black;border-radius: 0.25em;box-sizing: border-box;margin-bottom: 0.5em;}#sk-container-id-2 div.sk-estimator:hover {background-color: #d4ebff;}#sk-container-id-2 div.sk-parallel-item::after {content: \"\";width: 100%;border-bottom: 1px solid gray;flex-grow: 1;}#sk-container-id-2 div.sk-label:hover label.sk-toggleable__label {background-color: #d4ebff;}#sk-container-id-2 div.sk-serial::before {content: \"\";position: absolute;border-left: 1px solid gray;box-sizing: border-box;top: 0;bottom: 0;left: 50%;z-index: 0;}#sk-container-id-2 div.sk-serial {display: flex;flex-direction: column;align-items: center;background-color: white;padding-right: 0.2em;padding-left: 0.2em;position: relative;}#sk-container-id-2 div.sk-item {position: relative;z-index: 1;}#sk-container-id-2 div.sk-parallel {display: flex;align-items: stretch;justify-content: center;background-color: white;position: relative;}#sk-container-id-2 div.sk-item::before, #sk-container-id-2 div.sk-parallel-item::before {content: \"\";position: absolute;border-left: 1px solid gray;box-sizing: border-box;top: 0;bottom: 0;left: 50%;z-index: -1;}#sk-container-id-2 div.sk-parallel-item {display: flex;flex-direction: column;z-index: 1;position: relative;background-color: white;}#sk-container-id-2 div.sk-parallel-item:first-child::after {align-self: flex-end;width: 50%;}#sk-container-id-2 div.sk-parallel-item:last-child::after {align-self: flex-start;width: 50%;}#sk-container-id-2 div.sk-parallel-item:only-child::after {width: 0;}#sk-container-id-2 div.sk-dashed-wrapped {border: 1px dashed gray;margin: 0 0.4em 0.5em 0.4em;box-sizing: border-box;padding-bottom: 0.4em;background-color: white;}#sk-container-id-2 div.sk-label label {font-family: monospace;font-weight: bold;display: inline-block;line-height: 1.2em;}#sk-container-id-2 div.sk-label-container {text-align: center;}#sk-container-id-2 div.sk-container {/* jupyter's `normalize.less` sets `[hidden] { display: none; }` but bootstrap.min.css set `[hidden] { display: none !important; }` so we also need the `!important` here to be able to override the default hidden behavior on the sphinx rendered scikit-learn.org. See: https://github.com/scikit-learn/scikit-learn/issues/21755 */display: inline-block !important;position: relative;}#sk-container-id-2 div.sk-text-repr-fallback {display: none;}</style><div id=\"sk-container-id-2\" class=\"sk-top-container\"><div class=\"sk-text-repr-fallback\"><pre>Pipeline(steps=[(&#x27;columntransformer&#x27;,\n",
              "                 ColumnTransformer(transformers=[(&#x27;one-hot-encoder&#x27;,\n",
              "                                                  OneHotEncoder(handle_unknown=&#x27;ignore&#x27;),\n",
              "                                                  Index([&#x27;gender&#x27;, &#x27;race/ethnicity&#x27;, &#x27;parental level of education&#x27;, &#x27;lunch&#x27;,\n",
              "       &#x27;test preparation course&#x27;],\n",
              "      dtype=&#x27;object&#x27;)),\n",
              "                                                 (&#x27;standard-scaler&#x27;,\n",
              "                                                  StandardScaler(),\n",
              "                                                  Index([&#x27;math score&#x27;, &#x27;reading score&#x27;, &#x27;writing score&#x27;], dtype=&#x27;object&#x27;))])),\n",
              "                (&#x27;gaussiannb&#x27;, GaussianNB())])</pre><b>In a Jupyter environment, please rerun this cell to show the HTML representation or trust the notebook. <br />On GitHub, the HTML representation is unable to render, please try loading this page with nbviewer.org.</b></div><div class=\"sk-container\" hidden><div class=\"sk-item sk-dashed-wrapped\"><div class=\"sk-label-container\"><div class=\"sk-label sk-toggleable\"><input class=\"sk-toggleable__control sk-hidden--visually\" id=\"sk-estimator-id-8\" type=\"checkbox\" ><label for=\"sk-estimator-id-8\" class=\"sk-toggleable__label sk-toggleable__label-arrow\">Pipeline</label><div class=\"sk-toggleable__content\"><pre>Pipeline(steps=[(&#x27;columntransformer&#x27;,\n",
              "                 ColumnTransformer(transformers=[(&#x27;one-hot-encoder&#x27;,\n",
              "                                                  OneHotEncoder(handle_unknown=&#x27;ignore&#x27;),\n",
              "                                                  Index([&#x27;gender&#x27;, &#x27;race/ethnicity&#x27;, &#x27;parental level of education&#x27;, &#x27;lunch&#x27;,\n",
              "       &#x27;test preparation course&#x27;],\n",
              "      dtype=&#x27;object&#x27;)),\n",
              "                                                 (&#x27;standard-scaler&#x27;,\n",
              "                                                  StandardScaler(),\n",
              "                                                  Index([&#x27;math score&#x27;, &#x27;reading score&#x27;, &#x27;writing score&#x27;], dtype=&#x27;object&#x27;))])),\n",
              "                (&#x27;gaussiannb&#x27;, GaussianNB())])</pre></div></div></div><div class=\"sk-serial\"><div class=\"sk-item sk-dashed-wrapped\"><div class=\"sk-label-container\"><div class=\"sk-label sk-toggleable\"><input class=\"sk-toggleable__control sk-hidden--visually\" id=\"sk-estimator-id-9\" type=\"checkbox\" ><label for=\"sk-estimator-id-9\" class=\"sk-toggleable__label sk-toggleable__label-arrow\">columntransformer: ColumnTransformer</label><div class=\"sk-toggleable__content\"><pre>ColumnTransformer(transformers=[(&#x27;one-hot-encoder&#x27;,\n",
              "                                 OneHotEncoder(handle_unknown=&#x27;ignore&#x27;),\n",
              "                                 Index([&#x27;gender&#x27;, &#x27;race/ethnicity&#x27;, &#x27;parental level of education&#x27;, &#x27;lunch&#x27;,\n",
              "       &#x27;test preparation course&#x27;],\n",
              "      dtype=&#x27;object&#x27;)),\n",
              "                                (&#x27;standard-scaler&#x27;, StandardScaler(),\n",
              "                                 Index([&#x27;math score&#x27;, &#x27;reading score&#x27;, &#x27;writing score&#x27;], dtype=&#x27;object&#x27;))])</pre></div></div></div><div class=\"sk-parallel\"><div class=\"sk-parallel-item\"><div class=\"sk-item\"><div class=\"sk-label-container\"><div class=\"sk-label sk-toggleable\"><input class=\"sk-toggleable__control sk-hidden--visually\" id=\"sk-estimator-id-10\" type=\"checkbox\" ><label for=\"sk-estimator-id-10\" class=\"sk-toggleable__label sk-toggleable__label-arrow\">one-hot-encoder</label><div class=\"sk-toggleable__content\"><pre>Index([&#x27;gender&#x27;, &#x27;race/ethnicity&#x27;, &#x27;parental level of education&#x27;, &#x27;lunch&#x27;,\n",
              "       &#x27;test preparation course&#x27;],\n",
              "      dtype=&#x27;object&#x27;)</pre></div></div></div><div class=\"sk-serial\"><div class=\"sk-item\"><div class=\"sk-estimator sk-toggleable\"><input class=\"sk-toggleable__control sk-hidden--visually\" id=\"sk-estimator-id-11\" type=\"checkbox\" ><label for=\"sk-estimator-id-11\" class=\"sk-toggleable__label sk-toggleable__label-arrow\">OneHotEncoder</label><div class=\"sk-toggleable__content\"><pre>OneHotEncoder(handle_unknown=&#x27;ignore&#x27;)</pre></div></div></div></div></div></div><div class=\"sk-parallel-item\"><div class=\"sk-item\"><div class=\"sk-label-container\"><div class=\"sk-label sk-toggleable\"><input class=\"sk-toggleable__control sk-hidden--visually\" id=\"sk-estimator-id-12\" type=\"checkbox\" ><label for=\"sk-estimator-id-12\" class=\"sk-toggleable__label sk-toggleable__label-arrow\">standard-scaler</label><div class=\"sk-toggleable__content\"><pre>Index([&#x27;math score&#x27;, &#x27;reading score&#x27;, &#x27;writing score&#x27;], dtype=&#x27;object&#x27;)</pre></div></div></div><div class=\"sk-serial\"><div class=\"sk-item\"><div class=\"sk-estimator sk-toggleable\"><input class=\"sk-toggleable__control sk-hidden--visually\" id=\"sk-estimator-id-13\" type=\"checkbox\" ><label for=\"sk-estimator-id-13\" class=\"sk-toggleable__label sk-toggleable__label-arrow\">StandardScaler</label><div class=\"sk-toggleable__content\"><pre>StandardScaler()</pre></div></div></div></div></div></div></div></div><div class=\"sk-item\"><div class=\"sk-estimator sk-toggleable\"><input class=\"sk-toggleable__control sk-hidden--visually\" id=\"sk-estimator-id-14\" type=\"checkbox\" ><label for=\"sk-estimator-id-14\" class=\"sk-toggleable__label sk-toggleable__label-arrow\">GaussianNB</label><div class=\"sk-toggleable__content\"><pre>GaussianNB()</pre></div></div></div></div></div></div></div>"
            ]
          },
          "metadata": {},
          "execution_count": 71
        }
      ],
      "source": [
        "nb_model.fit(x_train, y_train)"
      ],
      "id": "6272e6c8"
    },
    {
      "cell_type": "code",
      "execution_count": 72,
      "metadata": {
        "execution": {
          "iopub.execute_input": "2021-10-19T07:14:10.332024Z",
          "iopub.status.busy": "2021-10-19T07:14:10.331082Z",
          "iopub.status.idle": "2021-10-19T07:14:10.340857Z",
          "shell.execute_reply": "2021-10-19T07:14:10.341381Z",
          "shell.execute_reply.started": "2021-10-19T07:12:43.065548Z"
        },
        "papermill": {
          "duration": 0.045353,
          "end_time": "2021-10-19T07:14:10.341572",
          "exception": false,
          "start_time": "2021-10-19T07:14:10.296219",
          "status": "completed"
        },
        "tags": [],
        "id": "0e281420"
      },
      "outputs": [],
      "source": [
        "nb_pred = nb_model.predict(x_test)"
      ],
      "id": "0e281420"
    },
    {
      "cell_type": "code",
      "execution_count": 83,
      "metadata": {
        "execution": {
          "iopub.execute_input": "2021-10-19T07:14:10.410423Z",
          "iopub.status.busy": "2021-10-19T07:14:10.409467Z",
          "iopub.status.idle": "2021-10-19T07:14:10.416443Z",
          "shell.execute_reply": "2021-10-19T07:14:10.415946Z",
          "shell.execute_reply.started": "2021-10-19T07:12:47.457384Z"
        },
        "papermill": {
          "duration": 0.043215,
          "end_time": "2021-10-19T07:14:10.416590",
          "exception": false,
          "start_time": "2021-10-19T07:14:10.373375",
          "status": "completed"
        },
        "tags": [],
        "id": "44046ad1",
        "outputId": "cae01e4d-ad12-46a1-8a2e-e24617792a91",
        "colab": {
          "base_uri": "https://localhost:8080/"
        }
      },
      "outputs": [
        {
          "output_type": "stream",
          "name": "stdout",
          "text": [
            "Accuracy of Naive Bayes: 79.20\n"
          ]
        }
      ],
      "source": [
        "# evaluate predictions\n",
        "accuracy = accuracy_score(y_test, nb_pred)\n",
        "print('Accuracy of Naive Bayes: %.2f' % (accuracy*100))"
      ],
      "id": "44046ad1"
    },
    {
      "cell_type": "code",
      "execution_count": 74,
      "metadata": {
        "execution": {
          "iopub.execute_input": "2021-10-19T07:14:10.486277Z",
          "iopub.status.busy": "2021-10-19T07:14:10.484313Z",
          "iopub.status.idle": "2021-10-19T07:14:10.581142Z",
          "shell.execute_reply": "2021-10-19T07:14:10.581591Z",
          "shell.execute_reply.started": "2021-10-19T07:12:49.995278Z"
        },
        "papermill": {
          "duration": 0.132726,
          "end_time": "2021-10-19T07:14:10.581785",
          "exception": false,
          "start_time": "2021-10-19T07:14:10.449059",
          "status": "completed"
        },
        "tags": [],
        "id": "bdd60a4d",
        "outputId": "1859b039-4e48-470b-e0b6-3ae85c9b602a",
        "colab": {
          "base_uri": "https://localhost:8080/"
        }
      },
      "outputs": [
        {
          "output_type": "execute_result",
          "data": {
            "text/plain": [
              "{'fit_time': array([0.04115152, 0.01118159, 0.01070118, 0.01085925, 0.01433945]),\n",
              " 'score_time': array([0.00818372, 0.00571227, 0.00556779, 0.00569296, 0.00881839]),\n",
              " 'test_score': array([0.705, 0.755, 0.775, 0.805, 0.63 ])}"
            ]
          },
          "metadata": {},
          "execution_count": 74
        }
      ],
      "source": [
        "#Evaluation with Cross Validation\n",
        "\n",
        "cv_nb = cross_validate(nb_model, features, target, cv=5)\n",
        "cv_nb"
      ],
      "id": "bdd60a4d"
    },
    {
      "cell_type": "code",
      "execution_count": 75,
      "metadata": {
        "execution": {
          "iopub.execute_input": "2021-10-19T07:14:10.653200Z",
          "iopub.status.busy": "2021-10-19T07:14:10.652577Z",
          "iopub.status.idle": "2021-10-19T07:14:10.655335Z",
          "shell.execute_reply": "2021-10-19T07:14:10.656011Z",
          "shell.execute_reply.started": "2021-10-19T07:12:50.114926Z"
        },
        "papermill": {
          "duration": 0.04141,
          "end_time": "2021-10-19T07:14:10.656235",
          "exception": false,
          "start_time": "2021-10-19T07:14:10.614825",
          "status": "completed"
        },
        "tags": [],
        "id": "a1c46eb6",
        "outputId": "b5c450c7-ba41-4c68-db55-ec8689792808",
        "colab": {
          "base_uri": "https://localhost:8080/"
        }
      },
      "outputs": [
        {
          "output_type": "stream",
          "name": "stdout",
          "text": [
            "The mean cross-validation accuracy is: 0.734 +/- 0.061\n"
          ]
        }
      ],
      "source": [
        "scores = cv_nb[\"test_score\"]\n",
        "print(\"The mean cross-validation accuracy is: \"\n",
        "      f\"{scores.mean():.3f} +/- {scores.std():.3f}\")"
      ],
      "id": "a1c46eb6"
    },
    {
      "cell_type": "markdown",
      "metadata": {
        "papermill": {
          "duration": 0.032905,
          "end_time": "2021-10-19T07:14:10.789916",
          "exception": false,
          "start_time": "2021-10-19T07:14:10.757011",
          "status": "completed"
        },
        "tags": [],
        "id": "eb9e2a0e"
      },
      "source": [
        "# Stochastic Gradient Descent"
      ],
      "id": "eb9e2a0e"
    },
    {
      "cell_type": "code",
      "execution_count": 76,
      "metadata": {
        "execution": {
          "iopub.execute_input": "2021-10-19T07:14:10.861779Z",
          "iopub.status.busy": "2021-10-19T07:14:10.861068Z",
          "iopub.status.idle": "2021-10-19T07:14:10.864039Z",
          "shell.execute_reply": "2021-10-19T07:14:10.863391Z",
          "shell.execute_reply.started": "2021-10-19T07:12:58.590855Z"
        },
        "papermill": {
          "duration": 0.040978,
          "end_time": "2021-10-19T07:14:10.864182",
          "exception": false,
          "start_time": "2021-10-19T07:14:10.823204",
          "status": "completed"
        },
        "tags": [],
        "id": "87c9293d"
      },
      "outputs": [],
      "source": [
        "sgd_model = make_pipeline(preprocessor, SGDClassifier(loss = \"modified_huber\", shuffle = True, random_state = 101))"
      ],
      "id": "87c9293d"
    },
    {
      "cell_type": "code",
      "execution_count": 77,
      "metadata": {
        "execution": {
          "iopub.execute_input": "2021-10-19T07:14:10.937326Z",
          "iopub.status.busy": "2021-10-19T07:14:10.936694Z",
          "iopub.status.idle": "2021-10-19T07:14:11.013030Z",
          "shell.execute_reply": "2021-10-19T07:14:11.012539Z",
          "shell.execute_reply.started": "2021-10-19T07:12:59.245874Z"
        },
        "papermill": {
          "duration": 0.1158,
          "end_time": "2021-10-19T07:14:11.013181",
          "exception": false,
          "start_time": "2021-10-19T07:14:10.897381",
          "status": "completed"
        },
        "tags": [],
        "id": "eb2c63f7",
        "outputId": "31c9370b-1bea-4f91-f612-c0935dc1b8e3",
        "colab": {
          "base_uri": "https://localhost:8080/",
          "height": 192
        }
      },
      "outputs": [
        {
          "output_type": "execute_result",
          "data": {
            "text/plain": [
              "Pipeline(steps=[('columntransformer',\n",
              "                 ColumnTransformer(transformers=[('one-hot-encoder',\n",
              "                                                  OneHotEncoder(handle_unknown='ignore'),\n",
              "                                                  Index(['gender', 'race/ethnicity', 'parental level of education', 'lunch',\n",
              "       'test preparation course'],\n",
              "      dtype='object')),\n",
              "                                                 ('standard-scaler',\n",
              "                                                  StandardScaler(),\n",
              "                                                  Index(['math score', 'reading score', 'writing score'], dtype='object'))])),\n",
              "                ('sgdclassifier',\n",
              "                 SGDClassifier(loss='modified_huber', random_state=101))])"
            ],
            "text/html": [
              "<style>#sk-container-id-3 {color: black;background-color: white;}#sk-container-id-3 pre{padding: 0;}#sk-container-id-3 div.sk-toggleable {background-color: white;}#sk-container-id-3 label.sk-toggleable__label {cursor: pointer;display: block;width: 100%;margin-bottom: 0;padding: 0.3em;box-sizing: border-box;text-align: center;}#sk-container-id-3 label.sk-toggleable__label-arrow:before {content: \"▸\";float: left;margin-right: 0.25em;color: #696969;}#sk-container-id-3 label.sk-toggleable__label-arrow:hover:before {color: black;}#sk-container-id-3 div.sk-estimator:hover label.sk-toggleable__label-arrow:before {color: black;}#sk-container-id-3 div.sk-toggleable__content {max-height: 0;max-width: 0;overflow: hidden;text-align: left;background-color: #f0f8ff;}#sk-container-id-3 div.sk-toggleable__content pre {margin: 0.2em;color: black;border-radius: 0.25em;background-color: #f0f8ff;}#sk-container-id-3 input.sk-toggleable__control:checked~div.sk-toggleable__content {max-height: 200px;max-width: 100%;overflow: auto;}#sk-container-id-3 input.sk-toggleable__control:checked~label.sk-toggleable__label-arrow:before {content: \"▾\";}#sk-container-id-3 div.sk-estimator input.sk-toggleable__control:checked~label.sk-toggleable__label {background-color: #d4ebff;}#sk-container-id-3 div.sk-label input.sk-toggleable__control:checked~label.sk-toggleable__label {background-color: #d4ebff;}#sk-container-id-3 input.sk-hidden--visually {border: 0;clip: rect(1px 1px 1px 1px);clip: rect(1px, 1px, 1px, 1px);height: 1px;margin: -1px;overflow: hidden;padding: 0;position: absolute;width: 1px;}#sk-container-id-3 div.sk-estimator {font-family: monospace;background-color: #f0f8ff;border: 1px dotted black;border-radius: 0.25em;box-sizing: border-box;margin-bottom: 0.5em;}#sk-container-id-3 div.sk-estimator:hover {background-color: #d4ebff;}#sk-container-id-3 div.sk-parallel-item::after {content: \"\";width: 100%;border-bottom: 1px solid gray;flex-grow: 1;}#sk-container-id-3 div.sk-label:hover label.sk-toggleable__label {background-color: #d4ebff;}#sk-container-id-3 div.sk-serial::before {content: \"\";position: absolute;border-left: 1px solid gray;box-sizing: border-box;top: 0;bottom: 0;left: 50%;z-index: 0;}#sk-container-id-3 div.sk-serial {display: flex;flex-direction: column;align-items: center;background-color: white;padding-right: 0.2em;padding-left: 0.2em;position: relative;}#sk-container-id-3 div.sk-item {position: relative;z-index: 1;}#sk-container-id-3 div.sk-parallel {display: flex;align-items: stretch;justify-content: center;background-color: white;position: relative;}#sk-container-id-3 div.sk-item::before, #sk-container-id-3 div.sk-parallel-item::before {content: \"\";position: absolute;border-left: 1px solid gray;box-sizing: border-box;top: 0;bottom: 0;left: 50%;z-index: -1;}#sk-container-id-3 div.sk-parallel-item {display: flex;flex-direction: column;z-index: 1;position: relative;background-color: white;}#sk-container-id-3 div.sk-parallel-item:first-child::after {align-self: flex-end;width: 50%;}#sk-container-id-3 div.sk-parallel-item:last-child::after {align-self: flex-start;width: 50%;}#sk-container-id-3 div.sk-parallel-item:only-child::after {width: 0;}#sk-container-id-3 div.sk-dashed-wrapped {border: 1px dashed gray;margin: 0 0.4em 0.5em 0.4em;box-sizing: border-box;padding-bottom: 0.4em;background-color: white;}#sk-container-id-3 div.sk-label label {font-family: monospace;font-weight: bold;display: inline-block;line-height: 1.2em;}#sk-container-id-3 div.sk-label-container {text-align: center;}#sk-container-id-3 div.sk-container {/* jupyter's `normalize.less` sets `[hidden] { display: none; }` but bootstrap.min.css set `[hidden] { display: none !important; }` so we also need the `!important` here to be able to override the default hidden behavior on the sphinx rendered scikit-learn.org. See: https://github.com/scikit-learn/scikit-learn/issues/21755 */display: inline-block !important;position: relative;}#sk-container-id-3 div.sk-text-repr-fallback {display: none;}</style><div id=\"sk-container-id-3\" class=\"sk-top-container\"><div class=\"sk-text-repr-fallback\"><pre>Pipeline(steps=[(&#x27;columntransformer&#x27;,\n",
              "                 ColumnTransformer(transformers=[(&#x27;one-hot-encoder&#x27;,\n",
              "                                                  OneHotEncoder(handle_unknown=&#x27;ignore&#x27;),\n",
              "                                                  Index([&#x27;gender&#x27;, &#x27;race/ethnicity&#x27;, &#x27;parental level of education&#x27;, &#x27;lunch&#x27;,\n",
              "       &#x27;test preparation course&#x27;],\n",
              "      dtype=&#x27;object&#x27;)),\n",
              "                                                 (&#x27;standard-scaler&#x27;,\n",
              "                                                  StandardScaler(),\n",
              "                                                  Index([&#x27;math score&#x27;, &#x27;reading score&#x27;, &#x27;writing score&#x27;], dtype=&#x27;object&#x27;))])),\n",
              "                (&#x27;sgdclassifier&#x27;,\n",
              "                 SGDClassifier(loss=&#x27;modified_huber&#x27;, random_state=101))])</pre><b>In a Jupyter environment, please rerun this cell to show the HTML representation or trust the notebook. <br />On GitHub, the HTML representation is unable to render, please try loading this page with nbviewer.org.</b></div><div class=\"sk-container\" hidden><div class=\"sk-item sk-dashed-wrapped\"><div class=\"sk-label-container\"><div class=\"sk-label sk-toggleable\"><input class=\"sk-toggleable__control sk-hidden--visually\" id=\"sk-estimator-id-15\" type=\"checkbox\" ><label for=\"sk-estimator-id-15\" class=\"sk-toggleable__label sk-toggleable__label-arrow\">Pipeline</label><div class=\"sk-toggleable__content\"><pre>Pipeline(steps=[(&#x27;columntransformer&#x27;,\n",
              "                 ColumnTransformer(transformers=[(&#x27;one-hot-encoder&#x27;,\n",
              "                                                  OneHotEncoder(handle_unknown=&#x27;ignore&#x27;),\n",
              "                                                  Index([&#x27;gender&#x27;, &#x27;race/ethnicity&#x27;, &#x27;parental level of education&#x27;, &#x27;lunch&#x27;,\n",
              "       &#x27;test preparation course&#x27;],\n",
              "      dtype=&#x27;object&#x27;)),\n",
              "                                                 (&#x27;standard-scaler&#x27;,\n",
              "                                                  StandardScaler(),\n",
              "                                                  Index([&#x27;math score&#x27;, &#x27;reading score&#x27;, &#x27;writing score&#x27;], dtype=&#x27;object&#x27;))])),\n",
              "                (&#x27;sgdclassifier&#x27;,\n",
              "                 SGDClassifier(loss=&#x27;modified_huber&#x27;, random_state=101))])</pre></div></div></div><div class=\"sk-serial\"><div class=\"sk-item sk-dashed-wrapped\"><div class=\"sk-label-container\"><div class=\"sk-label sk-toggleable\"><input class=\"sk-toggleable__control sk-hidden--visually\" id=\"sk-estimator-id-16\" type=\"checkbox\" ><label for=\"sk-estimator-id-16\" class=\"sk-toggleable__label sk-toggleable__label-arrow\">columntransformer: ColumnTransformer</label><div class=\"sk-toggleable__content\"><pre>ColumnTransformer(transformers=[(&#x27;one-hot-encoder&#x27;,\n",
              "                                 OneHotEncoder(handle_unknown=&#x27;ignore&#x27;),\n",
              "                                 Index([&#x27;gender&#x27;, &#x27;race/ethnicity&#x27;, &#x27;parental level of education&#x27;, &#x27;lunch&#x27;,\n",
              "       &#x27;test preparation course&#x27;],\n",
              "      dtype=&#x27;object&#x27;)),\n",
              "                                (&#x27;standard-scaler&#x27;, StandardScaler(),\n",
              "                                 Index([&#x27;math score&#x27;, &#x27;reading score&#x27;, &#x27;writing score&#x27;], dtype=&#x27;object&#x27;))])</pre></div></div></div><div class=\"sk-parallel\"><div class=\"sk-parallel-item\"><div class=\"sk-item\"><div class=\"sk-label-container\"><div class=\"sk-label sk-toggleable\"><input class=\"sk-toggleable__control sk-hidden--visually\" id=\"sk-estimator-id-17\" type=\"checkbox\" ><label for=\"sk-estimator-id-17\" class=\"sk-toggleable__label sk-toggleable__label-arrow\">one-hot-encoder</label><div class=\"sk-toggleable__content\"><pre>Index([&#x27;gender&#x27;, &#x27;race/ethnicity&#x27;, &#x27;parental level of education&#x27;, &#x27;lunch&#x27;,\n",
              "       &#x27;test preparation course&#x27;],\n",
              "      dtype=&#x27;object&#x27;)</pre></div></div></div><div class=\"sk-serial\"><div class=\"sk-item\"><div class=\"sk-estimator sk-toggleable\"><input class=\"sk-toggleable__control sk-hidden--visually\" id=\"sk-estimator-id-18\" type=\"checkbox\" ><label for=\"sk-estimator-id-18\" class=\"sk-toggleable__label sk-toggleable__label-arrow\">OneHotEncoder</label><div class=\"sk-toggleable__content\"><pre>OneHotEncoder(handle_unknown=&#x27;ignore&#x27;)</pre></div></div></div></div></div></div><div class=\"sk-parallel-item\"><div class=\"sk-item\"><div class=\"sk-label-container\"><div class=\"sk-label sk-toggleable\"><input class=\"sk-toggleable__control sk-hidden--visually\" id=\"sk-estimator-id-19\" type=\"checkbox\" ><label for=\"sk-estimator-id-19\" class=\"sk-toggleable__label sk-toggleable__label-arrow\">standard-scaler</label><div class=\"sk-toggleable__content\"><pre>Index([&#x27;math score&#x27;, &#x27;reading score&#x27;, &#x27;writing score&#x27;], dtype=&#x27;object&#x27;)</pre></div></div></div><div class=\"sk-serial\"><div class=\"sk-item\"><div class=\"sk-estimator sk-toggleable\"><input class=\"sk-toggleable__control sk-hidden--visually\" id=\"sk-estimator-id-20\" type=\"checkbox\" ><label for=\"sk-estimator-id-20\" class=\"sk-toggleable__label sk-toggleable__label-arrow\">StandardScaler</label><div class=\"sk-toggleable__content\"><pre>StandardScaler()</pre></div></div></div></div></div></div></div></div><div class=\"sk-item\"><div class=\"sk-estimator sk-toggleable\"><input class=\"sk-toggleable__control sk-hidden--visually\" id=\"sk-estimator-id-21\" type=\"checkbox\" ><label for=\"sk-estimator-id-21\" class=\"sk-toggleable__label sk-toggleable__label-arrow\">SGDClassifier</label><div class=\"sk-toggleable__content\"><pre>SGDClassifier(loss=&#x27;modified_huber&#x27;, random_state=101)</pre></div></div></div></div></div></div></div>"
            ]
          },
          "metadata": {},
          "execution_count": 77
        }
      ],
      "source": [
        "sgd_model.fit(x_train, y_train)"
      ],
      "id": "eb2c63f7"
    },
    {
      "cell_type": "code",
      "execution_count": 78,
      "metadata": {
        "execution": {
          "iopub.execute_input": "2021-10-19T07:14:11.085805Z",
          "iopub.status.busy": "2021-10-19T07:14:11.085069Z",
          "iopub.status.idle": "2021-10-19T07:14:11.093822Z",
          "shell.execute_reply": "2021-10-19T07:14:11.094335Z",
          "shell.execute_reply.started": "2021-10-19T07:13:04.198871Z"
        },
        "papermill": {
          "duration": 0.0462,
          "end_time": "2021-10-19T07:14:11.094543",
          "exception": false,
          "start_time": "2021-10-19T07:14:11.048343",
          "status": "completed"
        },
        "tags": [],
        "id": "7b97345c"
      },
      "outputs": [],
      "source": [
        "sgd_pred = sgd_model.predict(x_test)"
      ],
      "id": "7b97345c"
    },
    {
      "cell_type": "code",
      "execution_count": 84,
      "metadata": {
        "execution": {
          "iopub.execute_input": "2021-10-19T07:14:11.166931Z",
          "iopub.status.busy": "2021-10-19T07:14:11.166302Z",
          "iopub.status.idle": "2021-10-19T07:14:11.172497Z",
          "shell.execute_reply": "2021-10-19T07:14:11.172921Z",
          "shell.execute_reply.started": "2021-10-19T07:13:04.948496Z"
        },
        "papermill": {
          "duration": 0.043933,
          "end_time": "2021-10-19T07:14:11.173103",
          "exception": false,
          "start_time": "2021-10-19T07:14:11.129170",
          "status": "completed"
        },
        "tags": [],
        "id": "0e4fb44e",
        "outputId": "2da38a72-aad3-4dea-a41a-66ec914bb60b",
        "colab": {
          "base_uri": "https://localhost:8080/"
        }
      },
      "outputs": [
        {
          "output_type": "stream",
          "name": "stdout",
          "text": [
            "Accuracy of Stochastic Gradient Descent: 83.20\n"
          ]
        }
      ],
      "source": [
        "# evaluate predictions\n",
        "accuracy = accuracy_score(y_test, sgd_pred)\n",
        "print('Accuracy of Stochastic Gradient Descent: %.2f' % (accuracy*100))"
      ],
      "id": "0e4fb44e"
    },
    {
      "cell_type": "code",
      "execution_count": 80,
      "metadata": {
        "execution": {
          "iopub.execute_input": "2021-10-19T07:14:11.248487Z",
          "iopub.status.busy": "2021-10-19T07:14:11.247810Z",
          "iopub.status.idle": "2021-10-19T07:14:11.432805Z",
          "shell.execute_reply": "2021-10-19T07:14:11.433238Z",
          "shell.execute_reply.started": "2021-10-19T07:13:09.498347Z"
        },
        "papermill": {
          "duration": 0.225376,
          "end_time": "2021-10-19T07:14:11.433448",
          "exception": false,
          "start_time": "2021-10-19T07:14:11.208072",
          "status": "completed"
        },
        "tags": [],
        "id": "cba2d234",
        "outputId": "3a969d9a-34fd-4823-ab97-64bb199f08a8",
        "colab": {
          "base_uri": "https://localhost:8080/"
        }
      },
      "outputs": [
        {
          "output_type": "execute_result",
          "data": {
            "text/plain": [
              "{'fit_time': array([0.03342557, 0.03824019, 0.03229713, 0.0301528 , 0.03074145]),\n",
              " 'score_time': array([0.0071578 , 0.00662851, 0.0069859 , 0.00614405, 0.00685692]),\n",
              " 'test_score': array([0.755, 0.695, 0.585, 0.685, 0.605])}"
            ]
          },
          "metadata": {},
          "execution_count": 80
        }
      ],
      "source": [
        "#Evaluation with Cross Validation Accuracy\n",
        "\n",
        "cv_sgd = cross_validate(sgd_model, features, target, cv=5)\n",
        "cv_sgd"
      ],
      "id": "cba2d234"
    },
    {
      "cell_type": "code",
      "execution_count": 81,
      "metadata": {
        "execution": {
          "iopub.execute_input": "2021-10-19T07:14:11.506942Z",
          "iopub.status.busy": "2021-10-19T07:14:11.506234Z",
          "iopub.status.idle": "2021-10-19T07:14:11.508673Z",
          "shell.execute_reply": "2021-10-19T07:14:11.509138Z",
          "shell.execute_reply.started": "2021-10-19T07:13:11.025285Z"
        },
        "papermill": {
          "duration": 0.041748,
          "end_time": "2021-10-19T07:14:11.509303",
          "exception": false,
          "start_time": "2021-10-19T07:14:11.467555",
          "status": "completed"
        },
        "tags": [],
        "id": "fb7aee0a",
        "outputId": "8f3bb8f0-0e63-4dcc-c0a0-417af405eaae",
        "colab": {
          "base_uri": "https://localhost:8080/"
        }
      },
      "outputs": [
        {
          "output_type": "stream",
          "name": "stdout",
          "text": [
            "The mean cross-validation accuracy is: 0.665 +/- 0.062\n"
          ]
        }
      ],
      "source": [
        "scores = cv_sgd[\"test_score\"]\n",
        "print(\"The mean cross-validation accuracy is: \"\n",
        "      f\"{scores.mean():.3f} +/- {scores.std():.3f}\")"
      ],
      "id": "fb7aee0a"
    },
    {
      "cell_type": "markdown",
      "source": [
        "##Conclusion:\n",
        "This brings us to an end to the student’s performance prediction. Let us review our work. First, we started by defining our problem statement, looking into the algorithms we were going to use and the regression implementation pipeline. Then we moved on to practically implementing the identification and regression algorithms like Logistic Regression and other algorithms. Moving forward, we compared the performances of these models. Lastly, we built a logistic regression model that proved that it works best for student performance prediction problems.\n",
        "\n",
        "The key takeaways from this  student performance prediction are:\n",
        "\n",
        "Identification of student performance prediction is important for many institutions.\n",
        "Logistic regression gives better accuracy compared to other regression problems.\n",
        "Logistic regression is the best fit for the problem\n",
        "Logistics regression provides an accuracy of 96%, giving out the most accurate results."
      ],
      "metadata": {
        "id": "rmIyTMXw5ANy"
      },
      "id": "rmIyTMXw5ANy"
    },
    {
      "cell_type": "markdown",
      "source": [
        "###References - \n",
        "Dataset link - https://www.kaggle.com/code/raimiazeezbabatunde/student-performance-prediction/input\n",
        "Code Referencees - https://www.analyticsvidhya.com/blog/2023/04/student-performance-analysis-and-prediction/\n",
        "https://www.frontiersin.org/articles/10.3389/fpsyg.2021.698490/full\n"
      ],
      "metadata": {
        "id": "ZMMRjBIL5AKI"
      },
      "id": "ZMMRjBIL5AKI"
    }
  ],
  "metadata": {
    "kernelspec": {
      "display_name": "Python 3",
      "language": "python",
      "name": "python3"
    },
    "language_info": {
      "codemirror_mode": {
        "name": "ipython",
        "version": 3
      },
      "file_extension": ".py",
      "mimetype": "text/x-python",
      "name": "python",
      "nbconvert_exporter": "python",
      "pygments_lexer": "ipython3",
      "version": "3.7.12"
    },
    "papermill": {
      "default_parameters": {},
      "duration": 22.956701,
      "end_time": "2023-04-15T14:32:05.923609",
      "environment_variables": {},
      "exception": null,
      "input_path": "__notebook__.ipynb",
      "output_path": "__notebook__.ipynb",
      "parameters": {},
      "start_time": "2023-04-15T14:31:42.966908",
      "version": "2.4.0"
    },
    "colab": {
      "provenance": []
    }
  },
  "nbformat": 4,
  "nbformat_minor": 5
}